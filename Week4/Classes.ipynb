{
 "cells": [
  {
   "cell_type": "markdown",
   "metadata": {},
   "source": [
    "## Classes"
   ]
  },
  {
   "cell_type": "code",
   "execution_count": null,
   "metadata": {},
   "outputs": [],
   "source": [
    "class Person:\n",
    "    \n",
    "    def __init__(self, name, life, jump_length=5):\n",
    "        self.name = name\n",
    "        self.life = life\n",
    "        self.jump_length = jump_length\n",
    "        \n",
    "    def walk(self):\n",
    "        print (self.name + ' is walking')\n",
    "        \n",
    "    def jump(self):\n",
    "        print (self.name + ' jumped by ' + str(self.jump_length) )\n",
    "        \n",
    "    def jump_by(self, height):\n",
    "        print (self.name + ' jumped by ' + str(height) )\n",
    "        \n",
    "    def say_hi_to(self, person):\n",
    "        print(self.name + ' said hi to ' + person.name)\n"
   ]
  },
  {
   "cell_type": "code",
   "execution_count": null,
   "metadata": {},
   "outputs": [],
   "source": [
    "mario = Person('Mario', 1970)"
   ]
  },
  {
   "cell_type": "code",
   "execution_count": null,
   "metadata": {},
   "outputs": [],
   "source": [
    "mario.walk()\n",
    "mario.jump()\n",
    "mario.jump_by(50)"
   ]
  },
  {
   "cell_type": "code",
   "execution_count": null,
   "metadata": {},
   "outputs": [],
   "source": [
    "luigi = Person('Luigi', 1990)\n",
    "\n",
    "mario.say_hi_to(luigi)"
   ]
  },
  {
   "cell_type": "code",
   "execution_count": null,
   "metadata": {},
   "outputs": [],
   "source": [
    "# Well let's mock up a game"
   ]
  },
  {
   "cell_type": "code",
   "execution_count": null,
   "metadata": {},
   "outputs": [],
   "source": [
    "class Weapon:\n",
    "    \n",
    "    def __init__(self, name, power=1):\n",
    "        self.name = name\n",
    "        self.power = 1\n",
    "        \n"
   ]
  },
  {
   "cell_type": "code",
   "execution_count": null,
   "metadata": {},
   "outputs": [],
   "source": [
    "class Soldier:\n",
    "    def __init__(self, name, weapon, life = 100):\n",
    "        \n",
    "        self.name = name\n",
    "        self.weapon = weapon\n",
    "        # self.armor = armor # I was gonna go fancy but I changed my mind :) \n",
    "        self.life = life\n",
    "        \n",
    "    def shoot_at(self, enemy):\n",
    "        \n",
    "        print(f'{self.name} is shooting at {enemy.name} with a {self.weapon.name} ({str(self.weapon.power)})')"
   ]
  },
  {
   "cell_type": "code",
   "execution_count": null,
   "metadata": {},
   "outputs": [],
   "source": [
    "arrow1 = Weapon('Short Bow', 1)\n",
    "arrow2 = Weapon('Short Bow', 1)\n",
    "\n",
    "soldier1 = Soldier('SoldierA', arrow1)\n",
    "soldier2 = Soldier('SoldierB', arrow2)"
   ]
  },
  {
   "cell_type": "code",
   "execution_count": null,
   "metadata": {},
   "outputs": [],
   "source": [
    "soldier1.shoot_at(soldier2)"
   ]
  },
  {
   "cell_type": "code",
   "execution_count": null,
   "metadata": {},
   "outputs": [],
   "source": [
    "soldier2.shoot_at(soldier1)"
   ]
  },
  {
   "cell_type": "code",
   "execution_count": null,
   "metadata": {},
   "outputs": [],
   "source": []
  },
  {
   "cell_type": "code",
   "execution_count": null,
   "metadata": {},
   "outputs": [],
   "source": [
    "import re\n",
    "\n",
    "class DataCleaner:\n",
    "    \n",
    "    def __init__(self, df, removal_text):\n",
    "        \"\"\"\n",
    "        cleans dataframe\n",
    "        \"\"\"\n",
    "        self.df = df\n",
    "        self.replacement_text = removal_text\n",
    "        \n",
    "    def clean_ssn(self, text):\n",
    "        text_after = re.sub(r'\\d{3}-\\d{2}-\\d{4}', self.replacement_text, text)\n",
    "        return text_after\n",
    "        \n",
    "    def clean_column(self, column_name):\n",
    "        df = self.df\n",
    "        return [ self.clean_ssn(text) for text in df[column_name] ]\n",
    "    \n",
    "    def clean_column_and_update(self, column_name):\n",
    "        \n",
    "        new_values = self.clean_column(column_name)\n",
    "        \n",
    "        self.df[column_name] = new_values"
   ]
  },
  {
   "cell_type": "code",
   "execution_count": null,
   "metadata": {},
   "outputs": [],
   "source": [
    "import pandas as pd"
   ]
  },
  {
   "cell_type": "code",
   "execution_count": null,
   "metadata": {},
   "outputs": [],
   "source": [
    "df = pd.DataFrame()\n",
    "df['SSN'] = [ f'222-11-33{str(i)} is the ssn number' for i in range(10, 30) ]"
   ]
  },
  {
   "cell_type": "code",
   "execution_count": null,
   "metadata": {},
   "outputs": [],
   "source": [
    "df.head()"
   ]
  },
  {
   "cell_type": "code",
   "execution_count": null,
   "metadata": {},
   "outputs": [],
   "source": [
    "cleaner = DataCleaner(df, '[removed]')\n",
    "\n",
    "cleaner.clean_column('SSN')"
   ]
  },
  {
   "cell_type": "code",
   "execution_count": null,
   "metadata": {},
   "outputs": [],
   "source": [
    "df.head()"
   ]
  },
  {
   "cell_type": "code",
   "execution_count": null,
   "metadata": {},
   "outputs": [],
   "source": [
    "cleaner.clean_column_and_update('SSN')"
   ]
  },
  {
   "cell_type": "code",
   "execution_count": null,
   "metadata": {},
   "outputs": [],
   "source": [
    "df.head()"
   ]
  },
  {
   "cell_type": "code",
   "execution_count": null,
   "metadata": {},
   "outputs": [],
   "source": []
  }
 ],
 "metadata": {
  "kernelspec": {
   "display_name": "Python 3",
   "language": "python",
   "name": "python3"
  },
  "language_info": {
   "codemirror_mode": {
    "name": "ipython",
    "version": 3
   },
   "file_extension": ".py",
   "mimetype": "text/x-python",
   "name": "python",
   "nbconvert_exporter": "python",
   "pygments_lexer": "ipython3",
   "version": "3.7.4"
  },
  "varInspector": {
   "cols": {
    "lenName": 16,
    "lenType": 16,
    "lenVar": 40
   },
   "kernels_config": {
    "python": {
     "delete_cmd_postfix": "",
     "delete_cmd_prefix": "del ",
     "library": "var_list.py",
     "varRefreshCmd": "print(var_dic_list())"
    },
    "r": {
     "delete_cmd_postfix": ") ",
     "delete_cmd_prefix": "rm(",
     "library": "var_list.r",
     "varRefreshCmd": "cat(var_dic_list()) "
    }
   },
   "types_to_exclude": [
    "module",
    "function",
    "builtin_function_or_method",
    "instance",
    "_Feature"
   ],
   "window_display": false
  }
 },
 "nbformat": 4,
 "nbformat_minor": 2
}

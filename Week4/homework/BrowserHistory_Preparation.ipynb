{
 "cells": [
  {
   "cell_type": "code",
   "execution_count": 1,
   "metadata": {},
   "outputs": [],
   "source": [
    "# !pip install browserhistory"
   ]
  },
  {
   "cell_type": "code",
   "execution_count": 2,
   "metadata": {},
   "outputs": [],
   "source": [
    "# import browserhistory as bh"
   ]
  },
  {
   "cell_type": "code",
   "execution_count": 3,
   "metadata": {},
   "outputs": [],
   "source": [
    "# dict_obj = bh.get_browserhistory()\n",
    "# bh.write_browserhistory_csv()"
   ]
  },
  {
   "cell_type": "code",
   "execution_count": 4,
   "metadata": {},
   "outputs": [],
   "source": [
    "import pandas as pd"
   ]
  },
  {
   "cell_type": "code",
   "execution_count": 5,
   "metadata": {},
   "outputs": [],
   "source": [
    "df = pd.read_csv('chrome_history.csv', header=None, names=['Site','Title', 'Time'])"
   ]
  },
  {
   "cell_type": "code",
   "execution_count": 6,
   "metadata": {},
   "outputs": [
    {
     "data": {
      "text/html": [
       "<div>\n",
       "<style scoped>\n",
       "    .dataframe tbody tr th:only-of-type {\n",
       "        vertical-align: middle;\n",
       "    }\n",
       "\n",
       "    .dataframe tbody tr th {\n",
       "        vertical-align: top;\n",
       "    }\n",
       "\n",
       "    .dataframe thead th {\n",
       "        text-align: right;\n",
       "    }\n",
       "</style>\n",
       "<table border=\"1\" class=\"dataframe\">\n",
       "  <thead>\n",
       "    <tr style=\"text-align: right;\">\n",
       "      <th></th>\n",
       "      <th>Site</th>\n",
       "      <th>Title</th>\n",
       "      <th>Time</th>\n",
       "    </tr>\n",
       "  </thead>\n",
       "  <tbody>\n",
       "    <tr>\n",
       "      <td>0</td>\n",
       "      <td>https://www.facebook.com/</td>\n",
       "      <td>Facebook</td>\n",
       "      <td>2021-02-10 09:40:56</td>\n",
       "    </tr>\n",
       "    <tr>\n",
       "      <td>1</td>\n",
       "      <td>https://invest.ameritrade.com/grid/p/logout?ti...</td>\n",
       "      <td>TD Ameritrade Login</td>\n",
       "      <td>2021-02-10 09:30:01</td>\n",
       "    </tr>\n",
       "    <tr>\n",
       "      <td>2</td>\n",
       "      <td>https://stackoverflow.com/questions/4572153/os...</td>\n",
       "      <td>macos - OS X: equivalent of Linux's wget - Sta...</td>\n",
       "      <td>2021-02-09 23:33:46</td>\n",
       "    </tr>\n",
       "    <tr>\n",
       "      <td>3</td>\n",
       "      <td>https://www.google.com/search?q=wget+macos&amp;oq=...</td>\n",
       "      <td>wget macos - Google Search</td>\n",
       "      <td>2021-02-09 23:33:45</td>\n",
       "    </tr>\n",
       "    <tr>\n",
       "      <td>4</td>\n",
       "      <td>https://hangouts.google.com/webchat/u/0/load?c...</td>\n",
       "      <td>NaN</td>\n",
       "      <td>2021-02-09 23:12:28</td>\n",
       "    </tr>\n",
       "  </tbody>\n",
       "</table>\n",
       "</div>"
      ],
      "text/plain": [
       "                                                Site  \\\n",
       "0                          https://www.facebook.com/   \n",
       "1  https://invest.ameritrade.com/grid/p/logout?ti...   \n",
       "2  https://stackoverflow.com/questions/4572153/os...   \n",
       "3  https://www.google.com/search?q=wget+macos&oq=...   \n",
       "4  https://hangouts.google.com/webchat/u/0/load?c...   \n",
       "\n",
       "                                               Title                 Time  \n",
       "0                                           Facebook  2021-02-10 09:40:56  \n",
       "1                                TD Ameritrade Login  2021-02-10 09:30:01  \n",
       "2  macos - OS X: equivalent of Linux's wget - Sta...  2021-02-09 23:33:46  \n",
       "3                         wget macos - Google Search  2021-02-09 23:33:45  \n",
       "4                                                NaN  2021-02-09 23:12:28  "
      ]
     },
     "execution_count": 6,
     "metadata": {},
     "output_type": "execute_result"
    }
   ],
   "source": [
    "df.head()"
   ]
  },
  {
   "cell_type": "code",
   "execution_count": 7,
   "metadata": {},
   "outputs": [
    {
     "data": {
      "text/html": [
       "<div>\n",
       "<style scoped>\n",
       "    .dataframe tbody tr th:only-of-type {\n",
       "        vertical-align: middle;\n",
       "    }\n",
       "\n",
       "    .dataframe tbody tr th {\n",
       "        vertical-align: top;\n",
       "    }\n",
       "\n",
       "    .dataframe thead th {\n",
       "        text-align: right;\n",
       "    }\n",
       "</style>\n",
       "<table border=\"1\" class=\"dataframe\">\n",
       "  <thead>\n",
       "    <tr style=\"text-align: right;\">\n",
       "      <th></th>\n",
       "      <th>Site</th>\n",
       "      <th>Title</th>\n",
       "      <th>Time</th>\n",
       "    </tr>\n",
       "  </thead>\n",
       "  <tbody>\n",
       "    <tr>\n",
       "      <td>10508</td>\n",
       "      <td>https://stackblitz.com/edit/ng-virus-spread-dq...</td>\n",
       "      <td>StackBlitz</td>\n",
       "      <td>1600-12-31 19:00:00</td>\n",
       "    </tr>\n",
       "    <tr>\n",
       "      <td>10509</td>\n",
       "      <td>https://docs.google.com/spreadsheets/d/1hWbXCC...</td>\n",
       "      <td>Saving Limits - Google Sheets</td>\n",
       "      <td>1600-12-31 19:00:00</td>\n",
       "    </tr>\n",
       "    <tr>\n",
       "      <td>10510</td>\n",
       "      <td>https://sites.google.com/umbc.edu/data606/summ...</td>\n",
       "      <td>DATA 606 - Summer 2020</td>\n",
       "      <td>1600-12-31 19:00:00</td>\n",
       "    </tr>\n",
       "    <tr>\n",
       "      <td>10511</td>\n",
       "      <td>https://onema.io/blog/scikit-learn-layer-for-a...</td>\n",
       "      <td>Creating a Scikit Learn Layer for AWS Lambda</td>\n",
       "      <td>1600-12-31 19:00:00</td>\n",
       "    </tr>\n",
       "    <tr>\n",
       "      <td>10512</td>\n",
       "      <td>https://towardsdatascience.com/hosting-your-ml...</td>\n",
       "      <td>Hosting your ML model on AWS Lambdas + API Gat...</td>\n",
       "      <td>1600-12-31 19:00:00</td>\n",
       "    </tr>\n",
       "  </tbody>\n",
       "</table>\n",
       "</div>"
      ],
      "text/plain": [
       "                                                    Site  \\\n",
       "10508  https://stackblitz.com/edit/ng-virus-spread-dq...   \n",
       "10509  https://docs.google.com/spreadsheets/d/1hWbXCC...   \n",
       "10510  https://sites.google.com/umbc.edu/data606/summ...   \n",
       "10511  https://onema.io/blog/scikit-learn-layer-for-a...   \n",
       "10512  https://towardsdatascience.com/hosting-your-ml...   \n",
       "\n",
       "                                                   Title                 Time  \n",
       "10508                                         StackBlitz  1600-12-31 19:00:00  \n",
       "10509                      Saving Limits - Google Sheets  1600-12-31 19:00:00  \n",
       "10510                             DATA 606 - Summer 2020  1600-12-31 19:00:00  \n",
       "10511       Creating a Scikit Learn Layer for AWS Lambda  1600-12-31 19:00:00  \n",
       "10512  Hosting your ML model on AWS Lambdas + API Gat...  1600-12-31 19:00:00  "
      ]
     },
     "execution_count": 7,
     "metadata": {},
     "output_type": "execute_result"
    }
   ],
   "source": [
    "df.tail()"
   ]
  },
  {
   "cell_type": "code",
   "execution_count": 8,
   "metadata": {},
   "outputs": [
    {
     "data": {
      "text/plain": [
       "Site       0\n",
       "Title    443\n",
       "Time       0\n",
       "dtype: int64"
      ]
     },
     "execution_count": 8,
     "metadata": {},
     "output_type": "execute_result"
    }
   ],
   "source": [
    "df.isna().sum()"
   ]
  },
  {
   "cell_type": "code",
   "execution_count": 9,
   "metadata": {},
   "outputs": [
    {
     "name": "stdout",
     "output_type": "stream",
     "text": [
      "www.example.test\n",
      "www.test.com.eu\n"
     ]
    }
   ],
   "source": [
    "from urllib.parse import urlparse\n",
    "\n",
    "print(urlparse('http://www.example.test/foo/bar').netloc) # --> www.example.test\n",
    "print(urlparse('http://www.test.com.eu/ters').netloc) # --> www.example.test"
   ]
  },
  {
   "cell_type": "code",
   "execution_count": 10,
   "metadata": {},
   "outputs": [],
   "source": [
    "def get_domain(url):\n",
    "    domain = urlparse(url).netloc\n",
    " \n",
    "    return domain\n",
    "        "
   ]
  },
  {
   "cell_type": "code",
   "execution_count": 11,
   "metadata": {},
   "outputs": [],
   "source": [
    "df['domain'] = [ get_domain(s)  for s in df['Site'] ]"
   ]
  },
  {
   "cell_type": "code",
   "execution_count": 12,
   "metadata": {
    "scrolled": false
   },
   "outputs": [],
   "source": [
    "df.drop('Site', axis=1, inplace=True) # drop Site column & update the current df object\n",
    "df.drop('Title', axis=1, inplace=True) # drop Site column & update the current df object"
   ]
  },
  {
   "cell_type": "code",
   "execution_count": 13,
   "metadata": {},
   "outputs": [
    {
     "data": {
      "text/plain": [
       "0              www.facebook.com\n",
       "1         invest.ameritrade.com\n",
       "2             stackoverflow.com\n",
       "3                www.google.com\n",
       "4           hangouts.google.com\n",
       "                  ...          \n",
       "10508            stackblitz.com\n",
       "10509           docs.google.com\n",
       "10510          sites.google.com\n",
       "10511                  onema.io\n",
       "10512    towardsdatascience.com\n",
       "Name: domain, Length: 10513, dtype: object"
      ]
     },
     "execution_count": 13,
     "metadata": {},
     "output_type": "execute_result"
    }
   ],
   "source": [
    "df['domain']"
   ]
  },
  {
   "cell_type": "code",
   "execution_count": null,
   "metadata": {},
   "outputs": [],
   "source": []
  },
  {
   "cell_type": "code",
   "execution_count": 14,
   "metadata": {},
   "outputs": [],
   "source": [
    "# clean data if you need to!!!!! \n",
    "\n"
   ]
  },
  {
   "cell_type": "code",
   "execution_count": 15,
   "metadata": {},
   "outputs": [],
   "source": [
    "# write to csv with a different name\n",
    "\n",
    "df.to_csv('history_cleaned.csv', index=False)"
   ]
  },
  {
   "cell_type": "markdown",
   "metadata": {},
   "source": [
    "## DO NOT COMMIT THIS NOTEBOOK or `chrome_history.csv` !!!"
   ]
  },
  {
   "cell_type": "code",
   "execution_count": null,
   "metadata": {},
   "outputs": [],
   "source": []
  }
 ],
 "metadata": {
  "kernelspec": {
   "display_name": "Python 3",
   "language": "python",
   "name": "python3"
  },
  "language_info": {
   "codemirror_mode": {
    "name": "ipython",
    "version": 3
   },
   "file_extension": ".py",
   "mimetype": "text/x-python",
   "name": "python",
   "nbconvert_exporter": "python",
   "pygments_lexer": "ipython3",
   "version": "3.7.4"
  },
  "varInspector": {
   "cols": {
    "lenName": 16,
    "lenType": 16,
    "lenVar": 40
   },
   "kernels_config": {
    "python": {
     "delete_cmd_postfix": "",
     "delete_cmd_prefix": "del ",
     "library": "var_list.py",
     "varRefreshCmd": "print(var_dic_list())"
    },
    "r": {
     "delete_cmd_postfix": ") ",
     "delete_cmd_prefix": "rm(",
     "library": "var_list.r",
     "varRefreshCmd": "cat(var_dic_list()) "
    }
   },
   "types_to_exclude": [
    "module",
    "function",
    "builtin_function_or_method",
    "instance",
    "_Feature"
   ],
   "window_display": false
  }
 },
 "nbformat": 4,
 "nbformat_minor": 2
}

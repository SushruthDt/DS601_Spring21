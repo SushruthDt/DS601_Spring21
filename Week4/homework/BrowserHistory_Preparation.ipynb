{
 "cells": [
  {
   "cell_type": "code",
   "execution_count": 1,
   "metadata": {},
   "outputs": [],
   "source": [
    "#!pip install browserhistory"
   ]
  },
  {
   "cell_type": "code",
   "execution_count": 2,
   "metadata": {},
   "outputs": [],
   "source": [
    "import browserhistory as bh"
   ]
  },
  {
   "cell_type": "code",
   "execution_count": 3,
   "metadata": {},
   "outputs": [],
   "source": [
    "dict_obj = bh.get_browserhistory()\n",
    "bh.write_browserhistory_csv()"
   ]
  },
  {
   "cell_type": "code",
   "execution_count": 4,
   "metadata": {},
   "outputs": [],
   "source": [
    "import pandas as pd"
   ]
  },
  {
   "cell_type": "code",
   "execution_count": 5,
   "metadata": {},
   "outputs": [],
   "source": [
    "df = pd.read_csv('chrome_history.csv', header=None, names=['Site','Title', 'Time'])"
   ]
  },
  {
   "cell_type": "code",
   "execution_count": 6,
   "metadata": {},
   "outputs": [
    {
     "data": {
      "text/html": [
       "<div>\n",
       "<style scoped>\n",
       "    .dataframe tbody tr th:only-of-type {\n",
       "        vertical-align: middle;\n",
       "    }\n",
       "\n",
       "    .dataframe tbody tr th {\n",
       "        vertical-align: top;\n",
       "    }\n",
       "\n",
       "    .dataframe thead th {\n",
       "        text-align: right;\n",
       "    }\n",
       "</style>\n",
       "<table border=\"1\" class=\"dataframe\">\n",
       "  <thead>\n",
       "    <tr style=\"text-align: right;\">\n",
       "      <th></th>\n",
       "      <th>Site</th>\n",
       "      <th>Title</th>\n",
       "      <th>Time</th>\n",
       "    </tr>\n",
       "  </thead>\n",
       "  <tbody>\n",
       "    <tr>\n",
       "      <th>0</th>\n",
       "      <td>http://localhost:8890/tree</td>\n",
       "      <td>Home</td>\n",
       "      <td>2021-02-21 23:53:49</td>\n",
       "    </tr>\n",
       "    <tr>\n",
       "      <th>1</th>\n",
       "      <td>http://localhost:8890/tree?token=dfe2097fae2a2...</td>\n",
       "      <td>Home</td>\n",
       "      <td>2021-02-21 23:53:49</td>\n",
       "    </tr>\n",
       "    <tr>\n",
       "      <th>2</th>\n",
       "      <td>http://localhost:8890/tree?token=566e6a4050210...</td>\n",
       "      <td>Home</td>\n",
       "      <td>2021-02-21 23:53:05</td>\n",
       "    </tr>\n",
       "    <tr>\n",
       "      <th>3</th>\n",
       "      <td>http://localhost:8890/notebooks/Documents/GitH...</td>\n",
       "      <td>BrowserHistory_Preparation</td>\n",
       "      <td>2021-02-21 23:49:06</td>\n",
       "    </tr>\n",
       "    <tr>\n",
       "      <th>4</th>\n",
       "      <td>http://localhost:8890/tree/Documents/GitHub/DS...</td>\n",
       "      <td>Documents/GitHub/DS601_Spring21/Week4/homework/</td>\n",
       "      <td>2021-02-21 23:49:02</td>\n",
       "    </tr>\n",
       "  </tbody>\n",
       "</table>\n",
       "</div>"
      ],
      "text/plain": [
       "                                                Site  \\\n",
       "0                         http://localhost:8890/tree   \n",
       "1  http://localhost:8890/tree?token=dfe2097fae2a2...   \n",
       "2  http://localhost:8890/tree?token=566e6a4050210...   \n",
       "3  http://localhost:8890/notebooks/Documents/GitH...   \n",
       "4  http://localhost:8890/tree/Documents/GitHub/DS...   \n",
       "\n",
       "                                             Title                 Time  \n",
       "0                                             Home  2021-02-21 23:53:49  \n",
       "1                                             Home  2021-02-21 23:53:49  \n",
       "2                                             Home  2021-02-21 23:53:05  \n",
       "3                       BrowserHistory_Preparation  2021-02-21 23:49:06  \n",
       "4  Documents/GitHub/DS601_Spring21/Week4/homework/  2021-02-21 23:49:02  "
      ]
     },
     "execution_count": 6,
     "metadata": {},
     "output_type": "execute_result"
    }
   ],
   "source": [
    "df.head()"
   ]
  },
  {
   "cell_type": "code",
   "execution_count": 7,
   "metadata": {},
   "outputs": [
    {
     "data": {
      "text/html": [
       "<div>\n",
       "<style scoped>\n",
       "    .dataframe tbody tr th:only-of-type {\n",
       "        vertical-align: middle;\n",
       "    }\n",
       "\n",
       "    .dataframe tbody tr th {\n",
       "        vertical-align: top;\n",
       "    }\n",
       "\n",
       "    .dataframe thead th {\n",
       "        text-align: right;\n",
       "    }\n",
       "</style>\n",
       "<table border=\"1\" class=\"dataframe\">\n",
       "  <thead>\n",
       "    <tr style=\"text-align: right;\">\n",
       "      <th></th>\n",
       "      <th>Site</th>\n",
       "      <th>Title</th>\n",
       "      <th>Time</th>\n",
       "    </tr>\n",
       "  </thead>\n",
       "  <tbody>\n",
       "    <tr>\n",
       "      <th>9183</th>\n",
       "      <td>https://scikit-learn.org/stable/user_guide.html</td>\n",
       "      <td>User guide: contents — scikit-learn 0.23.1 doc...</td>\n",
       "      <td>1600-12-31 19:00:00</td>\n",
       "    </tr>\n",
       "    <tr>\n",
       "      <th>9184</th>\n",
       "      <td>https://www.freecodecamp.org/news/ivy-league-f...</td>\n",
       "      <td>Here are 450 Ivy League courses you can take o...</td>\n",
       "      <td>1600-12-31 19:00:00</td>\n",
       "    </tr>\n",
       "    <tr>\n",
       "      <th>9185</th>\n",
       "      <td>file:///C:/Users/lenovo/Downloads/Wes_McKinney...</td>\n",
       "      <td>Python for Data Analysis</td>\n",
       "      <td>1600-12-31 19:00:00</td>\n",
       "    </tr>\n",
       "    <tr>\n",
       "      <th>9186</th>\n",
       "      <td>https://tableausoftware.cvent.com/events/table...</td>\n",
       "      <td>Tableau Desktop Specialist Exam Readiness - Re...</td>\n",
       "      <td>1600-12-31 19:00:00</td>\n",
       "    </tr>\n",
       "    <tr>\n",
       "      <th>9187</th>\n",
       "      <td>https://cgifederal.secure.force.com/?language=...</td>\n",
       "      <td>cgifederal.secure.force.com</td>\n",
       "      <td>1600-12-31 19:00:00</td>\n",
       "    </tr>\n",
       "  </tbody>\n",
       "</table>\n",
       "</div>"
      ],
      "text/plain": [
       "                                                   Site  \\\n",
       "9183    https://scikit-learn.org/stable/user_guide.html   \n",
       "9184  https://www.freecodecamp.org/news/ivy-league-f...   \n",
       "9185  file:///C:/Users/lenovo/Downloads/Wes_McKinney...   \n",
       "9186  https://tableausoftware.cvent.com/events/table...   \n",
       "9187  https://cgifederal.secure.force.com/?language=...   \n",
       "\n",
       "                                                  Title                 Time  \n",
       "9183  User guide: contents — scikit-learn 0.23.1 doc...  1600-12-31 19:00:00  \n",
       "9184  Here are 450 Ivy League courses you can take o...  1600-12-31 19:00:00  \n",
       "9185                           Python for Data Analysis  1600-12-31 19:00:00  \n",
       "9186  Tableau Desktop Specialist Exam Readiness - Re...  1600-12-31 19:00:00  \n",
       "9187                        cgifederal.secure.force.com  1600-12-31 19:00:00  "
      ]
     },
     "execution_count": 7,
     "metadata": {},
     "output_type": "execute_result"
    }
   ],
   "source": [
    "df.tail()"
   ]
  },
  {
   "cell_type": "code",
   "execution_count": 8,
   "metadata": {},
   "outputs": [
    {
     "data": {
      "text/plain": [
       "Site        0\n",
       "Title    1933\n",
       "Time        0\n",
       "dtype: int64"
      ]
     },
     "execution_count": 8,
     "metadata": {},
     "output_type": "execute_result"
    }
   ],
   "source": [
    "df.isna().sum()"
   ]
  },
  {
   "cell_type": "code",
   "execution_count": 9,
   "metadata": {},
   "outputs": [
    {
     "name": "stdout",
     "output_type": "stream",
     "text": [
      "www.example.test\n",
      "www.test.com.eu\n"
     ]
    }
   ],
   "source": [
    "from urllib.parse import urlparse\n",
    "\n",
    "print(urlparse('http://www.example.test/foo/bar').netloc) # --> www.example.test\n",
    "print(urlparse('http://www.test.com.eu/ters').netloc) # --> www.example.test"
   ]
  },
  {
   "cell_type": "code",
   "execution_count": 10,
   "metadata": {},
   "outputs": [],
   "source": [
    "def get_domain(url):\n",
    "    domain = urlparse(url).netloc\n",
    " \n",
    "    return domain\n",
    "        "
   ]
  },
  {
   "cell_type": "code",
   "execution_count": 11,
   "metadata": {},
   "outputs": [],
   "source": [
    "df['domain'] = [ get_domain(s)  for s in df['Site'] ]"
   ]
  },
  {
   "cell_type": "code",
   "execution_count": 12,
   "metadata": {
    "scrolled": false
   },
   "outputs": [],
   "source": [
    "df.drop('Site', axis=1, inplace=True) # drop Site column & update the current df object\n",
    "df.drop('Title', axis=1, inplace=True) # drop Site column & update the current df object"
   ]
  },
  {
   "cell_type": "code",
   "execution_count": 13,
   "metadata": {},
   "outputs": [
    {
     "data": {
      "text/plain": [
       "0                          localhost:8890\n",
       "1                          localhost:8890\n",
       "2                          localhost:8890\n",
       "3                          localhost:8890\n",
       "4                          localhost:8890\n",
       "5                          localhost:8890\n",
       "6                          localhost:8890\n",
       "7                          localhost:8890\n",
       "8                          localhost:8890\n",
       "9                          localhost:8890\n",
       "10                         localhost:8890\n",
       "11                         localhost:8890\n",
       "12                         localhost:8889\n",
       "13                         localhost:8889\n",
       "14                         localhost:8889\n",
       "15                         localhost:8889\n",
       "16                         localhost:8889\n",
       "17                         localhost:8889\n",
       "18                         localhost:8889\n",
       "19                         localhost:8889\n",
       "20                         localhost:8889\n",
       "21                         127.0.0.1:8888\n",
       "22                         127.0.0.1:8888\n",
       "23                         127.0.0.1:8888\n",
       "24        jupyter-notebook.readthedocs.io\n",
       "25                         localhost:8888\n",
       "26                         localhost:8888\n",
       "27                         localhost:8888\n",
       "28                         localhost:8888\n",
       "29                         localhost:8888\n",
       "                      ...                \n",
       "9158           www.datasciencecentral.com\n",
       "9159                  www.datascience.com\n",
       "9160                  canvas.uchicago.edu\n",
       "9161                            rpubs.com\n",
       "9162                           github.com\n",
       "9163                        bambielli.com\n",
       "9164                    pandas.pydata.org\n",
       "9165                 elitedatascience.com\n",
       "9166                       stackabuse.com\n",
       "9167                           github.com\n",
       "9168    piazza-resources.s3.amazonaws.com\n",
       "9169                      www-bcf.usc.edu\n",
       "9170                                     \n",
       "9171                                     \n",
       "9172                     web.stanford.edu\n",
       "9173            www.philiposbornedata.com\n",
       "9174             www.smashingmagazine.com\n",
       "9175                     www.hiration.com\n",
       "9176                myemail.accenture.com\n",
       "9177                  email.accenture.com\n",
       "9178                                     \n",
       "9179                    www.kdnuggets.com\n",
       "9180                 www.learndatasci.com\n",
       "9181                     math.ecnu.edu.cn\n",
       "9182                      pdf.zlibcdn.com\n",
       "9183                     scikit-learn.org\n",
       "9184                 www.freecodecamp.org\n",
       "9185                                     \n",
       "9186            tableausoftware.cvent.com\n",
       "9187          cgifederal.secure.force.com\n",
       "Name: domain, Length: 9188, dtype: object"
      ]
     },
     "execution_count": 13,
     "metadata": {},
     "output_type": "execute_result"
    }
   ],
   "source": [
    "df['domain']"
   ]
  },
  {
   "cell_type": "code",
   "execution_count": null,
   "metadata": {},
   "outputs": [],
   "source": []
  },
  {
   "cell_type": "code",
   "execution_count": 14,
   "metadata": {},
   "outputs": [],
   "source": [
    "# clean data if you need to!!!!! \n",
    "\n"
   ]
  },
  {
   "cell_type": "code",
   "execution_count": 15,
   "metadata": {},
   "outputs": [],
   "source": [
    "# write to csv with a different name\n",
    "\n",
    "df.to_csv('history_cleaned.csv', index=False)"
   ]
  },
  {
   "cell_type": "markdown",
   "metadata": {},
   "source": [
    "## DO NOT COMMIT THIS NOTEBOOK or `chrome_history.csv` !!!"
   ]
  },
  {
   "cell_type": "code",
   "execution_count": null,
   "metadata": {},
   "outputs": [],
   "source": []
  }
 ],
 "metadata": {
  "kernelspec": {
   "display_name": "Python 3",
   "language": "python",
   "name": "python3"
  },
  "language_info": {
   "codemirror_mode": {
    "name": "ipython",
    "version": 3
   },
   "file_extension": ".py",
   "mimetype": "text/x-python",
   "name": "python",
   "nbconvert_exporter": "python",
   "pygments_lexer": "ipython3",
   "version": "3.7.0"
  },
  "varInspector": {
   "cols": {
    "lenName": 16,
    "lenType": 16,
    "lenVar": 40
   },
   "kernels_config": {
    "python": {
     "delete_cmd_postfix": "",
     "delete_cmd_prefix": "del ",
     "library": "var_list.py",
     "varRefreshCmd": "print(var_dic_list())"
    },
    "r": {
     "delete_cmd_postfix": ") ",
     "delete_cmd_prefix": "rm(",
     "library": "var_list.r",
     "varRefreshCmd": "cat(var_dic_list()) "
    }
   },
   "types_to_exclude": [
    "module",
    "function",
    "builtin_function_or_method",
    "instance",
    "_Feature"
   ],
   "window_display": false
  }
 },
 "nbformat": 4,
 "nbformat_minor": 2
}

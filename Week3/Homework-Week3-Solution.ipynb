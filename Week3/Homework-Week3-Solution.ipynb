{
 "cells": [
  {
   "cell_type": "code",
   "execution_count": 1,
   "metadata": {},
   "outputs": [],
   "source": [
    "## dont touch this cell and assertions after the questions\n",
    "score = {}\n",
    "\n",
    "equality_check = lambda a, b: len(a) == len(b) and all([ x==y for x,y in zip(a,b)])\n",
    "def assertion(question, result, expected):\n",
    "    same = False\n",
    "    try:\n",
    "        if type(result) in (int, str, bool, type(None)):\n",
    "            same = result == expected\n",
    "        else:\n",
    "            same = equality_check(result, expected)\n",
    "    except:\n",
    "        pass\n",
    "    \n",
    "    if question != None and same:\n",
    "        score[question] = True\n",
    "        \n",
    "    print('correct' if same else 'incorrect')"
   ]
  },
  {
   "cell_type": "code",
   "execution_count": 2,
   "metadata": {},
   "outputs": [],
   "source": [
    "state_names = [\"Alaska\", \"Alabama\", \"Arkansas\", \"American Samoa\", \"Arizona\", \"California\", \"Colorado\", \"Connecticut\", \"District \", \"of Columbia\", \"Delaware\", \"Florida\", \"Georgia\", \"Guam\", \"Hawaii\", \"Iowa\", \"Idaho\", \"Illinois\", \"Indiana\", \"Kansas\", \"Kentucky\", \"Louisiana\", \"Massachusetts\", \"Maryland\", \"Maine\", \"Michigan\", \"Minnesota\", \"Missouri\", \"Mississippi\", \"Montana\", \"North Carolina\", \"North Dakota\", \"Nebraska\", \"New Hampshire\", \"New Jersey\", \"New Mexico\", \"Nevada\", \"New York\", \"Ohio\", \"Oklahoma\", \"Oregon\", \"Pennsylvania\", \"Puerto Rico\", \"Rhode Island\", \"South Carolina\", \"South Dakota\", \"Tennessee\", \"Texas\", \"Utah\", \"Virginia\", \"Virgin Islands\", \"Vermont\", \"Washington\", \"Wisconsin\", \"West Virginia\", \"Wyoming\"]\n"
   ]
  },
  {
   "cell_type": "markdown",
   "metadata": {},
   "source": [
    "Documenting python code: https://realpython.com/documenting-python-code/\n",
    "\n",
    "Use Only List Comprehensions"
   ]
  },
  {
   "cell_type": "code",
   "execution_count": 3,
   "metadata": {},
   "outputs": [],
   "source": [
    "# hw 1\n",
    "def get_states_with_5_letter():\n",
    "    \"\"\"\n",
    "    return states with 5 letters \n",
    "    \"\"\"\n",
    "    return [state for state in state_names if len(state) == 5]"
   ]
  },
  {
   "cell_type": "code",
   "execution_count": 4,
   "metadata": {},
   "outputs": [
    {
     "name": "stdout",
     "output_type": "stream",
     "text": [
      "correct\n"
     ]
    }
   ],
   "source": [
    "assertion('1', get_states_with_5_letter(), ['Idaho', 'Maine', 'Texas'])"
   ]
  },
  {
   "cell_type": "code",
   "execution_count": 5,
   "metadata": {},
   "outputs": [],
   "source": [
    "# hw 2 \n",
    "\n",
    "def get_odd_numbers_from_list(arr):\n",
    "    \"\"\"\n",
    "    return odd numbers from the list\n",
    "    \"\"\"\n",
    "    return [num for num in arr if num % 2 == 1]"
   ]
  },
  {
   "cell_type": "code",
   "execution_count": 6,
   "metadata": {},
   "outputs": [
    {
     "name": "stdout",
     "output_type": "stream",
     "text": [
      "correct\n",
      "correct\n",
      "correct\n"
     ]
    }
   ],
   "source": [
    "assertion('2a', get_odd_numbers_from_list([1,2,3]), [1,3])\n",
    "assertion('2b', get_odd_numbers_from_list([1,2,3, 17]), [1,3, 17])\n",
    "assertion('2c', get_odd_numbers_from_list([]), [])"
   ]
  },
  {
   "cell_type": "code",
   "execution_count": 7,
   "metadata": {},
   "outputs": [],
   "source": [
    "# hw 3\n",
    "\n",
    "def contains_value(arr, x):\n",
    "    \"\"\"\n",
    "    checks if passed in list contains value  \n",
    "    \n",
    "    Parameters\n",
    "    ----------\n",
    "    arr : list\n",
    "        List contains vaues\n",
    "    x : int\n",
    "        value to be checked\n",
    "\n",
    "    Returns\n",
    "    -------\n",
    "    bool\n",
    "        \n",
    "    \"\"\"\n",
    "    # return x in arr # more efficient\n",
    "    return any([True if x == y else False for y in arr])"
   ]
  },
  {
   "cell_type": "code",
   "execution_count": 8,
   "metadata": {},
   "outputs": [
    {
     "name": "stdout",
     "output_type": "stream",
     "text": [
      "correct\n",
      "correct\n"
     ]
    }
   ],
   "source": [
    "assertion('3a', contains_value([1,2,3], 1), True)\n",
    "assertion('3b', contains_value([1,2,3], 4), False)"
   ]
  },
  {
   "cell_type": "code",
   "execution_count": 9,
   "metadata": {},
   "outputs": [],
   "source": [
    "# hw 4 \n",
    "\n",
    "def check_if_all_positive(arr):\n",
    "    \"\"\"\n",
    "    checks all values in the list are positive\n",
    "    \n",
    "    Parameters\n",
    "    ----------\n",
    "    arr : list\n",
    "        List contains values\n",
    "\n",
    "    Returns\n",
    "    -------\n",
    "    bool\n",
    "    \n",
    "    \"\"\"\n",
    "    # return all([True if x > 0 else False for x in arr])\n",
    "    return all([ x > 0 for x in arr])"
   ]
  },
  {
   "cell_type": "code",
   "execution_count": 10,
   "metadata": {},
   "outputs": [
    {
     "name": "stdout",
     "output_type": "stream",
     "text": [
      "correct\n",
      "correct\n"
     ]
    }
   ],
   "source": [
    "assertion('3a', check_if_all_positive([1,-4,3]), False)\n",
    "assertion('3b', check_if_all_positive([1,2,3]), True)"
   ]
  },
  {
   "cell_type": "code",
   "execution_count": 11,
   "metadata": {},
   "outputs": [],
   "source": [
    "# not hw - don't change anything in this block\n",
    "import pandas as pd\n",
    "\n",
    "def get_data():\n",
    "    \"\"\"\n",
    "    get the data\n",
    "    \"\"\"\n",
    "    data = pd.read_csv('https://people.sc.fsu.edu/~jburkardt/data/csv/zillow.csv', index_col=0)\n",
    "    data.columns = [ i.replace('\"', '').strip() for i in data.columns]\n",
    "    \n",
    "    return data\n",
    "\n",
    "def get_zip_code_state_dictionary():\n",
    "    \"\"\"\n",
    "    returns zip code: state dictionary\n",
    "    data is random :)\n",
    "\n",
    "    \"\"\"\n",
    "    \n",
    "    d = { zcode: \"MD\" if str(zcode)[4] > '6' else \"VA\" for zcode in [32301, 32303, 32308, 32309, 32310, 32311, 32312] }\n",
    "    return d\n",
    "\n"
   ]
  },
  {
   "cell_type": "code",
   "execution_count": 13,
   "metadata": {},
   "outputs": [],
   "source": [
    "# hw 5\n",
    "\n",
    "def get_and_prepare_data(df):\n",
    "    \"\"\"\n",
    "    add a column to the table named State with the state information based on zip code\n",
    "    and return the data frame\n",
    "    \"\"\"\n",
    "    zcode_states = get_zip_code_state_dictionary()\n",
    "    # don't change any existing code ----\n",
    "    \n",
    "    # df['State'] = df['Zip'].map(zcode_states) \n",
    "    df['State'] = [ zcode_states[zip_code] for zip_code in df['Zip'] ]\n",
    "    \n",
    "    # ------\n",
    "    \n",
    "    return df"
   ]
  },
  {
   "cell_type": "code",
   "execution_count": 14,
   "metadata": {},
   "outputs": [
    {
     "data": {
      "text/html": [
       "<div>\n",
       "<style scoped>\n",
       "    .dataframe tbody tr th:only-of-type {\n",
       "        vertical-align: middle;\n",
       "    }\n",
       "\n",
       "    .dataframe tbody tr th {\n",
       "        vertical-align: top;\n",
       "    }\n",
       "\n",
       "    .dataframe thead th {\n",
       "        text-align: right;\n",
       "    }\n",
       "</style>\n",
       "<table border=\"1\" class=\"dataframe\">\n",
       "  <thead>\n",
       "    <tr style=\"text-align: right;\">\n",
       "      <th></th>\n",
       "      <th>Living Space (sq ft)</th>\n",
       "      <th>Beds</th>\n",
       "      <th>Baths</th>\n",
       "      <th>Zip</th>\n",
       "      <th>Year</th>\n",
       "      <th>List Price ($)</th>\n",
       "      <th>State</th>\n",
       "    </tr>\n",
       "    <tr>\n",
       "      <th>Index</th>\n",
       "      <th></th>\n",
       "      <th></th>\n",
       "      <th></th>\n",
       "      <th></th>\n",
       "      <th></th>\n",
       "      <th></th>\n",
       "      <th></th>\n",
       "    </tr>\n",
       "  </thead>\n",
       "  <tbody>\n",
       "    <tr>\n",
       "      <td>1</td>\n",
       "      <td>2222</td>\n",
       "      <td>3</td>\n",
       "      <td>3.5</td>\n",
       "      <td>32312</td>\n",
       "      <td>1981</td>\n",
       "      <td>250000</td>\n",
       "      <td>VA</td>\n",
       "    </tr>\n",
       "    <tr>\n",
       "      <td>2</td>\n",
       "      <td>1628</td>\n",
       "      <td>3</td>\n",
       "      <td>2.0</td>\n",
       "      <td>32308</td>\n",
       "      <td>2009</td>\n",
       "      <td>185000</td>\n",
       "      <td>MD</td>\n",
       "    </tr>\n",
       "    <tr>\n",
       "      <td>3</td>\n",
       "      <td>3824</td>\n",
       "      <td>5</td>\n",
       "      <td>4.0</td>\n",
       "      <td>32312</td>\n",
       "      <td>1954</td>\n",
       "      <td>399000</td>\n",
       "      <td>VA</td>\n",
       "    </tr>\n",
       "    <tr>\n",
       "      <td>4</td>\n",
       "      <td>1137</td>\n",
       "      <td>3</td>\n",
       "      <td>2.0</td>\n",
       "      <td>32309</td>\n",
       "      <td>1993</td>\n",
       "      <td>150000</td>\n",
       "      <td>MD</td>\n",
       "    </tr>\n",
       "    <tr>\n",
       "      <td>5</td>\n",
       "      <td>3560</td>\n",
       "      <td>6</td>\n",
       "      <td>4.0</td>\n",
       "      <td>32309</td>\n",
       "      <td>1973</td>\n",
       "      <td>315000</td>\n",
       "      <td>MD</td>\n",
       "    </tr>\n",
       "  </tbody>\n",
       "</table>\n",
       "</div>"
      ],
      "text/plain": [
       "       Living Space (sq ft)  Beds  Baths    Zip  Year  List Price ($) State\n",
       "Index                                                                      \n",
       "1                      2222     3    3.5  32312  1981          250000    VA\n",
       "2                      1628     3    2.0  32308  2009          185000    MD\n",
       "3                      3824     5    4.0  32312  1954          399000    VA\n",
       "4                      1137     3    2.0  32309  1993          150000    MD\n",
       "5                      3560     6    4.0  32309  1973          315000    MD"
      ]
     },
     "execution_count": 14,
     "metadata": {},
     "output_type": "execute_result"
    }
   ],
   "source": [
    "zillow = get_data()\n",
    "\n",
    "zillow_with_state = get_and_prepare_data(zillow)\n",
    "zillow_with_state.head()"
   ]
  },
  {
   "cell_type": "code",
   "execution_count": 15,
   "metadata": {},
   "outputs": [
    {
     "name": "stdout",
     "output_type": "stream",
     "text": [
      "correct\n"
     ]
    }
   ],
   "source": [
    "zc = get_zip_code_state_dictionary()\n",
    "if('State' not in zillow_with_state.columns):\n",
    "    print ('incorrect')\n",
    "else:\n",
    "    assertion('5a', all([ zc[z] == s  for z, s in zip(zillow_with_state['Zip'], zillow_with_state['State'])]), True)"
   ]
  },
  {
   "cell_type": "markdown",
   "metadata": {},
   "source": [
    "## Score Part1"
   ]
  },
  {
   "cell_type": "code",
   "execution_count": 16,
   "metadata": {},
   "outputs": [
    {
     "data": {
      "text/plain": [
       "'7/7'"
      ]
     },
     "execution_count": 16,
     "metadata": {},
     "output_type": "execute_result"
    }
   ],
   "source": [
    "str(sum(score.values())) + \"/7\""
   ]
  },
  {
   "cell_type": "markdown",
   "metadata": {},
   "source": [
    "## Fake Data"
   ]
  },
  {
   "cell_type": "markdown",
   "metadata": {},
   "source": [
    "1. Email addresses\n",
    "1. Phone numbers\n",
    "1. Home Address\n",
    "1. Person's name\n",
    "1. Year born. Use realistic values.\n",
    "1. Number of kids. Use realistic values.\n",
    "1. Categorical variable: rent or own?\n",
    "1. Annual income. Optional challenge: Use a non-uniform distribution\n",
    "1. Number of speeding tickets in past year. Optional challenge: Use a non-uniform distribution\n",
    "\n",
    "\n",
    "Complete the following method(s). \n",
    "\n",
    "Use libraries to generate fake data"
   ]
  },
  {
   "cell_type": "code",
   "execution_count": 17,
   "metadata": {},
   "outputs": [],
   "source": [
    "# you can add additional functions here\n",
    "\n",
    "import pandas\n",
    "import numpy as np \n",
    "import random\n",
    "\n",
    "from faker import Faker\n",
    "fake = Faker()\n",
    "\n",
    "def non_uniform_income_class():\n",
    "    \"\"\"\n",
    "    calculates a random income class (lower, middle, upper) based on 2016 data of %households in each income bracket\n",
    "    29% of American adults = lower income class\n",
    "    52% of American adults = middle class\n",
    "    19% of American adults = upper class\n",
    "    Assumes these are probabilities for entities' incomes in table\n",
    "    Source: (https://www.investopedia.com/financial-edge/0912/which-income-class-are-you.aspx)\n",
    "    \n",
    "    returns:\n",
    "    --------\n",
    "    string\n",
    "    \n",
    "    \"\"\"\n",
    "    income_class = np.random.choice(['lower income','middle income','upper income'], 1, p=[0.29,0.52,0.19])\n",
    "    return income_class[0]\n",
    "\n",
    "    \n",
    "def income(income_class_range):\n",
    "    \"\"\"\n",
    "    Based on a given income bracket, calculates a random income ($) based on 2016 data using a Gaussian distribution\n",
    "    Source: (https://www.investopedia.com/financial-edge/0912/which-income-class-are-you.aspx)\n",
    "    \n",
    "    Parameters:\n",
    "    -----------\n",
    "    income_class_range: string \n",
    "        lower, middle, or upper income\n",
    "        \n",
    "    Returns:\n",
    "    -------\n",
    "    int\n",
    "    \n",
    "    \"\"\"\n",
    "    \n",
    "    if income_class_range == 'lower income':\n",
    "        return int(random.gauss(25624,25000))\n",
    "    elif income_class_range == 'middle income':\n",
    "        return int(random.gauss(78442,25000))\n",
    "    elif income_class_range == 'upper income':\n",
    "        return int(random.gauss(187827,25000))\n",
    "    return None\n",
    "        \n",
    "def speeding_tickets():\n",
    "    \"\"\"\n",
    "    Calculates random number of speeding tickets, assuming the following probabilities (non uniform distribution)\n",
    "    0: 40%\n",
    "    1: 30%\n",
    "    2: 20%\n",
    "    3: 4%\n",
    "    4: 2%\n",
    "    5: 2%\n",
    "    6: 2%\n",
    "    \n",
    "    Returns:\n",
    "    -------\n",
    "    int\n",
    "    \n",
    "    \"\"\"\n",
    "    num_of_speeding_tickets = np.random.choice([0,1,2,3,4,5,6], 1, p=[0.4,0.3,0.2,0.04,0.02,0.02,0.02])\n",
    "    return num_of_speeding_tickets[0]\n",
    "    "
   ]
  },
  {
   "cell_type": "code",
   "execution_count": 18,
   "metadata": {},
   "outputs": [],
   "source": [
    "def generate_fake_data(row=50):\n",
    "    \"\"\"\n",
    "    Generates fake data\n",
    "    \n",
    "    Parameters\n",
    "    ---------\n",
    "    row: int number of rows \n",
    "    \n",
    "    Output: pandas dataframe\n",
    "    \"\"\"\n",
    "    dframe = pandas.DataFrame()\n",
    "    \n",
    "    dframe['Email Address'] = [fake.email() for i in range(0,row)]\n",
    "    dframe['Phone Number'] = [fake.phone_number() for i in range(0,row)]\n",
    "    dframe['Home Address'] = [fake.address() for i in range(0,row)]\n",
    "    dframe['Name'] = [fake.name() for i in range(0,row)]\n",
    "    dframe['Birth Year'] = [random.randint(1920,2003) for i in range(0,row)]\n",
    "    dframe['Number of Kids'] = [random.randint(0,6) for i in range(0,row)]\n",
    "    dframe['Rent or own?'] = [random.choice(['Rent','Own']) for i in range(0,row)]\n",
    "    dframe['Annual Income'] = [income(non_uniform_income_class()) for i in range (0,row)]\n",
    "    dframe['Speeding Tickets in the past year'] = [speeding_tickets() for i in range(0,row)]\n",
    "    \n",
    "    return dframe"
   ]
  },
  {
   "cell_type": "code",
   "execution_count": null,
   "metadata": {},
   "outputs": [],
   "source": []
  },
  {
   "cell_type": "code",
   "execution_count": 21,
   "metadata": {},
   "outputs": [],
   "source": [
    "# or \n",
    "\n",
    "def generate_fake_data(row=50):\n",
    "    \"\"\"\n",
    "    Generates fake data\n",
    "    \n",
    "    Parameters\n",
    "    ---------\n",
    "    row: int number of rows \n",
    "    \n",
    "    Output: pandas dataframe\n",
    "    \"\"\"\n",
    "    df = pd.DataFrame()\n",
    "    df['Email'] = [fake.email() for _ in range(row)]\n",
    "    df['Phone'] = [fake.phone_number() for _ in range(row)]\n",
    "    df['Home Address'] = [fake.address() for _ in range(row)]\n",
    "    df['Name'] = [fake.name() for _ in range(row)] \n",
    "    df['Birth Year'] = [random.randint(1940,2000) for _ in range(row)] \n",
    "    df['Number of Kids'] = [random.randint(0,5) for _ in range(row)]\n",
    "    df['Rent or Own'] = [fake.random_element(elements=('Rent','Own')) for _ in range(row)] \n",
    "    df['Annual Income'] = [max(int(random.normalvariate(100000,25000)), 25000) for _ in range(row)]\n",
    "    df['Number of Tickets'] = [int(random.expovariate(0.6)) for _ in range(row)]\n",
    "    return df\n",
    "    \n"
   ]
  },
  {
   "cell_type": "code",
   "execution_count": 22,
   "metadata": {},
   "outputs": [
    {
     "data": {
      "text/html": [
       "<div>\n",
       "<style scoped>\n",
       "    .dataframe tbody tr th:only-of-type {\n",
       "        vertical-align: middle;\n",
       "    }\n",
       "\n",
       "    .dataframe tbody tr th {\n",
       "        vertical-align: top;\n",
       "    }\n",
       "\n",
       "    .dataframe thead th {\n",
       "        text-align: right;\n",
       "    }\n",
       "</style>\n",
       "<table border=\"1\" class=\"dataframe\">\n",
       "  <thead>\n",
       "    <tr style=\"text-align: right;\">\n",
       "      <th></th>\n",
       "      <th>Email</th>\n",
       "      <th>Phone</th>\n",
       "      <th>Home Address</th>\n",
       "      <th>Name</th>\n",
       "      <th>Birth Year</th>\n",
       "      <th>Number of Kids</th>\n",
       "      <th>Rent or Own</th>\n",
       "      <th>Annual Income</th>\n",
       "      <th>Number of Tickets</th>\n",
       "    </tr>\n",
       "  </thead>\n",
       "  <tbody>\n",
       "    <tr>\n",
       "      <td>0</td>\n",
       "      <td>lori55@salinas-curtis.biz</td>\n",
       "      <td>001-034-070-8623x5161</td>\n",
       "      <td>05612 Chad Inlet\\nWest Randy, CT 90950</td>\n",
       "      <td>Arthur Lee</td>\n",
       "      <td>1991</td>\n",
       "      <td>5</td>\n",
       "      <td>Rent</td>\n",
       "      <td>81888</td>\n",
       "      <td>3</td>\n",
       "    </tr>\n",
       "    <tr>\n",
       "      <td>1</td>\n",
       "      <td>swheeler@hotmail.com</td>\n",
       "      <td>001-849-135-3524x8407</td>\n",
       "      <td>PSC 0914, Box 8388\\nAPO AA 26571</td>\n",
       "      <td>Kenneth Washington</td>\n",
       "      <td>1940</td>\n",
       "      <td>5</td>\n",
       "      <td>Rent</td>\n",
       "      <td>129741</td>\n",
       "      <td>0</td>\n",
       "    </tr>\n",
       "    <tr>\n",
       "      <td>2</td>\n",
       "      <td>swarner@short-aguirre.com</td>\n",
       "      <td>651.769.3813x6660</td>\n",
       "      <td>Unit 0780 Box 8734\\nDPO AE 12480</td>\n",
       "      <td>Diana Watts</td>\n",
       "      <td>1998</td>\n",
       "      <td>4</td>\n",
       "      <td>Rent</td>\n",
       "      <td>134393</td>\n",
       "      <td>1</td>\n",
       "    </tr>\n",
       "    <tr>\n",
       "      <td>3</td>\n",
       "      <td>nicholsnicole@horn-cardenas.org</td>\n",
       "      <td>584.457.3563x38238</td>\n",
       "      <td>61109 Carrie Shoal\\nWhitakermouth, FL 18734</td>\n",
       "      <td>Timothy Skinner</td>\n",
       "      <td>1982</td>\n",
       "      <td>4</td>\n",
       "      <td>Own</td>\n",
       "      <td>98184</td>\n",
       "      <td>2</td>\n",
       "    </tr>\n",
       "    <tr>\n",
       "      <td>4</td>\n",
       "      <td>ryan34@miller-palmer.com</td>\n",
       "      <td>248.391.9627</td>\n",
       "      <td>5597 John Spring Suite 788\\nDavidburgh, OK 54045</td>\n",
       "      <td>Darius Johnson</td>\n",
       "      <td>1964</td>\n",
       "      <td>2</td>\n",
       "      <td>Rent</td>\n",
       "      <td>73313</td>\n",
       "      <td>1</td>\n",
       "    </tr>\n",
       "    <tr>\n",
       "      <td>5</td>\n",
       "      <td>summerslaura@gmail.com</td>\n",
       "      <td>001-229-437-9799</td>\n",
       "      <td>3154 Tamara Shoals\\nNew Eric, AR 04890</td>\n",
       "      <td>Michael Simmons</td>\n",
       "      <td>1998</td>\n",
       "      <td>0</td>\n",
       "      <td>Own</td>\n",
       "      <td>79107</td>\n",
       "      <td>0</td>\n",
       "    </tr>\n",
       "    <tr>\n",
       "      <td>6</td>\n",
       "      <td>justinwood@yahoo.com</td>\n",
       "      <td>6033549761</td>\n",
       "      <td>49095 Martinez Union Apt. 984\\nNew Edwardhaven...</td>\n",
       "      <td>Meghan Rodriguez</td>\n",
       "      <td>1990</td>\n",
       "      <td>2</td>\n",
       "      <td>Own</td>\n",
       "      <td>142957</td>\n",
       "      <td>0</td>\n",
       "    </tr>\n",
       "    <tr>\n",
       "      <td>7</td>\n",
       "      <td>campbellheidi@gmail.com</td>\n",
       "      <td>4890471279</td>\n",
       "      <td>6346 Cline Dam\\nJamesborough, MO 82437</td>\n",
       "      <td>Paula Summers</td>\n",
       "      <td>1941</td>\n",
       "      <td>3</td>\n",
       "      <td>Rent</td>\n",
       "      <td>72813</td>\n",
       "      <td>2</td>\n",
       "    </tr>\n",
       "    <tr>\n",
       "      <td>8</td>\n",
       "      <td>johnwaters@clayton.info</td>\n",
       "      <td>(827)030-0797</td>\n",
       "      <td>750 Derek Fort\\nEast Jessicaview, WV 62476</td>\n",
       "      <td>Lisa Cooper</td>\n",
       "      <td>1981</td>\n",
       "      <td>0</td>\n",
       "      <td>Rent</td>\n",
       "      <td>89376</td>\n",
       "      <td>5</td>\n",
       "    </tr>\n",
       "    <tr>\n",
       "      <td>9</td>\n",
       "      <td>russojennifer@gmail.com</td>\n",
       "      <td>585-191-2433x184</td>\n",
       "      <td>0265 Lawson Road\\nPort Jenniferfurt, VA 83905</td>\n",
       "      <td>Wesley Mejia</td>\n",
       "      <td>1970</td>\n",
       "      <td>1</td>\n",
       "      <td>Own</td>\n",
       "      <td>128727</td>\n",
       "      <td>5</td>\n",
       "    </tr>\n",
       "  </tbody>\n",
       "</table>\n",
       "</div>"
      ],
      "text/plain": [
       "                             Email                  Phone  \\\n",
       "0        lori55@salinas-curtis.biz  001-034-070-8623x5161   \n",
       "1             swheeler@hotmail.com  001-849-135-3524x8407   \n",
       "2        swarner@short-aguirre.com      651.769.3813x6660   \n",
       "3  nicholsnicole@horn-cardenas.org     584.457.3563x38238   \n",
       "4         ryan34@miller-palmer.com           248.391.9627   \n",
       "5           summerslaura@gmail.com       001-229-437-9799   \n",
       "6             justinwood@yahoo.com             6033549761   \n",
       "7          campbellheidi@gmail.com             4890471279   \n",
       "8          johnwaters@clayton.info          (827)030-0797   \n",
       "9          russojennifer@gmail.com       585-191-2433x184   \n",
       "\n",
       "                                        Home Address                Name  \\\n",
       "0             05612 Chad Inlet\\nWest Randy, CT 90950          Arthur Lee   \n",
       "1                   PSC 0914, Box 8388\\nAPO AA 26571  Kenneth Washington   \n",
       "2                   Unit 0780 Box 8734\\nDPO AE 12480         Diana Watts   \n",
       "3        61109 Carrie Shoal\\nWhitakermouth, FL 18734     Timothy Skinner   \n",
       "4   5597 John Spring Suite 788\\nDavidburgh, OK 54045      Darius Johnson   \n",
       "5             3154 Tamara Shoals\\nNew Eric, AR 04890     Michael Simmons   \n",
       "6  49095 Martinez Union Apt. 984\\nNew Edwardhaven...    Meghan Rodriguez   \n",
       "7             6346 Cline Dam\\nJamesborough, MO 82437       Paula Summers   \n",
       "8         750 Derek Fort\\nEast Jessicaview, WV 62476         Lisa Cooper   \n",
       "9      0265 Lawson Road\\nPort Jenniferfurt, VA 83905        Wesley Mejia   \n",
       "\n",
       "   Birth Year  Number of Kids Rent or Own  Annual Income  Number of Tickets  \n",
       "0        1991               5        Rent          81888                  3  \n",
       "1        1940               5        Rent         129741                  0  \n",
       "2        1998               4        Rent         134393                  1  \n",
       "3        1982               4         Own          98184                  2  \n",
       "4        1964               2        Rent          73313                  1  \n",
       "5        1998               0         Own          79107                  0  \n",
       "6        1990               2         Own         142957                  0  \n",
       "7        1941               3        Rent          72813                  2  \n",
       "8        1981               0        Rent          89376                  5  \n",
       "9        1970               1         Own         128727                  5  "
      ]
     },
     "execution_count": 22,
     "metadata": {},
     "output_type": "execute_result"
    }
   ],
   "source": [
    "df = generate_fake_data(10)\n",
    "df"
   ]
  },
  {
   "cell_type": "code",
   "execution_count": null,
   "metadata": {},
   "outputs": [],
   "source": []
  }
 ],
 "metadata": {
  "kernelspec": {
   "display_name": "Python 3",
   "language": "python",
   "name": "python3"
  },
  "language_info": {
   "codemirror_mode": {
    "name": "ipython",
    "version": 3
   },
   "file_extension": ".py",
   "mimetype": "text/x-python",
   "name": "python",
   "nbconvert_exporter": "python",
   "pygments_lexer": "ipython3",
   "version": "3.7.4"
  },
  "varInspector": {
   "cols": {
    "lenName": 16,
    "lenType": 16,
    "lenVar": 40
   },
   "kernels_config": {
    "python": {
     "delete_cmd_postfix": "",
     "delete_cmd_prefix": "del ",
     "library": "var_list.py",
     "varRefreshCmd": "print(var_dic_list())"
    },
    "r": {
     "delete_cmd_postfix": ") ",
     "delete_cmd_prefix": "rm(",
     "library": "var_list.r",
     "varRefreshCmd": "cat(var_dic_list()) "
    }
   },
   "types_to_exclude": [
    "module",
    "function",
    "builtin_function_or_method",
    "instance",
    "_Feature"
   ],
   "window_display": false
  }
 },
 "nbformat": 4,
 "nbformat_minor": 2
}

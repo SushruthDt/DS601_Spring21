{
 "cells": [
  {
   "cell_type": "markdown",
   "metadata": {},
   "source": [
    "# Functions Recap"
   ]
  },
  {
   "cell_type": "code",
   "execution_count": 3,
   "metadata": {},
   "outputs": [
    {
     "data": {
      "text/plain": [
       "11"
      ]
     },
     "execution_count": 3,
     "metadata": {},
     "output_type": "execute_result"
    }
   ],
   "source": [
    "def get_data(a, b, c = 5):\n",
    "    \"\"\"\n",
    "    this is called py docs /py docs\n",
    "    Parameters\n",
    "    \n",
    "    a : int\n",
    "    b: int\n",
    "    c: int\n",
    "    \n",
    "    Returns\n",
    "    sum of the inputs\n",
    "    \n",
    "    \"\"\"\n",
    "    return a + b + c\n",
    "\n",
    "get_data(3,3)"
   ]
  },
  {
   "cell_type": "code",
   "execution_count": 4,
   "metadata": {},
   "outputs": [
    {
     "name": "stdout",
     "output_type": "stream",
     "text": [
      "Uploading  source_file target_file\n",
      "upload finished\n"
     ]
    }
   ],
   "source": [
    "def upload(file, to_location, info_func=None):\n",
    "    print ('Uploading ', file, to_location)\n",
    "    for percentage in range(100):\n",
    "        # some upload logic...\n",
    "        if info_func != None:\n",
    "            info_func(percentage)\n",
    "    print('Upload finished')\n",
    "upload('source_file', 'target_file')"
   ]
  },
  {
   "cell_type": "code",
   "execution_count": 5,
   "metadata": {},
   "outputs": [
    {
     "name": "stdout",
     "output_type": "stream",
     "text": [
      "Uploading  source_file target_file\n",
      "Uploading  0\n",
      "Uploading  10\n",
      "Uploading  20\n",
      "Uploading  30\n",
      "Uploading  40\n",
      "Uploading  50\n",
      "Uploading  60\n",
      "Uploading  70\n",
      "Uploading  80\n",
      "Uploading  90\n",
      "upload finished\n"
     ]
    }
   ],
   "source": [
    "def show_only_10(p):\n",
    "    if p % 10 == 0:\n",
    "        print('Uploading ', p)\n",
    "        \n",
    "upload('source_file', 'target_file', show_only_10)"
   ]
  },
  {
   "cell_type": "code",
   "execution_count": 6,
   "metadata": {},
   "outputs": [
    {
     "name": "stdout",
     "output_type": "stream",
     "text": [
      "Uploading  source_file target_file\n",
      "yukleniyor  0\n",
      "yukleniyor  10\n",
      "yukleniyor  20\n",
      "yukleniyor  30\n",
      "yukleniyor  40\n",
      "yukleniyor  50\n",
      "yukleniyor  60\n",
      "yukleniyor  70\n",
      "yukleniyor  80\n",
      "yukleniyor  90\n",
      "upload finished\n"
     ]
    }
   ],
   "source": [
    "def show_only_10(p):\n",
    "    if p % 10 == 0:\n",
    "        print('yukleniyor ', p)\n",
    "        \n",
    "upload('source_file', 'target_file', show_only_10)"
   ]
  },
  {
   "cell_type": "markdown",
   "metadata": {},
   "source": [
    "## Loops Recap"
   ]
  },
  {
   "cell_type": "code",
   "execution_count": 7,
   "metadata": {},
   "outputs": [],
   "source": [
    "state_names = [\"Alaska\", \"Alabama\", \"Arkansas\", \"American Samoa\", \"Arizona\", \"California\", \"Colorado\", \"Connecticut\", \"District \", \"of Columbia\", \"Delaware\", \"Florida\", \"Georgia\", \"Guam\", \"Hawaii\", \"Iowa\", \"Idaho\", \"Illinois\", \"Indiana\", \"Kansas\", \"Kentucky\", \"Louisiana\", \"Massachusetts\", \"Maryland\", \"Maine\", \"Michigan\", \"Minnesota\", \"Missouri\", \"Mississippi\", \"Montana\", \"North Carolina\", \"North Dakota\", \"Nebraska\", \"New Hampshire\", \"New Jersey\", \"New Mexico\", \"Nevada\", \"New York\", \"Ohio\", \"Oklahoma\", \"Oregon\", \"Pennsylvania\", \"Puerto Rico\", \"Rhode Island\", \"South Carolina\", \"South Dakota\", \"Tennessee\", \"Texas\", \"Utah\", \"Virginia\", \"Virgin Islands\", \"Vermont\", \"Washington\", \"Wisconsin\", \"West Virginia\", \"Wyoming\"]"
   ]
  },
  {
   "cell_type": "code",
   "execution_count": 8,
   "metadata": {},
   "outputs": [
    {
     "data": {
      "text/plain": [
       "['Alaska', 'Alabama', 'Arkansas', 'American Samoa', 'Arizona']"
      ]
     },
     "execution_count": 8,
     "metadata": {},
     "output_type": "execute_result"
    }
   ],
   "source": [
    "state_list = []\n",
    "\n",
    "for state in state_names: \n",
    "    if state[0] == 'A':\n",
    "        state_list.append(state)\n",
    "state_list"
   ]
  },
  {
   "cell_type": "code",
   "execution_count": 9,
   "metadata": {},
   "outputs": [
    {
     "data": {
      "text/plain": [
       "[6, 7, 8, 9]"
      ]
     },
     "execution_count": 9,
     "metadata": {},
     "output_type": "execute_result"
    }
   ],
   "source": [
    "nums = []\n",
    "for i in range(10):\n",
    "    if i > 5:\n",
    "        nums.append(i)\n",
    "nums"
   ]
  },
  {
   "cell_type": "markdown",
   "metadata": {},
   "source": [
    "## List Comprehensions"
   ]
  },
  {
   "cell_type": "code",
   "execution_count": 10,
   "metadata": {},
   "outputs": [
    {
     "data": {
      "text/plain": [
       "[0, 1, 2, 3, 4, 5, 6, 7, 8, 9]"
      ]
     },
     "execution_count": 10,
     "metadata": {},
     "output_type": "execute_result"
    }
   ],
   "source": [
    "[i for i in range(10)]"
   ]
  },
  {
   "cell_type": "code",
   "execution_count": 11,
   "metadata": {},
   "outputs": [
    {
     "data": {
      "text/plain": [
       "[0, 2, 4, 6, 8, 10, 12, 14, 16, 18]"
      ]
     },
     "execution_count": 11,
     "metadata": {},
     "output_type": "execute_result"
    }
   ],
   "source": [
    "[i * 2 for i in range(10)]"
   ]
  },
  {
   "cell_type": "code",
   "execution_count": 12,
   "metadata": {},
   "outputs": [
    {
     "data": {
      "text/plain": [
       "['Alaska', 'Alabama', 'Arkansas', 'American Samoa', 'Arizona']"
      ]
     },
     "execution_count": 12,
     "metadata": {},
     "output_type": "execute_result"
    }
   ],
   "source": [
    "# if \n",
    "\n",
    "[state for state in state_names if state[0] == 'A']"
   ]
  },
  {
   "cell_type": "code",
   "execution_count": 13,
   "metadata": {},
   "outputs": [
    {
     "data": {
      "text/plain": [
       "['Idaho', 'Maine', 'Texas']"
      ]
     },
     "execution_count": 13,
     "metadata": {},
     "output_type": "execute_result"
    }
   ],
   "source": [
    "[state for state in state_names if len(state) == 5]"
   ]
  },
  {
   "cell_type": "code",
   "execution_count": 14,
   "metadata": {},
   "outputs": [
    {
     "data": {
      "text/plain": [
       "[0, 10, 20, 30, 40, 50, 60, 70, 80, 90]"
      ]
     },
     "execution_count": 14,
     "metadata": {},
     "output_type": "execute_result"
    }
   ],
   "source": [
    "[x for x in range(100) if x % 10 == 0]\n",
    "# [ VALUE for [EVERY] in [LIST] if [CONDITION]]"
   ]
  },
  {
   "cell_type": "code",
   "execution_count": 15,
   "metadata": {},
   "outputs": [
    {
     "data": {
      "text/plain": [
       "[1, 11, 21, 31, 41, 51, 61, 71, 81, 91]"
      ]
     },
     "execution_count": 15,
     "metadata": {},
     "output_type": "execute_result"
    }
   ],
   "source": [
    "[ x+1 for x in range(100) if x % 10 == 0]"
   ]
  },
  {
   "cell_type": "code",
   "execution_count": 16,
   "metadata": {},
   "outputs": [
    {
     "data": {
      "text/plain": [
       "[0, None, 2, None, 4, None, 6, None, 8, None]"
      ]
     },
     "execution_count": 16,
     "metadata": {},
     "output_type": "execute_result"
    }
   ],
   "source": [
    "# if else \n",
    "# [ [IF-VALUE] if [CONDITION]  else [ELSE-VALUE]  for [EVERY] in [LIST]]\n",
    "\n",
    "[ x if x % 2 == 0 else None for x in range(10)]"
   ]
  },
  {
   "cell_type": "code",
   "execution_count": null,
   "metadata": {},
   "outputs": [],
   "source": []
  },
  {
   "cell_type": "code",
   "execution_count": null,
   "metadata": {},
   "outputs": [],
   "source": []
  },
  {
   "cell_type": "code",
   "execution_count": null,
   "metadata": {},
   "outputs": [],
   "source": []
  },
  {
   "cell_type": "markdown",
   "metadata": {},
   "source": [
    "## All / Any"
   ]
  },
  {
   "cell_type": "code",
   "execution_count": 17,
   "metadata": {},
   "outputs": [],
   "source": [
    "grades = [ 90, 80 , 70, 60, 100]"
   ]
  },
  {
   "cell_type": "code",
   "execution_count": 18,
   "metadata": {},
   "outputs": [
    {
     "data": {
      "text/plain": [
       "[90, 80, 100]"
      ]
     },
     "execution_count": 18,
     "metadata": {},
     "output_type": "execute_result"
    }
   ],
   "source": [
    "[ i for i in grades if i > 70]"
   ]
  },
  {
   "cell_type": "code",
   "execution_count": 24,
   "metadata": {},
   "outputs": [
    {
     "data": {
      "text/plain": [
       "[True, False, True]"
      ]
     },
     "execution_count": 24,
     "metadata": {},
     "output_type": "execute_result"
    }
   ],
   "source": [
    "numbers = [10, -10, 5]\n",
    "\n",
    "[True if i > 0 else False  for i in numbers ]"
   ]
  },
  {
   "cell_type": "code",
   "execution_count": 25,
   "metadata": {},
   "outputs": [
    {
     "data": {
      "text/plain": [
       "False"
      ]
     },
     "execution_count": 25,
     "metadata": {},
     "output_type": "execute_result"
    }
   ],
   "source": [
    "all([True if i > 0 else False  for i in numbers ])"
   ]
  },
  {
   "cell_type": "code",
   "execution_count": 26,
   "metadata": {},
   "outputs": [
    {
     "data": {
      "text/plain": [
       "True"
      ]
     },
     "execution_count": 26,
     "metadata": {},
     "output_type": "execute_result"
    }
   ],
   "source": [
    "any([True if i > 0 else False  for i in numbers ])"
   ]
  },
  {
   "cell_type": "code",
   "execution_count": 27,
   "metadata": {},
   "outputs": [
    {
     "data": {
      "text/plain": [
       "[70]"
      ]
     },
     "execution_count": 27,
     "metadata": {},
     "output_type": "execute_result"
    }
   ],
   "source": [
    "[ i for i in grades if i == 70]"
   ]
  },
  {
   "cell_type": "code",
   "execution_count": 28,
   "metadata": {},
   "outputs": [
    {
     "data": {
      "text/plain": [
       "True"
      ]
     },
     "execution_count": 28,
     "metadata": {},
     "output_type": "execute_result"
    }
   ],
   "source": [
    "any([ i for i in grades if i == 70])"
   ]
  },
  {
   "cell_type": "markdown",
   "metadata": {},
   "source": [
    "## Let's try them on Pandas"
   ]
  },
  {
   "cell_type": "code",
   "execution_count": 29,
   "metadata": {},
   "outputs": [],
   "source": [
    "import pandas as pd"
   ]
  },
  {
   "cell_type": "code",
   "execution_count": 32,
   "metadata": {},
   "outputs": [],
   "source": [
    "df = pd.read_csv('https://people.sc.fsu.edu/~jburkardt/data/csv/zillow.csv', index_col=0)"
   ]
  },
  {
   "cell_type": "code",
   "execution_count": 33,
   "metadata": {},
   "outputs": [
    {
     "data": {
      "text/html": [
       "<div>\n",
       "<style scoped>\n",
       "    .dataframe tbody tr th:only-of-type {\n",
       "        vertical-align: middle;\n",
       "    }\n",
       "\n",
       "    .dataframe tbody tr th {\n",
       "        vertical-align: top;\n",
       "    }\n",
       "\n",
       "    .dataframe thead th {\n",
       "        text-align: right;\n",
       "    }\n",
       "</style>\n",
       "<table border=\"1\" class=\"dataframe\">\n",
       "  <thead>\n",
       "    <tr style=\"text-align: right;\">\n",
       "      <th></th>\n",
       "      <th>\"Living Space (sq ft)\"</th>\n",
       "      <th>\"Beds\"</th>\n",
       "      <th>\"Baths\"</th>\n",
       "      <th>\"Zip\"</th>\n",
       "      <th>\"Year\"</th>\n",
       "      <th>\"List Price ($)\"</th>\n",
       "    </tr>\n",
       "    <tr>\n",
       "      <th>Index</th>\n",
       "      <th></th>\n",
       "      <th></th>\n",
       "      <th></th>\n",
       "      <th></th>\n",
       "      <th></th>\n",
       "      <th></th>\n",
       "    </tr>\n",
       "  </thead>\n",
       "  <tbody>\n",
       "    <tr>\n",
       "      <td>1</td>\n",
       "      <td>2222</td>\n",
       "      <td>3</td>\n",
       "      <td>3.5</td>\n",
       "      <td>32312</td>\n",
       "      <td>1981</td>\n",
       "      <td>250000</td>\n",
       "    </tr>\n",
       "    <tr>\n",
       "      <td>2</td>\n",
       "      <td>1628</td>\n",
       "      <td>3</td>\n",
       "      <td>2.0</td>\n",
       "      <td>32308</td>\n",
       "      <td>2009</td>\n",
       "      <td>185000</td>\n",
       "    </tr>\n",
       "    <tr>\n",
       "      <td>3</td>\n",
       "      <td>3824</td>\n",
       "      <td>5</td>\n",
       "      <td>4.0</td>\n",
       "      <td>32312</td>\n",
       "      <td>1954</td>\n",
       "      <td>399000</td>\n",
       "    </tr>\n",
       "    <tr>\n",
       "      <td>4</td>\n",
       "      <td>1137</td>\n",
       "      <td>3</td>\n",
       "      <td>2.0</td>\n",
       "      <td>32309</td>\n",
       "      <td>1993</td>\n",
       "      <td>150000</td>\n",
       "    </tr>\n",
       "    <tr>\n",
       "      <td>5</td>\n",
       "      <td>3560</td>\n",
       "      <td>6</td>\n",
       "      <td>4.0</td>\n",
       "      <td>32309</td>\n",
       "      <td>1973</td>\n",
       "      <td>315000</td>\n",
       "    </tr>\n",
       "  </tbody>\n",
       "</table>\n",
       "</div>"
      ],
      "text/plain": [
       "        \"Living Space (sq ft)\"   \"Beds\"   \"Baths\"   \"Zip\"   \"Year\"  \\\n",
       "Index                                                                \n",
       "1                         2222        3       3.5   32312     1981   \n",
       "2                         1628        3       2.0   32308     2009   \n",
       "3                         3824        5       4.0   32312     1954   \n",
       "4                         1137        3       2.0   32309     1993   \n",
       "5                         3560        6       4.0   32309     1973   \n",
       "\n",
       "        \"List Price ($)\"  \n",
       "Index                     \n",
       "1                 250000  \n",
       "2                 185000  \n",
       "3                 399000  \n",
       "4                 150000  \n",
       "5                 315000  "
      ]
     },
     "execution_count": 33,
     "metadata": {},
     "output_type": "execute_result"
    }
   ],
   "source": [
    "df.head()"
   ]
  },
  {
   "cell_type": "code",
   "execution_count": 34,
   "metadata": {},
   "outputs": [],
   "source": [
    "df.columns = [ i.replace('\"', '').strip() for i in df.columns]"
   ]
  },
  {
   "cell_type": "code",
   "execution_count": null,
   "metadata": {},
   "outputs": [],
   "source": []
  },
  {
   "cell_type": "code",
   "execution_count": 35,
   "metadata": {},
   "outputs": [
    {
     "data": {
      "text/html": [
       "<div>\n",
       "<style scoped>\n",
       "    .dataframe tbody tr th:only-of-type {\n",
       "        vertical-align: middle;\n",
       "    }\n",
       "\n",
       "    .dataframe tbody tr th {\n",
       "        vertical-align: top;\n",
       "    }\n",
       "\n",
       "    .dataframe thead th {\n",
       "        text-align: right;\n",
       "    }\n",
       "</style>\n",
       "<table border=\"1\" class=\"dataframe\">\n",
       "  <thead>\n",
       "    <tr style=\"text-align: right;\">\n",
       "      <th></th>\n",
       "      <th>Living Space (sq ft)</th>\n",
       "      <th>Beds</th>\n",
       "      <th>Baths</th>\n",
       "      <th>Zip</th>\n",
       "      <th>Year</th>\n",
       "      <th>List Price ($)</th>\n",
       "    </tr>\n",
       "    <tr>\n",
       "      <th>Index</th>\n",
       "      <th></th>\n",
       "      <th></th>\n",
       "      <th></th>\n",
       "      <th></th>\n",
       "      <th></th>\n",
       "      <th></th>\n",
       "    </tr>\n",
       "  </thead>\n",
       "  <tbody>\n",
       "    <tr>\n",
       "      <td>1</td>\n",
       "      <td>2222</td>\n",
       "      <td>3</td>\n",
       "      <td>3.5</td>\n",
       "      <td>32312</td>\n",
       "      <td>1981</td>\n",
       "      <td>250000</td>\n",
       "    </tr>\n",
       "    <tr>\n",
       "      <td>2</td>\n",
       "      <td>1628</td>\n",
       "      <td>3</td>\n",
       "      <td>2.0</td>\n",
       "      <td>32308</td>\n",
       "      <td>2009</td>\n",
       "      <td>185000</td>\n",
       "    </tr>\n",
       "    <tr>\n",
       "      <td>3</td>\n",
       "      <td>3824</td>\n",
       "      <td>5</td>\n",
       "      <td>4.0</td>\n",
       "      <td>32312</td>\n",
       "      <td>1954</td>\n",
       "      <td>399000</td>\n",
       "    </tr>\n",
       "    <tr>\n",
       "      <td>4</td>\n",
       "      <td>1137</td>\n",
       "      <td>3</td>\n",
       "      <td>2.0</td>\n",
       "      <td>32309</td>\n",
       "      <td>1993</td>\n",
       "      <td>150000</td>\n",
       "    </tr>\n",
       "    <tr>\n",
       "      <td>5</td>\n",
       "      <td>3560</td>\n",
       "      <td>6</td>\n",
       "      <td>4.0</td>\n",
       "      <td>32309</td>\n",
       "      <td>1973</td>\n",
       "      <td>315000</td>\n",
       "    </tr>\n",
       "  </tbody>\n",
       "</table>\n",
       "</div>"
      ],
      "text/plain": [
       "       Living Space (sq ft)  Beds  Baths    Zip  Year  List Price ($)\n",
       "Index                                                                \n",
       "1                      2222     3    3.5  32312  1981          250000\n",
       "2                      1628     3    2.0  32308  2009          185000\n",
       "3                      3824     5    4.0  32312  1954          399000\n",
       "4                      1137     3    2.0  32309  1993          150000\n",
       "5                      3560     6    4.0  32309  1973          315000"
      ]
     },
     "execution_count": 35,
     "metadata": {},
     "output_type": "execute_result"
    }
   ],
   "source": [
    "df.head()"
   ]
  },
  {
   "cell_type": "code",
   "execution_count": 36,
   "metadata": {},
   "outputs": [
    {
     "data": {
      "text/plain": [
       "Index\n",
       "1     250000\n",
       "2     185000\n",
       "3     399000\n",
       "4     150000\n",
       "5     315000\n",
       "6     699000\n",
       "7     649000\n",
       "8     399000\n",
       "9     613000\n",
       "10    295000\n",
       "11    290000\n",
       "12    465000\n",
       "13    799900\n",
       "14     89000\n",
       "15    143000\n",
       "16    569000\n",
       "17    365000\n",
       "18    155000\n",
       "19    289000\n",
       "20    549900\n",
       "Name: List Price ($), dtype: int64"
      ]
     },
     "execution_count": 36,
     "metadata": {},
     "output_type": "execute_result"
    }
   ],
   "source": [
    "df['List Price ($)']"
   ]
  },
  {
   "cell_type": "code",
   "execution_count": 37,
   "metadata": {},
   "outputs": [
    {
     "data": {
      "text/plain": [
       "[True,\n",
       " False,\n",
       " True,\n",
       " False,\n",
       " True,\n",
       " True,\n",
       " True,\n",
       " True,\n",
       " True,\n",
       " True,\n",
       " True,\n",
       " True,\n",
       " True,\n",
       " False,\n",
       " False,\n",
       " True,\n",
       " True,\n",
       " False,\n",
       " True,\n",
       " True]"
      ]
     },
     "execution_count": 37,
     "metadata": {},
     "output_type": "execute_result"
    }
   ],
   "source": [
    "[True if x > 200000 else False for x in df['List Price ($)']]"
   ]
  },
  {
   "cell_type": "code",
   "execution_count": 45,
   "metadata": {},
   "outputs": [
    {
     "data": {
      "text/plain": [
       "[True,\n",
       " False,\n",
       " True,\n",
       " False,\n",
       " True,\n",
       " True,\n",
       " True,\n",
       " True,\n",
       " True,\n",
       " True,\n",
       " True,\n",
       " True,\n",
       " True,\n",
       " False,\n",
       " False,\n",
       " True,\n",
       " True,\n",
       " False,\n",
       " True,\n",
       " True]"
      ]
     },
     "execution_count": 45,
     "metadata": {},
     "output_type": "execute_result"
    }
   ],
   "source": [
    "index_price_more_than200K = [True if x > 200000 else False for x in df['List Price ($)']]"
   ]
  },
  {
   "cell_type": "code",
   "execution_count": 54,
   "metadata": {},
   "outputs": [
    {
     "data": {
      "text/plain": [
       "[False,\n",
       " True,\n",
       " False,\n",
       " True,\n",
       " False,\n",
       " False,\n",
       " False,\n",
       " False,\n",
       " False,\n",
       " False,\n",
       " False,\n",
       " False,\n",
       " False,\n",
       " True,\n",
       " True,\n",
       " False,\n",
       " False,\n",
       " True,\n",
       " False,\n",
       " False]"
      ]
     },
     "execution_count": 54,
     "metadata": {},
     "output_type": "execute_result"
    }
   ],
   "source": [
    "# index_price_more_less200K = [ not i  for i in index_price_more_than200K]\n",
    "# index_price_more_less200K"
   ]
  },
  {
   "cell_type": "code",
   "execution_count": 58,
   "metadata": {},
   "outputs": [],
   "source": [
    "# df['List Price ($)'] < 200000\n",
    "# df [ df['List Price ($)'] < 200000 ]"
   ]
  },
  {
   "cell_type": "code",
   "execution_count": null,
   "metadata": {},
   "outputs": [],
   "source": []
  },
  {
   "cell_type": "code",
   "execution_count": 59,
   "metadata": {
    "scrolled": false
   },
   "outputs": [
    {
     "data": {
      "text/html": [
       "<div>\n",
       "<style scoped>\n",
       "    .dataframe tbody tr th:only-of-type {\n",
       "        vertical-align: middle;\n",
       "    }\n",
       "\n",
       "    .dataframe tbody tr th {\n",
       "        vertical-align: top;\n",
       "    }\n",
       "\n",
       "    .dataframe thead th {\n",
       "        text-align: right;\n",
       "    }\n",
       "</style>\n",
       "<table border=\"1\" class=\"dataframe\">\n",
       "  <thead>\n",
       "    <tr style=\"text-align: right;\">\n",
       "      <th></th>\n",
       "      <th>Living Space (sq ft)</th>\n",
       "      <th>Beds</th>\n",
       "      <th>Baths</th>\n",
       "      <th>Zip</th>\n",
       "      <th>Year</th>\n",
       "      <th>List Price ($)</th>\n",
       "    </tr>\n",
       "    <tr>\n",
       "      <th>Index</th>\n",
       "      <th></th>\n",
       "      <th></th>\n",
       "      <th></th>\n",
       "      <th></th>\n",
       "      <th></th>\n",
       "      <th></th>\n",
       "    </tr>\n",
       "  </thead>\n",
       "  <tbody>\n",
       "    <tr>\n",
       "      <td>1</td>\n",
       "      <td>2222</td>\n",
       "      <td>3</td>\n",
       "      <td>3.5</td>\n",
       "      <td>32312</td>\n",
       "      <td>1981</td>\n",
       "      <td>250000</td>\n",
       "    </tr>\n",
       "    <tr>\n",
       "      <td>3</td>\n",
       "      <td>3824</td>\n",
       "      <td>5</td>\n",
       "      <td>4.0</td>\n",
       "      <td>32312</td>\n",
       "      <td>1954</td>\n",
       "      <td>399000</td>\n",
       "    </tr>\n",
       "    <tr>\n",
       "      <td>5</td>\n",
       "      <td>3560</td>\n",
       "      <td>6</td>\n",
       "      <td>4.0</td>\n",
       "      <td>32309</td>\n",
       "      <td>1973</td>\n",
       "      <td>315000</td>\n",
       "    </tr>\n",
       "    <tr>\n",
       "      <td>6</td>\n",
       "      <td>2893</td>\n",
       "      <td>4</td>\n",
       "      <td>3.0</td>\n",
       "      <td>32312</td>\n",
       "      <td>1994</td>\n",
       "      <td>699000</td>\n",
       "    </tr>\n",
       "    <tr>\n",
       "      <td>7</td>\n",
       "      <td>3631</td>\n",
       "      <td>4</td>\n",
       "      <td>3.0</td>\n",
       "      <td>32309</td>\n",
       "      <td>1996</td>\n",
       "      <td>649000</td>\n",
       "    </tr>\n",
       "    <tr>\n",
       "      <td>8</td>\n",
       "      <td>2483</td>\n",
       "      <td>4</td>\n",
       "      <td>3.0</td>\n",
       "      <td>32312</td>\n",
       "      <td>2016</td>\n",
       "      <td>399000</td>\n",
       "    </tr>\n",
       "    <tr>\n",
       "      <td>9</td>\n",
       "      <td>2400</td>\n",
       "      <td>4</td>\n",
       "      <td>4.0</td>\n",
       "      <td>32312</td>\n",
       "      <td>2002</td>\n",
       "      <td>613000</td>\n",
       "    </tr>\n",
       "    <tr>\n",
       "      <td>10</td>\n",
       "      <td>1997</td>\n",
       "      <td>3</td>\n",
       "      <td>3.0</td>\n",
       "      <td>32311</td>\n",
       "      <td>2006</td>\n",
       "      <td>295000</td>\n",
       "    </tr>\n",
       "    <tr>\n",
       "      <td>11</td>\n",
       "      <td>2097</td>\n",
       "      <td>4</td>\n",
       "      <td>3.0</td>\n",
       "      <td>32311</td>\n",
       "      <td>2016</td>\n",
       "      <td>290000</td>\n",
       "    </tr>\n",
       "    <tr>\n",
       "      <td>12</td>\n",
       "      <td>3200</td>\n",
       "      <td>5</td>\n",
       "      <td>4.0</td>\n",
       "      <td>32312</td>\n",
       "      <td>1964</td>\n",
       "      <td>465000</td>\n",
       "    </tr>\n",
       "    <tr>\n",
       "      <td>13</td>\n",
       "      <td>4892</td>\n",
       "      <td>5</td>\n",
       "      <td>6.0</td>\n",
       "      <td>32311</td>\n",
       "      <td>2005</td>\n",
       "      <td>799900</td>\n",
       "    </tr>\n",
       "    <tr>\n",
       "      <td>16</td>\n",
       "      <td>4242</td>\n",
       "      <td>4</td>\n",
       "      <td>5.0</td>\n",
       "      <td>32303</td>\n",
       "      <td>2007</td>\n",
       "      <td>569000</td>\n",
       "    </tr>\n",
       "    <tr>\n",
       "      <td>17</td>\n",
       "      <td>2533</td>\n",
       "      <td>3</td>\n",
       "      <td>2.0</td>\n",
       "      <td>32310</td>\n",
       "      <td>1991</td>\n",
       "      <td>365000</td>\n",
       "    </tr>\n",
       "    <tr>\n",
       "      <td>19</td>\n",
       "      <td>2497</td>\n",
       "      <td>4</td>\n",
       "      <td>4.0</td>\n",
       "      <td>32309</td>\n",
       "      <td>1990</td>\n",
       "      <td>289000</td>\n",
       "    </tr>\n",
       "    <tr>\n",
       "      <td>20</td>\n",
       "      <td>4010</td>\n",
       "      <td>5</td>\n",
       "      <td>3.0</td>\n",
       "      <td>32309</td>\n",
       "      <td>2002</td>\n",
       "      <td>549900</td>\n",
       "    </tr>\n",
       "  </tbody>\n",
       "</table>\n",
       "</div>"
      ],
      "text/plain": [
       "       Living Space (sq ft)  Beds  Baths    Zip  Year  List Price ($)\n",
       "Index                                                                \n",
       "1                      2222     3    3.5  32312  1981          250000\n",
       "3                      3824     5    4.0  32312  1954          399000\n",
       "5                      3560     6    4.0  32309  1973          315000\n",
       "6                      2893     4    3.0  32312  1994          699000\n",
       "7                      3631     4    3.0  32309  1996          649000\n",
       "8                      2483     4    3.0  32312  2016          399000\n",
       "9                      2400     4    4.0  32312  2002          613000\n",
       "10                     1997     3    3.0  32311  2006          295000\n",
       "11                     2097     4    3.0  32311  2016          290000\n",
       "12                     3200     5    4.0  32312  1964          465000\n",
       "13                     4892     5    6.0  32311  2005          799900\n",
       "16                     4242     4    5.0  32303  2007          569000\n",
       "17                     2533     3    2.0  32310  1991          365000\n",
       "19                     2497     4    4.0  32309  1990          289000\n",
       "20                     4010     5    3.0  32309  2002          549900"
      ]
     },
     "execution_count": 59,
     "metadata": {},
     "output_type": "execute_result"
    }
   ],
   "source": [
    "houses_more200k = df[ index_price_more_than200K ]\n",
    "houses_more200k"
   ]
  },
  {
   "cell_type": "code",
   "execution_count": 60,
   "metadata": {},
   "outputs": [],
   "source": [
    "# houses_more200k.index[:5]"
   ]
  },
  {
   "cell_type": "code",
   "execution_count": 61,
   "metadata": {},
   "outputs": [
    {
     "data": {
      "text/html": [
       "<div>\n",
       "<style scoped>\n",
       "    .dataframe tbody tr th:only-of-type {\n",
       "        vertical-align: middle;\n",
       "    }\n",
       "\n",
       "    .dataframe tbody tr th {\n",
       "        vertical-align: top;\n",
       "    }\n",
       "\n",
       "    .dataframe thead th {\n",
       "        text-align: right;\n",
       "    }\n",
       "</style>\n",
       "<table border=\"1\" class=\"dataframe\">\n",
       "  <thead>\n",
       "    <tr style=\"text-align: right;\">\n",
       "      <th></th>\n",
       "      <th>Living Space (sq ft)</th>\n",
       "      <th>Beds</th>\n",
       "      <th>Baths</th>\n",
       "      <th>Zip</th>\n",
       "      <th>Year</th>\n",
       "      <th>List Price ($)</th>\n",
       "    </tr>\n",
       "    <tr>\n",
       "      <th>Index</th>\n",
       "      <th></th>\n",
       "      <th></th>\n",
       "      <th></th>\n",
       "      <th></th>\n",
       "      <th></th>\n",
       "      <th></th>\n",
       "    </tr>\n",
       "  </thead>\n",
       "  <tbody>\n",
       "    <tr>\n",
       "      <td>1</td>\n",
       "      <td>2222</td>\n",
       "      <td>3</td>\n",
       "      <td>3.5</td>\n",
       "      <td>32312</td>\n",
       "      <td>1981</td>\n",
       "      <td>250000</td>\n",
       "    </tr>\n",
       "    <tr>\n",
       "      <td>2</td>\n",
       "      <td>1628</td>\n",
       "      <td>3</td>\n",
       "      <td>2.0</td>\n",
       "      <td>32308</td>\n",
       "      <td>2009</td>\n",
       "      <td>185000</td>\n",
       "    </tr>\n",
       "    <tr>\n",
       "      <td>3</td>\n",
       "      <td>3824</td>\n",
       "      <td>5</td>\n",
       "      <td>4.0</td>\n",
       "      <td>32312</td>\n",
       "      <td>1954</td>\n",
       "      <td>399000</td>\n",
       "    </tr>\n",
       "    <tr>\n",
       "      <td>4</td>\n",
       "      <td>1137</td>\n",
       "      <td>3</td>\n",
       "      <td>2.0</td>\n",
       "      <td>32309</td>\n",
       "      <td>1993</td>\n",
       "      <td>150000</td>\n",
       "    </tr>\n",
       "    <tr>\n",
       "      <td>5</td>\n",
       "      <td>3560</td>\n",
       "      <td>6</td>\n",
       "      <td>4.0</td>\n",
       "      <td>32309</td>\n",
       "      <td>1973</td>\n",
       "      <td>315000</td>\n",
       "    </tr>\n",
       "    <tr>\n",
       "      <td>6</td>\n",
       "      <td>2893</td>\n",
       "      <td>4</td>\n",
       "      <td>3.0</td>\n",
       "      <td>32312</td>\n",
       "      <td>1994</td>\n",
       "      <td>699000</td>\n",
       "    </tr>\n",
       "    <tr>\n",
       "      <td>7</td>\n",
       "      <td>3631</td>\n",
       "      <td>4</td>\n",
       "      <td>3.0</td>\n",
       "      <td>32309</td>\n",
       "      <td>1996</td>\n",
       "      <td>649000</td>\n",
       "    </tr>\n",
       "    <tr>\n",
       "      <td>8</td>\n",
       "      <td>2483</td>\n",
       "      <td>4</td>\n",
       "      <td>3.0</td>\n",
       "      <td>32312</td>\n",
       "      <td>2016</td>\n",
       "      <td>399000</td>\n",
       "    </tr>\n",
       "    <tr>\n",
       "      <td>9</td>\n",
       "      <td>2400</td>\n",
       "      <td>4</td>\n",
       "      <td>4.0</td>\n",
       "      <td>32312</td>\n",
       "      <td>2002</td>\n",
       "      <td>613000</td>\n",
       "    </tr>\n",
       "    <tr>\n",
       "      <td>10</td>\n",
       "      <td>1997</td>\n",
       "      <td>3</td>\n",
       "      <td>3.0</td>\n",
       "      <td>32311</td>\n",
       "      <td>2006</td>\n",
       "      <td>295000</td>\n",
       "    </tr>\n",
       "    <tr>\n",
       "      <td>11</td>\n",
       "      <td>2097</td>\n",
       "      <td>4</td>\n",
       "      <td>3.0</td>\n",
       "      <td>32311</td>\n",
       "      <td>2016</td>\n",
       "      <td>290000</td>\n",
       "    </tr>\n",
       "    <tr>\n",
       "      <td>12</td>\n",
       "      <td>3200</td>\n",
       "      <td>5</td>\n",
       "      <td>4.0</td>\n",
       "      <td>32312</td>\n",
       "      <td>1964</td>\n",
       "      <td>465000</td>\n",
       "    </tr>\n",
       "    <tr>\n",
       "      <td>13</td>\n",
       "      <td>4892</td>\n",
       "      <td>5</td>\n",
       "      <td>6.0</td>\n",
       "      <td>32311</td>\n",
       "      <td>2005</td>\n",
       "      <td>799900</td>\n",
       "    </tr>\n",
       "    <tr>\n",
       "      <td>14</td>\n",
       "      <td>1128</td>\n",
       "      <td>2</td>\n",
       "      <td>1.0</td>\n",
       "      <td>32303</td>\n",
       "      <td>1955</td>\n",
       "      <td>89000</td>\n",
       "    </tr>\n",
       "    <tr>\n",
       "      <td>15</td>\n",
       "      <td>1381</td>\n",
       "      <td>3</td>\n",
       "      <td>2.0</td>\n",
       "      <td>32301</td>\n",
       "      <td>2006</td>\n",
       "      <td>143000</td>\n",
       "    </tr>\n",
       "    <tr>\n",
       "      <td>16</td>\n",
       "      <td>4242</td>\n",
       "      <td>4</td>\n",
       "      <td>5.0</td>\n",
       "      <td>32303</td>\n",
       "      <td>2007</td>\n",
       "      <td>569000</td>\n",
       "    </tr>\n",
       "    <tr>\n",
       "      <td>17</td>\n",
       "      <td>2533</td>\n",
       "      <td>3</td>\n",
       "      <td>2.0</td>\n",
       "      <td>32310</td>\n",
       "      <td>1991</td>\n",
       "      <td>365000</td>\n",
       "    </tr>\n",
       "    <tr>\n",
       "      <td>18</td>\n",
       "      <td>1158</td>\n",
       "      <td>3</td>\n",
       "      <td>2.0</td>\n",
       "      <td>32303</td>\n",
       "      <td>1993</td>\n",
       "      <td>155000</td>\n",
       "    </tr>\n",
       "    <tr>\n",
       "      <td>19</td>\n",
       "      <td>2497</td>\n",
       "      <td>4</td>\n",
       "      <td>4.0</td>\n",
       "      <td>32309</td>\n",
       "      <td>1990</td>\n",
       "      <td>289000</td>\n",
       "    </tr>\n",
       "    <tr>\n",
       "      <td>20</td>\n",
       "      <td>4010</td>\n",
       "      <td>5</td>\n",
       "      <td>3.0</td>\n",
       "      <td>32309</td>\n",
       "      <td>2002</td>\n",
       "      <td>549900</td>\n",
       "    </tr>\n",
       "  </tbody>\n",
       "</table>\n",
       "</div>"
      ],
      "text/plain": [
       "       Living Space (sq ft)  Beds  Baths    Zip  Year  List Price ($)\n",
       "Index                                                                \n",
       "1                      2222     3    3.5  32312  1981          250000\n",
       "2                      1628     3    2.0  32308  2009          185000\n",
       "3                      3824     5    4.0  32312  1954          399000\n",
       "4                      1137     3    2.0  32309  1993          150000\n",
       "5                      3560     6    4.0  32309  1973          315000\n",
       "6                      2893     4    3.0  32312  1994          699000\n",
       "7                      3631     4    3.0  32309  1996          649000\n",
       "8                      2483     4    3.0  32312  2016          399000\n",
       "9                      2400     4    4.0  32312  2002          613000\n",
       "10                     1997     3    3.0  32311  2006          295000\n",
       "11                     2097     4    3.0  32311  2016          290000\n",
       "12                     3200     5    4.0  32312  1964          465000\n",
       "13                     4892     5    6.0  32311  2005          799900\n",
       "14                     1128     2    1.0  32303  1955           89000\n",
       "15                     1381     3    2.0  32301  2006          143000\n",
       "16                     4242     4    5.0  32303  2007          569000\n",
       "17                     2533     3    2.0  32310  1991          365000\n",
       "18                     1158     3    2.0  32303  1993          155000\n",
       "19                     2497     4    4.0  32309  1990          289000\n",
       "20                     4010     5    3.0  32309  2002          549900"
      ]
     },
     "execution_count": 61,
     "metadata": {},
     "output_type": "execute_result"
    }
   ],
   "source": [
    "df"
   ]
  },
  {
   "cell_type": "code",
   "execution_count": 62,
   "metadata": {},
   "outputs": [],
   "source": [
    "# extracting features\n",
    "zip_codes = [32311, 32312]\n",
    "\n",
    "df['Candidate'] = ['nice' if zipcode in zip_codes else 'far' for zipcode in df['Zip']]"
   ]
  },
  {
   "cell_type": "code",
   "execution_count": 63,
   "metadata": {},
   "outputs": [
    {
     "data": {
      "text/html": [
       "<div>\n",
       "<style scoped>\n",
       "    .dataframe tbody tr th:only-of-type {\n",
       "        vertical-align: middle;\n",
       "    }\n",
       "\n",
       "    .dataframe tbody tr th {\n",
       "        vertical-align: top;\n",
       "    }\n",
       "\n",
       "    .dataframe thead th {\n",
       "        text-align: right;\n",
       "    }\n",
       "</style>\n",
       "<table border=\"1\" class=\"dataframe\">\n",
       "  <thead>\n",
       "    <tr style=\"text-align: right;\">\n",
       "      <th></th>\n",
       "      <th>Living Space (sq ft)</th>\n",
       "      <th>Beds</th>\n",
       "      <th>Baths</th>\n",
       "      <th>Zip</th>\n",
       "      <th>Year</th>\n",
       "      <th>List Price ($)</th>\n",
       "      <th>Candidate</th>\n",
       "    </tr>\n",
       "    <tr>\n",
       "      <th>Index</th>\n",
       "      <th></th>\n",
       "      <th></th>\n",
       "      <th></th>\n",
       "      <th></th>\n",
       "      <th></th>\n",
       "      <th></th>\n",
       "      <th></th>\n",
       "    </tr>\n",
       "  </thead>\n",
       "  <tbody>\n",
       "    <tr>\n",
       "      <td>1</td>\n",
       "      <td>2222</td>\n",
       "      <td>3</td>\n",
       "      <td>3.5</td>\n",
       "      <td>32312</td>\n",
       "      <td>1981</td>\n",
       "      <td>250000</td>\n",
       "      <td>nice</td>\n",
       "    </tr>\n",
       "    <tr>\n",
       "      <td>2</td>\n",
       "      <td>1628</td>\n",
       "      <td>3</td>\n",
       "      <td>2.0</td>\n",
       "      <td>32308</td>\n",
       "      <td>2009</td>\n",
       "      <td>185000</td>\n",
       "      <td>far</td>\n",
       "    </tr>\n",
       "    <tr>\n",
       "      <td>3</td>\n",
       "      <td>3824</td>\n",
       "      <td>5</td>\n",
       "      <td>4.0</td>\n",
       "      <td>32312</td>\n",
       "      <td>1954</td>\n",
       "      <td>399000</td>\n",
       "      <td>nice</td>\n",
       "    </tr>\n",
       "    <tr>\n",
       "      <td>4</td>\n",
       "      <td>1137</td>\n",
       "      <td>3</td>\n",
       "      <td>2.0</td>\n",
       "      <td>32309</td>\n",
       "      <td>1993</td>\n",
       "      <td>150000</td>\n",
       "      <td>far</td>\n",
       "    </tr>\n",
       "    <tr>\n",
       "      <td>5</td>\n",
       "      <td>3560</td>\n",
       "      <td>6</td>\n",
       "      <td>4.0</td>\n",
       "      <td>32309</td>\n",
       "      <td>1973</td>\n",
       "      <td>315000</td>\n",
       "      <td>far</td>\n",
       "    </tr>\n",
       "    <tr>\n",
       "      <td>6</td>\n",
       "      <td>2893</td>\n",
       "      <td>4</td>\n",
       "      <td>3.0</td>\n",
       "      <td>32312</td>\n",
       "      <td>1994</td>\n",
       "      <td>699000</td>\n",
       "      <td>nice</td>\n",
       "    </tr>\n",
       "    <tr>\n",
       "      <td>7</td>\n",
       "      <td>3631</td>\n",
       "      <td>4</td>\n",
       "      <td>3.0</td>\n",
       "      <td>32309</td>\n",
       "      <td>1996</td>\n",
       "      <td>649000</td>\n",
       "      <td>far</td>\n",
       "    </tr>\n",
       "    <tr>\n",
       "      <td>8</td>\n",
       "      <td>2483</td>\n",
       "      <td>4</td>\n",
       "      <td>3.0</td>\n",
       "      <td>32312</td>\n",
       "      <td>2016</td>\n",
       "      <td>399000</td>\n",
       "      <td>nice</td>\n",
       "    </tr>\n",
       "    <tr>\n",
       "      <td>9</td>\n",
       "      <td>2400</td>\n",
       "      <td>4</td>\n",
       "      <td>4.0</td>\n",
       "      <td>32312</td>\n",
       "      <td>2002</td>\n",
       "      <td>613000</td>\n",
       "      <td>nice</td>\n",
       "    </tr>\n",
       "    <tr>\n",
       "      <td>10</td>\n",
       "      <td>1997</td>\n",
       "      <td>3</td>\n",
       "      <td>3.0</td>\n",
       "      <td>32311</td>\n",
       "      <td>2006</td>\n",
       "      <td>295000</td>\n",
       "      <td>nice</td>\n",
       "    </tr>\n",
       "    <tr>\n",
       "      <td>11</td>\n",
       "      <td>2097</td>\n",
       "      <td>4</td>\n",
       "      <td>3.0</td>\n",
       "      <td>32311</td>\n",
       "      <td>2016</td>\n",
       "      <td>290000</td>\n",
       "      <td>nice</td>\n",
       "    </tr>\n",
       "    <tr>\n",
       "      <td>12</td>\n",
       "      <td>3200</td>\n",
       "      <td>5</td>\n",
       "      <td>4.0</td>\n",
       "      <td>32312</td>\n",
       "      <td>1964</td>\n",
       "      <td>465000</td>\n",
       "      <td>nice</td>\n",
       "    </tr>\n",
       "    <tr>\n",
       "      <td>13</td>\n",
       "      <td>4892</td>\n",
       "      <td>5</td>\n",
       "      <td>6.0</td>\n",
       "      <td>32311</td>\n",
       "      <td>2005</td>\n",
       "      <td>799900</td>\n",
       "      <td>nice</td>\n",
       "    </tr>\n",
       "    <tr>\n",
       "      <td>14</td>\n",
       "      <td>1128</td>\n",
       "      <td>2</td>\n",
       "      <td>1.0</td>\n",
       "      <td>32303</td>\n",
       "      <td>1955</td>\n",
       "      <td>89000</td>\n",
       "      <td>far</td>\n",
       "    </tr>\n",
       "    <tr>\n",
       "      <td>15</td>\n",
       "      <td>1381</td>\n",
       "      <td>3</td>\n",
       "      <td>2.0</td>\n",
       "      <td>32301</td>\n",
       "      <td>2006</td>\n",
       "      <td>143000</td>\n",
       "      <td>far</td>\n",
       "    </tr>\n",
       "    <tr>\n",
       "      <td>16</td>\n",
       "      <td>4242</td>\n",
       "      <td>4</td>\n",
       "      <td>5.0</td>\n",
       "      <td>32303</td>\n",
       "      <td>2007</td>\n",
       "      <td>569000</td>\n",
       "      <td>far</td>\n",
       "    </tr>\n",
       "    <tr>\n",
       "      <td>17</td>\n",
       "      <td>2533</td>\n",
       "      <td>3</td>\n",
       "      <td>2.0</td>\n",
       "      <td>32310</td>\n",
       "      <td>1991</td>\n",
       "      <td>365000</td>\n",
       "      <td>far</td>\n",
       "    </tr>\n",
       "    <tr>\n",
       "      <td>18</td>\n",
       "      <td>1158</td>\n",
       "      <td>3</td>\n",
       "      <td>2.0</td>\n",
       "      <td>32303</td>\n",
       "      <td>1993</td>\n",
       "      <td>155000</td>\n",
       "      <td>far</td>\n",
       "    </tr>\n",
       "    <tr>\n",
       "      <td>19</td>\n",
       "      <td>2497</td>\n",
       "      <td>4</td>\n",
       "      <td>4.0</td>\n",
       "      <td>32309</td>\n",
       "      <td>1990</td>\n",
       "      <td>289000</td>\n",
       "      <td>far</td>\n",
       "    </tr>\n",
       "    <tr>\n",
       "      <td>20</td>\n",
       "      <td>4010</td>\n",
       "      <td>5</td>\n",
       "      <td>3.0</td>\n",
       "      <td>32309</td>\n",
       "      <td>2002</td>\n",
       "      <td>549900</td>\n",
       "      <td>far</td>\n",
       "    </tr>\n",
       "  </tbody>\n",
       "</table>\n",
       "</div>"
      ],
      "text/plain": [
       "       Living Space (sq ft)  Beds  Baths    Zip  Year  List Price ($)  \\\n",
       "Index                                                                   \n",
       "1                      2222     3    3.5  32312  1981          250000   \n",
       "2                      1628     3    2.0  32308  2009          185000   \n",
       "3                      3824     5    4.0  32312  1954          399000   \n",
       "4                      1137     3    2.0  32309  1993          150000   \n",
       "5                      3560     6    4.0  32309  1973          315000   \n",
       "6                      2893     4    3.0  32312  1994          699000   \n",
       "7                      3631     4    3.0  32309  1996          649000   \n",
       "8                      2483     4    3.0  32312  2016          399000   \n",
       "9                      2400     4    4.0  32312  2002          613000   \n",
       "10                     1997     3    3.0  32311  2006          295000   \n",
       "11                     2097     4    3.0  32311  2016          290000   \n",
       "12                     3200     5    4.0  32312  1964          465000   \n",
       "13                     4892     5    6.0  32311  2005          799900   \n",
       "14                     1128     2    1.0  32303  1955           89000   \n",
       "15                     1381     3    2.0  32301  2006          143000   \n",
       "16                     4242     4    5.0  32303  2007          569000   \n",
       "17                     2533     3    2.0  32310  1991          365000   \n",
       "18                     1158     3    2.0  32303  1993          155000   \n",
       "19                     2497     4    4.0  32309  1990          289000   \n",
       "20                     4010     5    3.0  32309  2002          549900   \n",
       "\n",
       "      Candidate  \n",
       "Index            \n",
       "1          nice  \n",
       "2           far  \n",
       "3          nice  \n",
       "4           far  \n",
       "5           far  \n",
       "6          nice  \n",
       "7           far  \n",
       "8          nice  \n",
       "9          nice  \n",
       "10         nice  \n",
       "11         nice  \n",
       "12         nice  \n",
       "13         nice  \n",
       "14          far  \n",
       "15          far  \n",
       "16          far  \n",
       "17          far  \n",
       "18          far  \n",
       "19          far  \n",
       "20          far  "
      ]
     },
     "execution_count": 63,
     "metadata": {},
     "output_type": "execute_result"
    }
   ],
   "source": [
    "df"
   ]
  },
  {
   "cell_type": "code",
   "execution_count": 64,
   "metadata": {},
   "outputs": [],
   "source": [
    "df['RoomPerBath'] = [r/b for r, b in zip(df['Beds'], df['Baths'])]"
   ]
  },
  {
   "cell_type": "code",
   "execution_count": 65,
   "metadata": {},
   "outputs": [
    {
     "data": {
      "text/html": [
       "<div>\n",
       "<style scoped>\n",
       "    .dataframe tbody tr th:only-of-type {\n",
       "        vertical-align: middle;\n",
       "    }\n",
       "\n",
       "    .dataframe tbody tr th {\n",
       "        vertical-align: top;\n",
       "    }\n",
       "\n",
       "    .dataframe thead th {\n",
       "        text-align: right;\n",
       "    }\n",
       "</style>\n",
       "<table border=\"1\" class=\"dataframe\">\n",
       "  <thead>\n",
       "    <tr style=\"text-align: right;\">\n",
       "      <th></th>\n",
       "      <th>Living Space (sq ft)</th>\n",
       "      <th>Beds</th>\n",
       "      <th>Baths</th>\n",
       "      <th>Zip</th>\n",
       "      <th>Year</th>\n",
       "      <th>List Price ($)</th>\n",
       "      <th>Candidate</th>\n",
       "      <th>RoomPerBath</th>\n",
       "    </tr>\n",
       "    <tr>\n",
       "      <th>Index</th>\n",
       "      <th></th>\n",
       "      <th></th>\n",
       "      <th></th>\n",
       "      <th></th>\n",
       "      <th></th>\n",
       "      <th></th>\n",
       "      <th></th>\n",
       "      <th></th>\n",
       "    </tr>\n",
       "  </thead>\n",
       "  <tbody>\n",
       "    <tr>\n",
       "      <td>1</td>\n",
       "      <td>2222</td>\n",
       "      <td>3</td>\n",
       "      <td>3.5</td>\n",
       "      <td>32312</td>\n",
       "      <td>1981</td>\n",
       "      <td>250000</td>\n",
       "      <td>nice</td>\n",
       "      <td>0.857143</td>\n",
       "    </tr>\n",
       "    <tr>\n",
       "      <td>2</td>\n",
       "      <td>1628</td>\n",
       "      <td>3</td>\n",
       "      <td>2.0</td>\n",
       "      <td>32308</td>\n",
       "      <td>2009</td>\n",
       "      <td>185000</td>\n",
       "      <td>far</td>\n",
       "      <td>1.500000</td>\n",
       "    </tr>\n",
       "    <tr>\n",
       "      <td>3</td>\n",
       "      <td>3824</td>\n",
       "      <td>5</td>\n",
       "      <td>4.0</td>\n",
       "      <td>32312</td>\n",
       "      <td>1954</td>\n",
       "      <td>399000</td>\n",
       "      <td>nice</td>\n",
       "      <td>1.250000</td>\n",
       "    </tr>\n",
       "    <tr>\n",
       "      <td>4</td>\n",
       "      <td>1137</td>\n",
       "      <td>3</td>\n",
       "      <td>2.0</td>\n",
       "      <td>32309</td>\n",
       "      <td>1993</td>\n",
       "      <td>150000</td>\n",
       "      <td>far</td>\n",
       "      <td>1.500000</td>\n",
       "    </tr>\n",
       "    <tr>\n",
       "      <td>5</td>\n",
       "      <td>3560</td>\n",
       "      <td>6</td>\n",
       "      <td>4.0</td>\n",
       "      <td>32309</td>\n",
       "      <td>1973</td>\n",
       "      <td>315000</td>\n",
       "      <td>far</td>\n",
       "      <td>1.500000</td>\n",
       "    </tr>\n",
       "    <tr>\n",
       "      <td>6</td>\n",
       "      <td>2893</td>\n",
       "      <td>4</td>\n",
       "      <td>3.0</td>\n",
       "      <td>32312</td>\n",
       "      <td>1994</td>\n",
       "      <td>699000</td>\n",
       "      <td>nice</td>\n",
       "      <td>1.333333</td>\n",
       "    </tr>\n",
       "    <tr>\n",
       "      <td>7</td>\n",
       "      <td>3631</td>\n",
       "      <td>4</td>\n",
       "      <td>3.0</td>\n",
       "      <td>32309</td>\n",
       "      <td>1996</td>\n",
       "      <td>649000</td>\n",
       "      <td>far</td>\n",
       "      <td>1.333333</td>\n",
       "    </tr>\n",
       "    <tr>\n",
       "      <td>8</td>\n",
       "      <td>2483</td>\n",
       "      <td>4</td>\n",
       "      <td>3.0</td>\n",
       "      <td>32312</td>\n",
       "      <td>2016</td>\n",
       "      <td>399000</td>\n",
       "      <td>nice</td>\n",
       "      <td>1.333333</td>\n",
       "    </tr>\n",
       "    <tr>\n",
       "      <td>9</td>\n",
       "      <td>2400</td>\n",
       "      <td>4</td>\n",
       "      <td>4.0</td>\n",
       "      <td>32312</td>\n",
       "      <td>2002</td>\n",
       "      <td>613000</td>\n",
       "      <td>nice</td>\n",
       "      <td>1.000000</td>\n",
       "    </tr>\n",
       "    <tr>\n",
       "      <td>10</td>\n",
       "      <td>1997</td>\n",
       "      <td>3</td>\n",
       "      <td>3.0</td>\n",
       "      <td>32311</td>\n",
       "      <td>2006</td>\n",
       "      <td>295000</td>\n",
       "      <td>nice</td>\n",
       "      <td>1.000000</td>\n",
       "    </tr>\n",
       "    <tr>\n",
       "      <td>11</td>\n",
       "      <td>2097</td>\n",
       "      <td>4</td>\n",
       "      <td>3.0</td>\n",
       "      <td>32311</td>\n",
       "      <td>2016</td>\n",
       "      <td>290000</td>\n",
       "      <td>nice</td>\n",
       "      <td>1.333333</td>\n",
       "    </tr>\n",
       "    <tr>\n",
       "      <td>12</td>\n",
       "      <td>3200</td>\n",
       "      <td>5</td>\n",
       "      <td>4.0</td>\n",
       "      <td>32312</td>\n",
       "      <td>1964</td>\n",
       "      <td>465000</td>\n",
       "      <td>nice</td>\n",
       "      <td>1.250000</td>\n",
       "    </tr>\n",
       "    <tr>\n",
       "      <td>13</td>\n",
       "      <td>4892</td>\n",
       "      <td>5</td>\n",
       "      <td>6.0</td>\n",
       "      <td>32311</td>\n",
       "      <td>2005</td>\n",
       "      <td>799900</td>\n",
       "      <td>nice</td>\n",
       "      <td>0.833333</td>\n",
       "    </tr>\n",
       "    <tr>\n",
       "      <td>14</td>\n",
       "      <td>1128</td>\n",
       "      <td>2</td>\n",
       "      <td>1.0</td>\n",
       "      <td>32303</td>\n",
       "      <td>1955</td>\n",
       "      <td>89000</td>\n",
       "      <td>far</td>\n",
       "      <td>2.000000</td>\n",
       "    </tr>\n",
       "    <tr>\n",
       "      <td>15</td>\n",
       "      <td>1381</td>\n",
       "      <td>3</td>\n",
       "      <td>2.0</td>\n",
       "      <td>32301</td>\n",
       "      <td>2006</td>\n",
       "      <td>143000</td>\n",
       "      <td>far</td>\n",
       "      <td>1.500000</td>\n",
       "    </tr>\n",
       "    <tr>\n",
       "      <td>16</td>\n",
       "      <td>4242</td>\n",
       "      <td>4</td>\n",
       "      <td>5.0</td>\n",
       "      <td>32303</td>\n",
       "      <td>2007</td>\n",
       "      <td>569000</td>\n",
       "      <td>far</td>\n",
       "      <td>0.800000</td>\n",
       "    </tr>\n",
       "    <tr>\n",
       "      <td>17</td>\n",
       "      <td>2533</td>\n",
       "      <td>3</td>\n",
       "      <td>2.0</td>\n",
       "      <td>32310</td>\n",
       "      <td>1991</td>\n",
       "      <td>365000</td>\n",
       "      <td>far</td>\n",
       "      <td>1.500000</td>\n",
       "    </tr>\n",
       "    <tr>\n",
       "      <td>18</td>\n",
       "      <td>1158</td>\n",
       "      <td>3</td>\n",
       "      <td>2.0</td>\n",
       "      <td>32303</td>\n",
       "      <td>1993</td>\n",
       "      <td>155000</td>\n",
       "      <td>far</td>\n",
       "      <td>1.500000</td>\n",
       "    </tr>\n",
       "    <tr>\n",
       "      <td>19</td>\n",
       "      <td>2497</td>\n",
       "      <td>4</td>\n",
       "      <td>4.0</td>\n",
       "      <td>32309</td>\n",
       "      <td>1990</td>\n",
       "      <td>289000</td>\n",
       "      <td>far</td>\n",
       "      <td>1.000000</td>\n",
       "    </tr>\n",
       "    <tr>\n",
       "      <td>20</td>\n",
       "      <td>4010</td>\n",
       "      <td>5</td>\n",
       "      <td>3.0</td>\n",
       "      <td>32309</td>\n",
       "      <td>2002</td>\n",
       "      <td>549900</td>\n",
       "      <td>far</td>\n",
       "      <td>1.666667</td>\n",
       "    </tr>\n",
       "  </tbody>\n",
       "</table>\n",
       "</div>"
      ],
      "text/plain": [
       "       Living Space (sq ft)  Beds  Baths    Zip  Year  List Price ($)  \\\n",
       "Index                                                                   \n",
       "1                      2222     3    3.5  32312  1981          250000   \n",
       "2                      1628     3    2.0  32308  2009          185000   \n",
       "3                      3824     5    4.0  32312  1954          399000   \n",
       "4                      1137     3    2.0  32309  1993          150000   \n",
       "5                      3560     6    4.0  32309  1973          315000   \n",
       "6                      2893     4    3.0  32312  1994          699000   \n",
       "7                      3631     4    3.0  32309  1996          649000   \n",
       "8                      2483     4    3.0  32312  2016          399000   \n",
       "9                      2400     4    4.0  32312  2002          613000   \n",
       "10                     1997     3    3.0  32311  2006          295000   \n",
       "11                     2097     4    3.0  32311  2016          290000   \n",
       "12                     3200     5    4.0  32312  1964          465000   \n",
       "13                     4892     5    6.0  32311  2005          799900   \n",
       "14                     1128     2    1.0  32303  1955           89000   \n",
       "15                     1381     3    2.0  32301  2006          143000   \n",
       "16                     4242     4    5.0  32303  2007          569000   \n",
       "17                     2533     3    2.0  32310  1991          365000   \n",
       "18                     1158     3    2.0  32303  1993          155000   \n",
       "19                     2497     4    4.0  32309  1990          289000   \n",
       "20                     4010     5    3.0  32309  2002          549900   \n",
       "\n",
       "      Candidate  RoomPerBath  \n",
       "Index                         \n",
       "1          nice     0.857143  \n",
       "2           far     1.500000  \n",
       "3          nice     1.250000  \n",
       "4           far     1.500000  \n",
       "5           far     1.500000  \n",
       "6          nice     1.333333  \n",
       "7           far     1.333333  \n",
       "8          nice     1.333333  \n",
       "9          nice     1.000000  \n",
       "10         nice     1.000000  \n",
       "11         nice     1.333333  \n",
       "12         nice     1.250000  \n",
       "13         nice     0.833333  \n",
       "14          far     2.000000  \n",
       "15          far     1.500000  \n",
       "16          far     0.800000  \n",
       "17          far     1.500000  \n",
       "18          far     1.500000  \n",
       "19          far     1.000000  \n",
       "20          far     1.666667  "
      ]
     },
     "execution_count": 65,
     "metadata": {},
     "output_type": "execute_result"
    }
   ],
   "source": [
    "df"
   ]
  },
  {
   "cell_type": "code",
   "execution_count": 67,
   "metadata": {},
   "outputs": [
    {
     "data": {
      "text/html": [
       "<div>\n",
       "<style scoped>\n",
       "    .dataframe tbody tr th:only-of-type {\n",
       "        vertical-align: middle;\n",
       "    }\n",
       "\n",
       "    .dataframe tbody tr th {\n",
       "        vertical-align: top;\n",
       "    }\n",
       "\n",
       "    .dataframe thead th {\n",
       "        text-align: right;\n",
       "    }\n",
       "</style>\n",
       "<table border=\"1\" class=\"dataframe\">\n",
       "  <thead>\n",
       "    <tr style=\"text-align: right;\">\n",
       "      <th></th>\n",
       "      <th>Living Space (sq ft)</th>\n",
       "      <th>Beds</th>\n",
       "      <th>Baths</th>\n",
       "      <th>Zip</th>\n",
       "      <th>Year</th>\n",
       "      <th>List Price ($)</th>\n",
       "      <th>Candidate</th>\n",
       "      <th>RoomPerBath</th>\n",
       "    </tr>\n",
       "    <tr>\n",
       "      <th>Index</th>\n",
       "      <th></th>\n",
       "      <th></th>\n",
       "      <th></th>\n",
       "      <th></th>\n",
       "      <th></th>\n",
       "      <th></th>\n",
       "      <th></th>\n",
       "      <th></th>\n",
       "    </tr>\n",
       "  </thead>\n",
       "  <tbody>\n",
       "    <tr>\n",
       "      <td>2</td>\n",
       "      <td>1628</td>\n",
       "      <td>3</td>\n",
       "      <td>2.0</td>\n",
       "      <td>32308</td>\n",
       "      <td>2009</td>\n",
       "      <td>185000</td>\n",
       "      <td>far</td>\n",
       "      <td>1.500000</td>\n",
       "    </tr>\n",
       "    <tr>\n",
       "      <td>3</td>\n",
       "      <td>3824</td>\n",
       "      <td>5</td>\n",
       "      <td>4.0</td>\n",
       "      <td>32312</td>\n",
       "      <td>1954</td>\n",
       "      <td>399000</td>\n",
       "      <td>nice</td>\n",
       "      <td>1.250000</td>\n",
       "    </tr>\n",
       "    <tr>\n",
       "      <td>4</td>\n",
       "      <td>1137</td>\n",
       "      <td>3</td>\n",
       "      <td>2.0</td>\n",
       "      <td>32309</td>\n",
       "      <td>1993</td>\n",
       "      <td>150000</td>\n",
       "      <td>far</td>\n",
       "      <td>1.500000</td>\n",
       "    </tr>\n",
       "    <tr>\n",
       "      <td>5</td>\n",
       "      <td>3560</td>\n",
       "      <td>6</td>\n",
       "      <td>4.0</td>\n",
       "      <td>32309</td>\n",
       "      <td>1973</td>\n",
       "      <td>315000</td>\n",
       "      <td>far</td>\n",
       "      <td>1.500000</td>\n",
       "    </tr>\n",
       "    <tr>\n",
       "      <td>6</td>\n",
       "      <td>2893</td>\n",
       "      <td>4</td>\n",
       "      <td>3.0</td>\n",
       "      <td>32312</td>\n",
       "      <td>1994</td>\n",
       "      <td>699000</td>\n",
       "      <td>nice</td>\n",
       "      <td>1.333333</td>\n",
       "    </tr>\n",
       "    <tr>\n",
       "      <td>7</td>\n",
       "      <td>3631</td>\n",
       "      <td>4</td>\n",
       "      <td>3.0</td>\n",
       "      <td>32309</td>\n",
       "      <td>1996</td>\n",
       "      <td>649000</td>\n",
       "      <td>far</td>\n",
       "      <td>1.333333</td>\n",
       "    </tr>\n",
       "    <tr>\n",
       "      <td>8</td>\n",
       "      <td>2483</td>\n",
       "      <td>4</td>\n",
       "      <td>3.0</td>\n",
       "      <td>32312</td>\n",
       "      <td>2016</td>\n",
       "      <td>399000</td>\n",
       "      <td>nice</td>\n",
       "      <td>1.333333</td>\n",
       "    </tr>\n",
       "    <tr>\n",
       "      <td>11</td>\n",
       "      <td>2097</td>\n",
       "      <td>4</td>\n",
       "      <td>3.0</td>\n",
       "      <td>32311</td>\n",
       "      <td>2016</td>\n",
       "      <td>290000</td>\n",
       "      <td>nice</td>\n",
       "      <td>1.333333</td>\n",
       "    </tr>\n",
       "    <tr>\n",
       "      <td>12</td>\n",
       "      <td>3200</td>\n",
       "      <td>5</td>\n",
       "      <td>4.0</td>\n",
       "      <td>32312</td>\n",
       "      <td>1964</td>\n",
       "      <td>465000</td>\n",
       "      <td>nice</td>\n",
       "      <td>1.250000</td>\n",
       "    </tr>\n",
       "    <tr>\n",
       "      <td>14</td>\n",
       "      <td>1128</td>\n",
       "      <td>2</td>\n",
       "      <td>1.0</td>\n",
       "      <td>32303</td>\n",
       "      <td>1955</td>\n",
       "      <td>89000</td>\n",
       "      <td>far</td>\n",
       "      <td>2.000000</td>\n",
       "    </tr>\n",
       "    <tr>\n",
       "      <td>15</td>\n",
       "      <td>1381</td>\n",
       "      <td>3</td>\n",
       "      <td>2.0</td>\n",
       "      <td>32301</td>\n",
       "      <td>2006</td>\n",
       "      <td>143000</td>\n",
       "      <td>far</td>\n",
       "      <td>1.500000</td>\n",
       "    </tr>\n",
       "    <tr>\n",
       "      <td>17</td>\n",
       "      <td>2533</td>\n",
       "      <td>3</td>\n",
       "      <td>2.0</td>\n",
       "      <td>32310</td>\n",
       "      <td>1991</td>\n",
       "      <td>365000</td>\n",
       "      <td>far</td>\n",
       "      <td>1.500000</td>\n",
       "    </tr>\n",
       "    <tr>\n",
       "      <td>18</td>\n",
       "      <td>1158</td>\n",
       "      <td>3</td>\n",
       "      <td>2.0</td>\n",
       "      <td>32303</td>\n",
       "      <td>1993</td>\n",
       "      <td>155000</td>\n",
       "      <td>far</td>\n",
       "      <td>1.500000</td>\n",
       "    </tr>\n",
       "    <tr>\n",
       "      <td>20</td>\n",
       "      <td>4010</td>\n",
       "      <td>5</td>\n",
       "      <td>3.0</td>\n",
       "      <td>32309</td>\n",
       "      <td>2002</td>\n",
       "      <td>549900</td>\n",
       "      <td>far</td>\n",
       "      <td>1.666667</td>\n",
       "    </tr>\n",
       "  </tbody>\n",
       "</table>\n",
       "</div>"
      ],
      "text/plain": [
       "       Living Space (sq ft)  Beds  Baths    Zip  Year  List Price ($)  \\\n",
       "Index                                                                   \n",
       "2                      1628     3    2.0  32308  2009          185000   \n",
       "3                      3824     5    4.0  32312  1954          399000   \n",
       "4                      1137     3    2.0  32309  1993          150000   \n",
       "5                      3560     6    4.0  32309  1973          315000   \n",
       "6                      2893     4    3.0  32312  1994          699000   \n",
       "7                      3631     4    3.0  32309  1996          649000   \n",
       "8                      2483     4    3.0  32312  2016          399000   \n",
       "11                     2097     4    3.0  32311  2016          290000   \n",
       "12                     3200     5    4.0  32312  1964          465000   \n",
       "14                     1128     2    1.0  32303  1955           89000   \n",
       "15                     1381     3    2.0  32301  2006          143000   \n",
       "17                     2533     3    2.0  32310  1991          365000   \n",
       "18                     1158     3    2.0  32303  1993          155000   \n",
       "20                     4010     5    3.0  32309  2002          549900   \n",
       "\n",
       "      Candidate  RoomPerBath  \n",
       "Index                         \n",
       "2           far     1.500000  \n",
       "3          nice     1.250000  \n",
       "4           far     1.500000  \n",
       "5           far     1.500000  \n",
       "6          nice     1.333333  \n",
       "7           far     1.333333  \n",
       "8          nice     1.333333  \n",
       "11         nice     1.333333  \n",
       "12         nice     1.250000  \n",
       "14          far     2.000000  \n",
       "15          far     1.500000  \n",
       "17          far     1.500000  \n",
       "18          far     1.500000  \n",
       "20          far     1.666667  "
      ]
     },
     "execution_count": 67,
     "metadata": {},
     "output_type": "execute_result"
    }
   ],
   "source": [
    "room_per_bath_ratio_indices = df['RoomPerBath'] > 1\n",
    "\n",
    "# print(room_per_bath_ratio_indices)\n",
    "\n",
    "df [ room_per_bath_ratio_indices ]"
   ]
  },
  {
   "cell_type": "code",
   "execution_count": 68,
   "metadata": {},
   "outputs": [
    {
     "data": {
      "text/html": [
       "<div>\n",
       "<style scoped>\n",
       "    .dataframe tbody tr th:only-of-type {\n",
       "        vertical-align: middle;\n",
       "    }\n",
       "\n",
       "    .dataframe tbody tr th {\n",
       "        vertical-align: top;\n",
       "    }\n",
       "\n",
       "    .dataframe thead th {\n",
       "        text-align: right;\n",
       "    }\n",
       "</style>\n",
       "<table border=\"1\" class=\"dataframe\">\n",
       "  <thead>\n",
       "    <tr style=\"text-align: right;\">\n",
       "      <th></th>\n",
       "      <th>Living Space (sq ft)</th>\n",
       "      <th>Beds</th>\n",
       "      <th>Baths</th>\n",
       "      <th>Zip</th>\n",
       "      <th>Year</th>\n",
       "      <th>List Price ($)</th>\n",
       "      <th>Candidate</th>\n",
       "      <th>RoomPerBath</th>\n",
       "    </tr>\n",
       "    <tr>\n",
       "      <th>Index</th>\n",
       "      <th></th>\n",
       "      <th></th>\n",
       "      <th></th>\n",
       "      <th></th>\n",
       "      <th></th>\n",
       "      <th></th>\n",
       "      <th></th>\n",
       "      <th></th>\n",
       "    </tr>\n",
       "  </thead>\n",
       "  <tbody>\n",
       "    <tr>\n",
       "      <td>2</td>\n",
       "      <td>1628</td>\n",
       "      <td>3</td>\n",
       "      <td>2.0</td>\n",
       "      <td>32308</td>\n",
       "      <td>2009</td>\n",
       "      <td>185000</td>\n",
       "      <td>far</td>\n",
       "      <td>1.500000</td>\n",
       "    </tr>\n",
       "    <tr>\n",
       "      <td>3</td>\n",
       "      <td>3824</td>\n",
       "      <td>5</td>\n",
       "      <td>4.0</td>\n",
       "      <td>32312</td>\n",
       "      <td>1954</td>\n",
       "      <td>399000</td>\n",
       "      <td>nice</td>\n",
       "      <td>1.250000</td>\n",
       "    </tr>\n",
       "    <tr>\n",
       "      <td>4</td>\n",
       "      <td>1137</td>\n",
       "      <td>3</td>\n",
       "      <td>2.0</td>\n",
       "      <td>32309</td>\n",
       "      <td>1993</td>\n",
       "      <td>150000</td>\n",
       "      <td>far</td>\n",
       "      <td>1.500000</td>\n",
       "    </tr>\n",
       "    <tr>\n",
       "      <td>5</td>\n",
       "      <td>3560</td>\n",
       "      <td>6</td>\n",
       "      <td>4.0</td>\n",
       "      <td>32309</td>\n",
       "      <td>1973</td>\n",
       "      <td>315000</td>\n",
       "      <td>far</td>\n",
       "      <td>1.500000</td>\n",
       "    </tr>\n",
       "    <tr>\n",
       "      <td>6</td>\n",
       "      <td>2893</td>\n",
       "      <td>4</td>\n",
       "      <td>3.0</td>\n",
       "      <td>32312</td>\n",
       "      <td>1994</td>\n",
       "      <td>699000</td>\n",
       "      <td>nice</td>\n",
       "      <td>1.333333</td>\n",
       "    </tr>\n",
       "    <tr>\n",
       "      <td>7</td>\n",
       "      <td>3631</td>\n",
       "      <td>4</td>\n",
       "      <td>3.0</td>\n",
       "      <td>32309</td>\n",
       "      <td>1996</td>\n",
       "      <td>649000</td>\n",
       "      <td>far</td>\n",
       "      <td>1.333333</td>\n",
       "    </tr>\n",
       "    <tr>\n",
       "      <td>8</td>\n",
       "      <td>2483</td>\n",
       "      <td>4</td>\n",
       "      <td>3.0</td>\n",
       "      <td>32312</td>\n",
       "      <td>2016</td>\n",
       "      <td>399000</td>\n",
       "      <td>nice</td>\n",
       "      <td>1.333333</td>\n",
       "    </tr>\n",
       "    <tr>\n",
       "      <td>11</td>\n",
       "      <td>2097</td>\n",
       "      <td>4</td>\n",
       "      <td>3.0</td>\n",
       "      <td>32311</td>\n",
       "      <td>2016</td>\n",
       "      <td>290000</td>\n",
       "      <td>nice</td>\n",
       "      <td>1.333333</td>\n",
       "    </tr>\n",
       "    <tr>\n",
       "      <td>12</td>\n",
       "      <td>3200</td>\n",
       "      <td>5</td>\n",
       "      <td>4.0</td>\n",
       "      <td>32312</td>\n",
       "      <td>1964</td>\n",
       "      <td>465000</td>\n",
       "      <td>nice</td>\n",
       "      <td>1.250000</td>\n",
       "    </tr>\n",
       "    <tr>\n",
       "      <td>14</td>\n",
       "      <td>1128</td>\n",
       "      <td>2</td>\n",
       "      <td>1.0</td>\n",
       "      <td>32303</td>\n",
       "      <td>1955</td>\n",
       "      <td>89000</td>\n",
       "      <td>far</td>\n",
       "      <td>2.000000</td>\n",
       "    </tr>\n",
       "    <tr>\n",
       "      <td>15</td>\n",
       "      <td>1381</td>\n",
       "      <td>3</td>\n",
       "      <td>2.0</td>\n",
       "      <td>32301</td>\n",
       "      <td>2006</td>\n",
       "      <td>143000</td>\n",
       "      <td>far</td>\n",
       "      <td>1.500000</td>\n",
       "    </tr>\n",
       "    <tr>\n",
       "      <td>17</td>\n",
       "      <td>2533</td>\n",
       "      <td>3</td>\n",
       "      <td>2.0</td>\n",
       "      <td>32310</td>\n",
       "      <td>1991</td>\n",
       "      <td>365000</td>\n",
       "      <td>far</td>\n",
       "      <td>1.500000</td>\n",
       "    </tr>\n",
       "    <tr>\n",
       "      <td>18</td>\n",
       "      <td>1158</td>\n",
       "      <td>3</td>\n",
       "      <td>2.0</td>\n",
       "      <td>32303</td>\n",
       "      <td>1993</td>\n",
       "      <td>155000</td>\n",
       "      <td>far</td>\n",
       "      <td>1.500000</td>\n",
       "    </tr>\n",
       "    <tr>\n",
       "      <td>20</td>\n",
       "      <td>4010</td>\n",
       "      <td>5</td>\n",
       "      <td>3.0</td>\n",
       "      <td>32309</td>\n",
       "      <td>2002</td>\n",
       "      <td>549900</td>\n",
       "      <td>far</td>\n",
       "      <td>1.666667</td>\n",
       "    </tr>\n",
       "  </tbody>\n",
       "</table>\n",
       "</div>"
      ],
      "text/plain": [
       "       Living Space (sq ft)  Beds  Baths    Zip  Year  List Price ($)  \\\n",
       "Index                                                                   \n",
       "2                      1628     3    2.0  32308  2009          185000   \n",
       "3                      3824     5    4.0  32312  1954          399000   \n",
       "4                      1137     3    2.0  32309  1993          150000   \n",
       "5                      3560     6    4.0  32309  1973          315000   \n",
       "6                      2893     4    3.0  32312  1994          699000   \n",
       "7                      3631     4    3.0  32309  1996          649000   \n",
       "8                      2483     4    3.0  32312  2016          399000   \n",
       "11                     2097     4    3.0  32311  2016          290000   \n",
       "12                     3200     5    4.0  32312  1964          465000   \n",
       "14                     1128     2    1.0  32303  1955           89000   \n",
       "15                     1381     3    2.0  32301  2006          143000   \n",
       "17                     2533     3    2.0  32310  1991          365000   \n",
       "18                     1158     3    2.0  32303  1993          155000   \n",
       "20                     4010     5    3.0  32309  2002          549900   \n",
       "\n",
       "      Candidate  RoomPerBath  \n",
       "Index                         \n",
       "2           far     1.500000  \n",
       "3          nice     1.250000  \n",
       "4           far     1.500000  \n",
       "5           far     1.500000  \n",
       "6          nice     1.333333  \n",
       "7           far     1.333333  \n",
       "8          nice     1.333333  \n",
       "11         nice     1.333333  \n",
       "12         nice     1.250000  \n",
       "14          far     2.000000  \n",
       "15          far     1.500000  \n",
       "17          far     1.500000  \n",
       "18          far     1.500000  \n",
       "20          far     1.666667  "
      ]
     },
     "execution_count": 68,
     "metadata": {},
     "output_type": "execute_result"
    }
   ],
   "source": [
    "df[ df['RoomPerBath'] > 1 ]"
   ]
  },
  {
   "cell_type": "code",
   "execution_count": 70,
   "metadata": {},
   "outputs": [
    {
     "data": {
      "text/plain": [
       "<matplotlib.axes._subplots.AxesSubplot at 0x7fcf3ec4a710>"
      ]
     },
     "execution_count": 70,
     "metadata": {},
     "output_type": "execute_result"
    },
    {
     "data": {
      "image/png": "[encoded data removed]",
      "text/plain": [
       "<Figure size 432x288 with 1 Axes>"
      ]
     },
     "metadata": {
      "needs_background": "light"
     },
     "output_type": "display_data"
    }
   ],
   "source": [
    "df.plot('Living Space (sq ft)', 'List Price ($)')"
   ]
  },
  {
   "cell_type": "code",
   "execution_count": 71,
   "metadata": {},
   "outputs": [
    {
     "data": {
      "text/plain": [
       "<matplotlib.axes._subplots.AxesSubplot at 0x7fcf3edde710>"
      ]
     },
     "execution_count": 71,
     "metadata": {},
     "output_type": "execute_result"
    },
    {
     "data": {
      "image/png": "[encoded data removed]",
      "text/plain": [
       "<Figure size 432x288 with 1 Axes>"
      ]
     },
     "metadata": {
      "needs_background": "light"
     },
     "output_type": "display_data"
    }
   ],
   "source": [
    "df.plot('Living Space (sq ft)', 'List Price ($)', kind='scatter')"
   ]
  },
  {
   "cell_type": "code",
   "execution_count": 82,
   "metadata": {},
   "outputs": [
    {
     "data": {
      "text/plain": [
       "<matplotlib.axes._subplots.AxesSubplot at 0x7fcf24d9b910>"
      ]
     },
     "execution_count": 82,
     "metadata": {},
     "output_type": "execute_result"
    },
    {
     "data": {
      "image/png": "[encoded data removed]",
      "text/plain": [
       "<Figure size 432x288 with 1 Axes>"
      ]
     },
     "metadata": {
      "needs_background": "light"
     },
     "output_type": "display_data"
    }
   ],
   "source": [
    "\n",
    "df['Zip'].hist()"
   ]
  },
  {
   "cell_type": "code",
   "execution_count": 83,
   "metadata": {},
   "outputs": [
    {
     "data": {
      "text/plain": [
       "{32301, 32303, 32308, 32309, 32310, 32311, 32312}"
      ]
     },
     "execution_count": 83,
     "metadata": {},
     "output_type": "execute_result"
    }
   ],
   "source": [
    "set(df['Zip'])"
   ]
  },
  {
   "cell_type": "code",
   "execution_count": 84,
   "metadata": {},
   "outputs": [
    {
     "data": {
      "text/plain": [
       "<matplotlib.axes._subplots.AxesSubplot at 0x7fcf24d0b290>"
      ]
     },
     "execution_count": 84,
     "metadata": {},
     "output_type": "execute_result"
    },
    {
     "data": {
      "image/png": "[encoded data removed]",
      "text/plain": [
       "<Figure size 432x288 with 1 Axes>"
      ]
     },
     "metadata": {
      "needs_background": "light"
     },
     "output_type": "display_data"
    }
   ],
   "source": [
    "# Zip histogram\n",
    "\n",
    "# df['Zip'].hist()\n",
    "\n",
    "df['Zip'] = df['Zip'].astype(str)\n",
    "# df['Zip'] = [ str(i) for i in df['Zip']]\n",
    "\n",
    "df['Zip'].hist()"
   ]
  },
  {
   "cell_type": "code",
   "execution_count": null,
   "metadata": {},
   "outputs": [],
   "source": []
  },
  {
   "cell_type": "code",
   "execution_count": 85,
   "metadata": {
    "scrolled": true
   },
   "outputs": [
    {
     "data": {
      "text/plain": [
       "<matplotlib.axes._subplots.AxesSubplot at 0x7fcf24f092d0>"
      ]
     },
     "execution_count": 85,
     "metadata": {},
     "output_type": "execute_result"
    },
    {
     "data": {
      "image/png": "[encoded data removed]",
      "text/plain": [
       "<Figure size 432x288 with 1 Axes>"
      ]
     },
     "metadata": {
      "needs_background": "light"
     },
     "output_type": "display_data"
    }
   ],
   "source": [
    "df[ df['RoomPerBath'] > 1 ].plot('Year', 'List Price ($)')"
   ]
  },
  {
   "cell_type": "code",
   "execution_count": 87,
   "metadata": {},
   "outputs": [
    {
     "data": {
      "text/plain": [
       "<matplotlib.axes._subplots.AxesSubplot at 0x7fcf250f8f50>"
      ]
     },
     "execution_count": 87,
     "metadata": {},
     "output_type": "execute_result"
    },
    {
     "data": {
      "image/png": "[encoded data removed]",
      "text/plain": [
       "<Figure size 432x288 with 1 Axes>"
      ]
     },
     "metadata": {
      "needs_background": "light"
     },
     "output_type": "display_data"
    }
   ],
   "source": [
    "df[ df['RoomPerBath'] > 1 ].plot('Year', 'List Price ($)', kind='scatter')"
   ]
  },
  {
   "cell_type": "code",
   "execution_count": 88,
   "metadata": {},
   "outputs": [
    {
     "data": {
      "text/html": [
       "<div>\n",
       "<style scoped>\n",
       "    .dataframe tbody tr th:only-of-type {\n",
       "        vertical-align: middle;\n",
       "    }\n",
       "\n",
       "    .dataframe tbody tr th {\n",
       "        vertical-align: top;\n",
       "    }\n",
       "\n",
       "    .dataframe thead th {\n",
       "        text-align: right;\n",
       "    }\n",
       "</style>\n",
       "<table border=\"1\" class=\"dataframe\">\n",
       "  <thead>\n",
       "    <tr style=\"text-align: right;\">\n",
       "      <th></th>\n",
       "      <th>Living Space (sq ft)</th>\n",
       "      <th>Beds</th>\n",
       "      <th>Baths</th>\n",
       "      <th>Zip</th>\n",
       "      <th>Year</th>\n",
       "      <th>List Price ($)</th>\n",
       "      <th>Candidate</th>\n",
       "      <th>RoomPerBath</th>\n",
       "      <th>RpB_color</th>\n",
       "    </tr>\n",
       "    <tr>\n",
       "      <th>Index</th>\n",
       "      <th></th>\n",
       "      <th></th>\n",
       "      <th></th>\n",
       "      <th></th>\n",
       "      <th></th>\n",
       "      <th></th>\n",
       "      <th></th>\n",
       "      <th></th>\n",
       "      <th></th>\n",
       "    </tr>\n",
       "  </thead>\n",
       "  <tbody>\n",
       "    <tr>\n",
       "      <td>1</td>\n",
       "      <td>2222</td>\n",
       "      <td>3</td>\n",
       "      <td>3.5</td>\n",
       "      <td>32312</td>\n",
       "      <td>1981</td>\n",
       "      <td>250000</td>\n",
       "      <td>nice</td>\n",
       "      <td>0.857143</td>\n",
       "      <td>red</td>\n",
       "    </tr>\n",
       "    <tr>\n",
       "      <td>2</td>\n",
       "      <td>1628</td>\n",
       "      <td>3</td>\n",
       "      <td>2.0</td>\n",
       "      <td>32308</td>\n",
       "      <td>2009</td>\n",
       "      <td>185000</td>\n",
       "      <td>far</td>\n",
       "      <td>1.500000</td>\n",
       "      <td>blue</td>\n",
       "    </tr>\n",
       "    <tr>\n",
       "      <td>3</td>\n",
       "      <td>3824</td>\n",
       "      <td>5</td>\n",
       "      <td>4.0</td>\n",
       "      <td>32312</td>\n",
       "      <td>1954</td>\n",
       "      <td>399000</td>\n",
       "      <td>nice</td>\n",
       "      <td>1.250000</td>\n",
       "      <td>blue</td>\n",
       "    </tr>\n",
       "    <tr>\n",
       "      <td>4</td>\n",
       "      <td>1137</td>\n",
       "      <td>3</td>\n",
       "      <td>2.0</td>\n",
       "      <td>32309</td>\n",
       "      <td>1993</td>\n",
       "      <td>150000</td>\n",
       "      <td>far</td>\n",
       "      <td>1.500000</td>\n",
       "      <td>blue</td>\n",
       "    </tr>\n",
       "    <tr>\n",
       "      <td>5</td>\n",
       "      <td>3560</td>\n",
       "      <td>6</td>\n",
       "      <td>4.0</td>\n",
       "      <td>32309</td>\n",
       "      <td>1973</td>\n",
       "      <td>315000</td>\n",
       "      <td>far</td>\n",
       "      <td>1.500000</td>\n",
       "      <td>blue</td>\n",
       "    </tr>\n",
       "  </tbody>\n",
       "</table>\n",
       "</div>"
      ],
      "text/plain": [
       "       Living Space (sq ft)  Beds  Baths    Zip  Year  List Price ($)  \\\n",
       "Index                                                                   \n",
       "1                      2222     3    3.5  32312  1981          250000   \n",
       "2                      1628     3    2.0  32308  2009          185000   \n",
       "3                      3824     5    4.0  32312  1954          399000   \n",
       "4                      1137     3    2.0  32309  1993          150000   \n",
       "5                      3560     6    4.0  32309  1973          315000   \n",
       "\n",
       "      Candidate  RoomPerBath RpB_color  \n",
       "Index                                   \n",
       "1          nice     0.857143       red  \n",
       "2           far     1.500000      blue  \n",
       "3          nice     1.250000      blue  \n",
       "4           far     1.500000      blue  \n",
       "5           far     1.500000      blue  "
      ]
     },
     "execution_count": 88,
     "metadata": {},
     "output_type": "execute_result"
    }
   ],
   "source": [
    "df['RpB_color'] = [ 'blue' if  x > 1 else 'red' for x in df['RoomPerBath'] ]\n",
    "df.head()"
   ]
  },
  {
   "cell_type": "code",
   "execution_count": 89,
   "metadata": {},
   "outputs": [
    {
     "data": {
      "text/plain": [
       "<matplotlib.axes._subplots.AxesSubplot at 0x7fcf2503d550>"
      ]
     },
     "execution_count": 89,
     "metadata": {},
     "output_type": "execute_result"
    },
    {
     "data": {
      "image/png": "[encoded data removed]",
      "text/plain": [
       "<Figure size 432x288 with 1 Axes>"
      ]
     },
     "metadata": {
      "needs_background": "light"
     },
     "output_type": "display_data"
    }
   ],
   "source": [
    "df.plot('Year', 'List Price ($)', kind='scatter', c=df['RpB_color'])"
   ]
  },
  {
   "cell_type": "code",
   "execution_count": 98,
   "metadata": {},
   "outputs": [],
   "source": [
    "# set(df['Year'])"
   ]
  },
  {
   "cell_type": "code",
   "execution_count": 97,
   "metadata": {},
   "outputs": [],
   "source": [
    "# def get_color(year):\n",
    "#     if year > 2005:\n",
    "#         return 'blue'\n",
    "    \n",
    "#     if year > 1991:\n",
    "#         return 'red'\n",
    "    \n",
    "#     return 'green'\n",
    "\n",
    "# colors = [ get_color(y) for y in df['Year']]\n",
    "# colors"
   ]
  },
  {
   "cell_type": "code",
   "execution_count": 96,
   "metadata": {},
   "outputs": [],
   "source": [
    "# df.plot('Year', 'List Price ($)', kind='scatter', c=colors )"
   ]
  },
  {
   "cell_type": "code",
   "execution_count": null,
   "metadata": {},
   "outputs": [],
   "source": []
  }
 ],
 "metadata": {
  "kernelspec": {
   "display_name": "Python 3",
   "language": "python",
   "name": "python3"
  },
  "language_info": {
   "codemirror_mode": {
    "name": "ipython",
    "version": 3
   },
   "file_extension": ".py",
   "mimetype": "text/x-python",
   "name": "python",
   "nbconvert_exporter": "python",
   "pygments_lexer": "ipython3",
   "version": "3.7.4"
  },
  "varInspector": {
   "cols": {
    "lenName": 16,
    "lenType": 16,
    "lenVar": 40
   },
   "kernels_config": {
    "python": {
     "delete_cmd_postfix": "",
     "delete_cmd_prefix": "del ",
     "library": "var_list.py",
     "varRefreshCmd": "print(var_dic_list())"
    },
    "r": {
     "delete_cmd_postfix": ") ",
     "delete_cmd_prefix": "rm(",
     "library": "var_list.r",
     "varRefreshCmd": "cat(var_dic_list()) "
    }
   },
   "types_to_exclude": [
    "module",
    "function",
    "builtin_function_or_method",
    "instance",
    "_Feature"
   ],
   "window_display": false
  }
 },
 "nbformat": 4,
 "nbformat_minor": 2
}

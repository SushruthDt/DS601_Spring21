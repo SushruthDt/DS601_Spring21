{
 "cells": [
  {
   "cell_type": "code",
   "execution_count": null,
   "metadata": {},
   "outputs": [],
   "source": []
  },
  {
   "cell_type": "code",
   "execution_count": null,
   "metadata": {},
   "outputs": [],
   "source": []
  },
  {
   "cell_type": "code",
   "execution_count": 1,
   "metadata": {},
   "outputs": [
    {
     "name": "stdout",
     "output_type": "stream",
     "text": [
      "pandas 0.25.1\n",
      "numpy 1.17.2\n"
     ]
    }
   ],
   "source": [
    "import pandas\n",
    "print('pandas',pandas.__version__)\n",
    "import numpy\n",
    "print('numpy',numpy.__version__)\n",
    "import glob\n",
    "from scipy.fftpack import fft, ifft\n",
    "from statsmodels.tsa.seasonal import seasonal_decompose\n",
    "from statsmodels.graphics.tsaplots import plot_acf\n",
    "import random\n",
    "import time\n",
    "import matplotlib.pyplot as plt"
   ]
  },
  {
   "cell_type": "code",
   "execution_count": 2,
   "metadata": {},
   "outputs": [
    {
     "name": "stdout",
     "output_type": "stream",
     "text": [
      "elapsed: 0.013630867004394531 seconds\n"
     ]
    }
   ],
   "source": [
    "start_time=time.time()\n",
    "df=pandas.read_pickle('power_data.pkl')\n",
    "df.reset_index(inplace=True)\n",
    "df.shape\n",
    "print('elapsed:',time.time()-start_time,'seconds')"
   ]
  },
  {
   "cell_type": "code",
   "execution_count": 3,
   "metadata": {},
   "outputs": [
    {
     "data": {
      "text/html": [
       "<div>\n",
       "<style scoped>\n",
       "    .dataframe tbody tr th:only-of-type {\n",
       "        vertical-align: middle;\n",
       "    }\n",
       "\n",
       "    .dataframe tbody tr th {\n",
       "        vertical-align: top;\n",
       "    }\n",
       "\n",
       "    .dataframe thead th {\n",
       "        text-align: right;\n",
       "    }\n",
       "</style>\n",
       "<table border=\"1\" class=\"dataframe\">\n",
       "  <thead>\n",
       "    <tr style=\"text-align: right;\">\n",
       "      <th></th>\n",
       "      <th>index</th>\n",
       "      <th>Hour_End</th>\n",
       "      <th>COAST</th>\n",
       "      <th>EAST</th>\n",
       "      <th>FAR_WEST</th>\n",
       "      <th>NORTH</th>\n",
       "      <th>NORTH_C</th>\n",
       "      <th>SOUTHERN</th>\n",
       "      <th>SOUTH_C</th>\n",
       "      <th>WEST</th>\n",
       "      <th>ERCOT</th>\n",
       "    </tr>\n",
       "  </thead>\n",
       "  <tbody>\n",
       "    <tr>\n",
       "      <td>0</td>\n",
       "      <td>0</td>\n",
       "      <td>2006-01-01 01:00:00.003</td>\n",
       "      <td>7623.394894</td>\n",
       "      <td>788.305875</td>\n",
       "      <td>1026.559049</td>\n",
       "      <td>777.157535</td>\n",
       "      <td>7549.809438</td>\n",
       "      <td>1852.416802</td>\n",
       "      <td>3797.223989</td>\n",
       "      <td>639.553370</td>\n",
       "      <td>24054.420954</td>\n",
       "    </tr>\n",
       "    <tr>\n",
       "      <td>1</td>\n",
       "      <td>1</td>\n",
       "      <td>2006-01-01 01:59:59.997</td>\n",
       "      <td>7437.102525</td>\n",
       "      <td>779.587442</td>\n",
       "      <td>1024.320168</td>\n",
       "      <td>752.171350</td>\n",
       "      <td>7291.494704</td>\n",
       "      <td>1770.283786</td>\n",
       "      <td>3637.505535</td>\n",
       "      <td>628.083900</td>\n",
       "      <td>23320.549410</td>\n",
       "    </tr>\n",
       "    <tr>\n",
       "      <td>2</td>\n",
       "      <td>2</td>\n",
       "      <td>2006-01-01 03:00:00.000</td>\n",
       "      <td>7151.481479</td>\n",
       "      <td>767.310985</td>\n",
       "      <td>1011.297406</td>\n",
       "      <td>725.028737</td>\n",
       "      <td>7012.269706</td>\n",
       "      <td>1676.891230</td>\n",
       "      <td>3482.207530</td>\n",
       "      <td>614.014931</td>\n",
       "      <td>22440.502004</td>\n",
       "    </tr>\n",
       "    <tr>\n",
       "      <td>3</td>\n",
       "      <td>3</td>\n",
       "      <td>2006-01-01 04:00:00.003</td>\n",
       "      <td>6957.302786</td>\n",
       "      <td>774.671447</td>\n",
       "      <td>1004.026250</td>\n",
       "      <td>711.968331</td>\n",
       "      <td>6896.466664</td>\n",
       "      <td>1609.080496</td>\n",
       "      <td>3363.417807</td>\n",
       "      <td>611.227308</td>\n",
       "      <td>21928.161089</td>\n",
       "    </tr>\n",
       "    <tr>\n",
       "      <td>4</td>\n",
       "      <td>4</td>\n",
       "      <td>2006-01-01 04:59:59.997</td>\n",
       "      <td>6861.596790</td>\n",
       "      <td>772.916673</td>\n",
       "      <td>1005.141879</td>\n",
       "      <td>708.933070</td>\n",
       "      <td>6810.395549</td>\n",
       "      <td>1595.417621</td>\n",
       "      <td>3303.547499</td>\n",
       "      <td>613.746434</td>\n",
       "      <td>21671.695516</td>\n",
       "    </tr>\n",
       "  </tbody>\n",
       "</table>\n",
       "</div>"
      ],
      "text/plain": [
       "   index                Hour_End        COAST        EAST     FAR_WEST  \\\n",
       "0      0 2006-01-01 01:00:00.003  7623.394894  788.305875  1026.559049   \n",
       "1      1 2006-01-01 01:59:59.997  7437.102525  779.587442  1024.320168   \n",
       "2      2 2006-01-01 03:00:00.000  7151.481479  767.310985  1011.297406   \n",
       "3      3 2006-01-01 04:00:00.003  6957.302786  774.671447  1004.026250   \n",
       "4      4 2006-01-01 04:59:59.997  6861.596790  772.916673  1005.141879   \n",
       "\n",
       "        NORTH      NORTH_C     SOUTHERN      SOUTH_C        WEST         ERCOT  \n",
       "0  777.157535  7549.809438  1852.416802  3797.223989  639.553370  24054.420954  \n",
       "1  752.171350  7291.494704  1770.283786  3637.505535  628.083900  23320.549410  \n",
       "2  725.028737  7012.269706  1676.891230  3482.207530  614.014931  22440.502004  \n",
       "3  711.968331  6896.466664  1609.080496  3363.417807  611.227308  21928.161089  \n",
       "4  708.933070  6810.395549  1595.417621  3303.547499  613.746434  21671.695516  "
      ]
     },
     "execution_count": 3,
     "metadata": {},
     "output_type": "execute_result"
    }
   ],
   "source": [
    "df.head()"
   ]
  },
  {
   "cell_type": "markdown",
   "metadata": {},
   "source": [
    "\n",
    "Sampling frequency is once per hour\n",
    "\n",
    "I expect recurring patterns daily (24 hours), weekly (7\\*24 hours), and yearly (365\\*24 hours)"
   ]
  },
  {
   "cell_type": "code",
   "execution_count": 4,
   "metadata": {},
   "outputs": [],
   "source": [
    "y = fft(df['EAST'])"
   ]
  },
  {
   "cell_type": "code",
   "execution_count": 5,
   "metadata": {},
   "outputs": [
    {
     "data": {
      "image/png": "[encoded data removed]",
      "text/plain": [
       "<Figure size 432x288 with 1 Axes>"
      ]
     },
     "metadata": {
      "needs_background": "light"
     },
     "output_type": "display_data"
    }
   ],
   "source": [
    "# https://stackoverflow.com/questions/15382076/plotting-power-spectrum-in-python\n",
    "\n",
    "ps = numpy.abs(numpy.fft.fft(df['EAST']))**2\n",
    "\n",
    "# https://stackoverflow.com/questions/3694918/how-to-extract-frequency-associated-with-fft-values-in-python\n",
    "time_step = 1 / 24\n",
    "# https://docs.scipy.org/doc/numpy/reference/generated/numpy.fft.fftfreq.html\n",
    "freqs = numpy.fft.fftfreq(df['EAST'].shape[0], time_step)\n",
    "idx = numpy.argsort(freqs)\n",
    "\n",
    "plt.semilogy(freqs[idx], ps[idx]);"
   ]
  },
  {
   "cell_type": "markdown",
   "metadata": {},
   "source": [
    "Another method to get the first half of a list"
   ]
  },
  {
   "cell_type": "code",
   "execution_count": 6,
   "metadata": {},
   "outputs": [
    {
     "name": "stdout",
     "output_type": "stream",
     "text": [
      "[0, 1, 2, 3, 4, 5, 6, 7, 8, 9]\n"
     ]
    }
   ],
   "source": [
    "alst=list(range(20))\n",
    "print(alst[0:len(alst)//2])"
   ]
  },
  {
   "cell_type": "code",
   "execution_count": 7,
   "metadata": {},
   "outputs": [
    {
     "name": "stderr",
     "output_type": "stream",
     "text": [
      "/Users/msarica/anaconda3/lib/python3.7/site-packages/numpy/core/_asarray.py:85: ComplexWarning: Casting complex values to real discards the imaginary part\n",
      "  return array(a, dtype, copy=False, order=order)\n"
     ]
    },
    {
     "data": {
      "image/png": "[encoded data removed]",
      "text/plain": [
       "<Figure size 432x288 with 1 Axes>"
      ]
     },
     "metadata": {
      "needs_background": "light"
     },
     "output_type": "display_data"
    }
   ],
   "source": [
    "plt.plot(y[0:len(y)//2]);"
   ]
  },
  {
   "cell_type": "code",
   "execution_count": 8,
   "metadata": {},
   "outputs": [
    {
     "name": "stdout",
     "output_type": "stream",
     "text": [
      "elapsed: 0.018800020217895508 seconds\n"
     ]
    },
    {
     "data": {
      "image/png": "[encoded data removed]",
      "text/plain": [
       "<Figure size 432x288 with 1 Axes>"
      ]
     },
     "metadata": {
      "needs_background": "light"
     },
     "output_type": "display_data"
    }
   ],
   "source": [
    "start_time=time.time()\n",
    "plt.semilogy(abs(y[0:len(y)//2]));\n",
    "print('elapsed:',time.time()-start_time,'seconds')"
   ]
  },
  {
   "cell_type": "code",
   "execution_count": 9,
   "metadata": {},
   "outputs": [
    {
     "data": {
      "image/png": "[encoded data removed]",
      "text/plain": [
       "<Figure size 432x288 with 1 Axes>"
      ]
     },
     "metadata": {
      "needs_background": "light"
     },
     "output_type": "display_data"
    }
   ],
   "source": [
    "plt.plot(y[0:1000]);\n",
    "plt.ylim([0,1000000]);"
   ]
  },
  {
   "cell_type": "code",
   "execution_count": 10,
   "metadata": {},
   "outputs": [
    {
     "data": {
      "image/png": "[encoded data removed]",
      "text/plain": [
       "<Figure size 432x288 with 1 Axes>"
      ]
     },
     "metadata": {
      "needs_background": "light"
     },
     "output_type": "display_data"
    }
   ],
   "source": [
    "plt.plot(y[0:10000]);\n",
    "plt.ylim([0,1000000]);"
   ]
  },
  {
   "cell_type": "code",
   "execution_count": 11,
   "metadata": {},
   "outputs": [
    {
     "data": {
      "text/plain": [
       "4380"
      ]
     },
     "execution_count": 11,
     "metadata": {},
     "output_type": "execute_result"
    }
   ],
   "source": [
    "365*12"
   ]
  },
  {
   "cell_type": "code",
   "execution_count": null,
   "metadata": {},
   "outputs": [],
   "source": []
  }
 ],
 "metadata": {
  "kernelspec": {
   "display_name": "Python 3",
   "language": "python",
   "name": "python3"
  },
  "language_info": {
   "codemirror_mode": {
    "name": "ipython",
    "version": 3
   },
   "file_extension": ".py",
   "mimetype": "text/x-python",
   "name": "python",
   "nbconvert_exporter": "python",
   "pygments_lexer": "ipython3",
   "version": "3.7.4"
  },
  "varInspector": {
   "cols": {
    "lenName": 16,
    "lenType": 16,
    "lenVar": 40
   },
   "kernels_config": {
    "python": {
     "delete_cmd_postfix": "",
     "delete_cmd_prefix": "del ",
     "library": "var_list.py",
     "varRefreshCmd": "print(var_dic_list())"
    },
    "r": {
     "delete_cmd_postfix": ") ",
     "delete_cmd_prefix": "rm(",
     "library": "var_list.r",
     "varRefreshCmd": "cat(var_dic_list()) "
    }
   },
   "types_to_exclude": [
    "module",
    "function",
    "builtin_function_or_method",
    "instance",
    "_Feature"
   ],
   "window_display": false
  }
 },
 "nbformat": 4,
 "nbformat_minor": 2
}

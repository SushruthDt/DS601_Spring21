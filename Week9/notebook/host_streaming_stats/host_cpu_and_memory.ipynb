{
 "cells": [
  {
   "cell_type": "code",
   "execution_count": 1,
   "metadata": {},
   "outputs": [],
   "source": [
    "polling_period_in_seconds = 1\n",
    "monitoring_duration_in_seconds_this_notebook=1\n",
    "monitoring_duration_in_seconds_other_notebooks=600\n",
    "\n",
    "token = '?token=1e7a29fa159723bc8a734a7516c7fd826149d240dcc23731'"
   ]
  },
  {
   "cell_type": "code",
   "execution_count": 2,
   "metadata": {},
   "outputs": [
    {
     "name": "stdout",
     "output_type": "stream",
     "text": [
      "MS.local\r\n"
     ]
    }
   ],
   "source": [
    "!hostname"
   ]
  },
  {
   "cell_type": "code",
   "execution_count": 3,
   "metadata": {},
   "outputs": [
    {
     "name": "stdout",
     "output_type": "stream",
     "text": [
      "jupyter core     : 4.5.0\n",
      "jupyter-notebook : 6.0.1\n",
      "qtconsole        : 4.5.5\n",
      "ipython          : 7.8.0\n",
      "ipykernel        : 5.1.2\n",
      "jupyter client   : 5.3.3\n",
      "jupyter lab      : 1.1.4\n",
      "nbconvert        : 5.6.0\n",
      "ipywidgets       : 7.5.1\n",
      "nbformat         : 4.4.0\n",
      "traitlets        : 4.3.3\n"
     ]
    }
   ],
   "source": [
    "!jupyter --version"
   ]
  },
  {
   "cell_type": "markdown",
   "metadata": {},
   "source": [
    "https://stackoverflow.com/questions/276052/how-to-get-current-cpu-and-ram-usage-in-python\n",
    "\n",
    "https://pypi.org/project/psutil/<BR>\n",
    "https://psutil.readthedocs.io/en/latest/"
   ]
  },
  {
   "cell_type": "markdown",
   "metadata": {},
   "source": [
    "potential additional work:\n",
    "* add strace capture\n",
    " * https://github.com/blapid/strace2py\n",
    " * https://python-ptrace.readthedocs.io/en/latest/syscall.html\n",
    " * https://github.com/dirtyharrycallahan/pystrace"
   ]
  },
  {
   "cell_type": "code",
   "execution_count": 4,
   "metadata": {},
   "outputs": [
    {
     "name": "stdout",
     "output_type": "stream",
     "text": [
      "\u001b[33mWARNING: The directory '/Users/msarica/Library/Caches/pip' or its parent directory is not owned or is not writable by the current user. The cache has been disabled. Check the permissions and owner of that directory. If executing pip with sudo, you may want sudo's -H flag.\u001b[0m\n",
      "Requirement already satisfied: psutil in /Users/msarica/anaconda3/lib/python3.7/site-packages (5.6.3)\n",
      "\u001b[33mWARNING: You are using pip version 20.2.3; however, version 21.0.1 is available.\n",
      "You should consider upgrading via the '/Users/msarica/anaconda3/bin/python -m pip install --upgrade pip' command.\u001b[0m\n"
     ]
    }
   ],
   "source": [
    "!pip install psutil"
   ]
  },
  {
   "cell_type": "code",
   "execution_count": 5,
   "metadata": {},
   "outputs": [
    {
     "name": "stdout",
     "output_type": "stream",
     "text": [
      "pandas 0.25.1\n"
     ]
    }
   ],
   "source": [
    "import requests\n",
    "import json\n",
    "import subprocess\n",
    "import psutil\n",
    "import pickle\n",
    "import os\n",
    "import time\n",
    "import datetime\n",
    "import pandas\n",
    "print('pandas',pandas.__version__)\n",
    "import matplotlib.pyplot as plt"
   ]
  },
  {
   "cell_type": "raw",
   "metadata": {},
   "source": [
    "pandas.set_option('display.max_rows', 1000)\n",
    "pandas.set_option('display.max_columns', 1000)"
   ]
  },
  {
   "cell_type": "markdown",
   "metadata": {},
   "source": [
    "# one-time system details"
   ]
  },
  {
   "cell_type": "code",
   "execution_count": 6,
   "metadata": {},
   "outputs": [
    {
     "name": "stdout",
     "output_type": "stream",
     "text": [
      "scpufreq(current=2300, min=2300, max=2300)\n"
     ]
    }
   ],
   "source": [
    "print(psutil.cpu_freq())"
   ]
  },
  {
   "cell_type": "code",
   "execution_count": 7,
   "metadata": {},
   "outputs": [
    {
     "name": "stdout",
     "output_type": "stream",
     "text": [
      "44893\n"
     ]
    }
   ],
   "source": [
    "pid = os.getpid()\n",
    "print(pid)"
   ]
  },
  {
   "cell_type": "code",
   "execution_count": 8,
   "metadata": {},
   "outputs": [
    {
     "name": "stdout",
     "output_type": "stream",
     "text": [
      "psutil.Process(pid=44893, name='python3.7', started='22:20:46')\n"
     ]
    }
   ],
   "source": [
    "py = psutil.Process(pid)\n",
    "print(py)"
   ]
  },
  {
   "cell_type": "code",
   "execution_count": 9,
   "metadata": {},
   "outputs": [
    {
     "data": {
      "text/plain": [
       "'python3.7'"
      ]
     },
     "execution_count": 9,
     "metadata": {},
     "output_type": "execute_result"
    }
   ],
   "source": [
    "py.name()"
   ]
  },
  {
   "cell_type": "code",
   "execution_count": 10,
   "metadata": {},
   "outputs": [
    {
     "data": {
      "text/plain": [
       "'/Users/msarica/anaconda3/bin/python3.7'"
      ]
     },
     "execution_count": 10,
     "metadata": {},
     "output_type": "execute_result"
    }
   ],
   "source": [
    "py.exe()"
   ]
  },
  {
   "cell_type": "code",
   "execution_count": 11,
   "metadata": {},
   "outputs": [
    {
     "data": {
      "text/plain": [
       "'/Users/msarica/Desktop/UMBC/DS601_Spring21/Week9/notebook/host_streaming_stats'"
      ]
     },
     "execution_count": 11,
     "metadata": {},
     "output_type": "execute_result"
    }
   ],
   "source": [
    "py.cwd()"
   ]
  },
  {
   "cell_type": "code",
   "execution_count": 12,
   "metadata": {},
   "outputs": [
    {
     "data": {
      "text/plain": [
       "['/Users/msarica/anaconda3/bin/python',\n",
       " '-m',\n",
       " 'ipykernel_launcher',\n",
       " '-f',\n",
       " '/Users/msarica/Library/Jupyter/runtime/kernel-3e559dea-d5d5-40ec-8578-c2fd17042ba0.json']"
      ]
     },
     "execution_count": 12,
     "metadata": {},
     "output_type": "execute_result"
    }
   ],
   "source": [
    "py.cmdline()"
   ]
  },
  {
   "cell_type": "markdown",
   "metadata": {
    "toc-hr-collapsed": false
   },
   "source": [
    "# system performance"
   ]
  },
  {
   "cell_type": "code",
   "execution_count": 13,
   "metadata": {},
   "outputs": [
    {
     "data": {
      "text/plain": [
       "[55.1,\n",
       " 1.1,\n",
       " 30.3,\n",
       " 1.1,\n",
       " 21.1,\n",
       " 0.0,\n",
       " 12.2,\n",
       " 0.0,\n",
       " 9.0,\n",
       " 0.0,\n",
       " 23.6,\n",
       " 0.0,\n",
       " 10.1,\n",
       " 0.0,\n",
       " 3.3,\n",
       " 0.0]"
      ]
     },
     "execution_count": 13,
     "metadata": {},
     "output_type": "execute_result"
    }
   ],
   "source": [
    "# gives a single float value\n",
    "psutil.cpu_percent(percpu=True)"
   ]
  },
  {
   "cell_type": "code",
   "execution_count": 14,
   "metadata": {},
   "outputs": [
    {
     "data": {
      "text/plain": [
       "[scputimes(user=35.0, nice=0.0, system=15.0, idle=40.0),\n",
       " scputimes(user=1.0, nice=0.0, system=0.0, idle=90.0),\n",
       " scputimes(user=20.0, nice=0.0, system=7.0, idle=63.0),\n",
       " scputimes(user=0.0, nice=0.0, system=1.0, idle=90.0),\n",
       " scputimes(user=15.0, nice=0.0, system=5.0, idle=72.0),\n",
       " scputimes(user=0.0, nice=0.0, system=0.0, idle=91.0),\n",
       " scputimes(user=8.0, nice=0.0, system=3.0, idle=79.0),\n",
       " scputimes(user=0.0, nice=0.0, system=0.0, idle=91.0),\n",
       " scputimes(user=8.0, nice=0.0, system=1.0, idle=81.0),\n",
       " scputimes(user=0.0, nice=0.0, system=0.0, idle=90.0),\n",
       " scputimes(user=19.0, nice=0.0, system=2.0, idle=69.0),\n",
       " scputimes(user=0.0, nice=0.0, system=0.0, idle=91.0),\n",
       " scputimes(user=8.0, nice=0.0, system=1.0, idle=80.0),\n",
       " scputimes(user=0.0, nice=0.0, system=0.0, idle=90.0),\n",
       " scputimes(user=2.0, nice=0.0, system=1.0, idle=89.0),\n",
       " scputimes(user=0.0, nice=0.0, system=0.0, idle=90.0)]"
      ]
     },
     "execution_count": 14,
     "metadata": {},
     "output_type": "execute_result"
    }
   ],
   "source": [
    "psutil.cpu_times_percent(percpu=True)"
   ]
  },
  {
   "cell_type": "code",
   "execution_count": 15,
   "metadata": {},
   "outputs": [
    {
     "name": "stdout",
     "output_type": "stream",
     "text": [
      "{'user': 1.0, 'nice': 0.0, 'system': 1.0, 'idle': 1.0}\n",
      "{'user': 0.0, 'nice': 0.0, 'system': 0.0, 'idle': 1.0}\n",
      "{'user': 1.0, 'nice': 0.0, 'system': 1.0, 'idle': 0.0}\n",
      "{'user': 0.0, 'nice': 0.0, 'system': 0.0, 'idle': 1.0}\n",
      "{'user': 0.0, 'nice': 0.0, 'system': 0.0, 'idle': 0.0}\n",
      "{'user': 0.0, 'nice': 0.0, 'system': 0.0, 'idle': 1.0}\n",
      "{'user': 1.0, 'nice': 0.0, 'system': 0.0, 'idle': 1.0}\n",
      "{'user': 0.0, 'nice': 0.0, 'system': 1.0, 'idle': 1.0}\n",
      "{'user': 1.0, 'nice': 0.0, 'system': 1.0, 'idle': 0.0}\n",
      "{'user': 0.0, 'nice': 0.0, 'system': 0.0, 'idle': 2.0}\n",
      "{'user': 1.0, 'nice': 0.0, 'system': 0.0, 'idle': 1.0}\n",
      "{'user': 0.0, 'nice': 0.0, 'system': 0.0, 'idle': 1.0}\n",
      "{'user': 0.0, 'nice': 0.0, 'system': 0.0, 'idle': 1.0}\n",
      "{'user': 0.0, 'nice': 0.0, 'system': 0.0, 'idle': 2.0}\n",
      "{'user': 0.0, 'nice': 0.0, 'system': 0.0, 'idle': 1.0}\n",
      "{'user': 0.0, 'nice': 0.0, 'system': 0.0, 'idle': 2.0}\n"
     ]
    }
   ],
   "source": [
    "for reslt in psutil.cpu_times_percent(percpu=True):\n",
    "    print(dict(reslt._asdict()))"
   ]
  },
  {
   "cell_type": "code",
   "execution_count": 16,
   "metadata": {},
   "outputs": [
    {
     "data": {
      "text/plain": [
       "svmem(total=17179869184, available=6375161856, percent=62.9, used=9769431040, free=15867904, active=6365327360, inactive=6059552768, wired=3404103680)"
      ]
     },
     "execution_count": 16,
     "metadata": {},
     "output_type": "execute_result"
    }
   ],
   "source": [
    "# gives an object with many fields\n",
    "psutil.virtual_memory()"
   ]
  },
  {
   "cell_type": "code",
   "execution_count": 17,
   "metadata": {},
   "outputs": [
    {
     "data": {
      "text/plain": [
       "{'total': 17179869184,\n",
       " 'available': 6374674432,\n",
       " 'percent': 62.9,\n",
       " 'used': 9769738240,\n",
       " 'free': 15380480,\n",
       " 'active': 6365364224,\n",
       " 'inactive': 6059552768,\n",
       " 'wired': 3404374016}"
      ]
     },
     "execution_count": 17,
     "metadata": {},
     "output_type": "execute_result"
    }
   ],
   "source": [
    "# you can convert that object to a dictionary \n",
    "dict(psutil.virtual_memory()._asdict())"
   ]
  },
  {
   "cell_type": "code",
   "execution_count": 18,
   "metadata": {},
   "outputs": [
    {
     "data": {
      "text/plain": [
       "{'total': 2147483648,\n",
       " 'used': 792723456,\n",
       " 'free': 1354760192,\n",
       " 'percent': 36.9,\n",
       " 'sin': 200032866304,\n",
       " 'sout': 508891136}"
      ]
     },
     "execution_count": 18,
     "metadata": {},
     "output_type": "execute_result"
    }
   ],
   "source": [
    "dict(psutil.swap_memory()._asdict())"
   ]
  },
  {
   "cell_type": "code",
   "execution_count": 19,
   "metadata": {},
   "outputs": [
    {
     "data": {
      "text/plain": [
       "{'ctx_switches': 76593,\n",
       " 'interrupts': 831702,\n",
       " 'soft_interrupts': 4234913508,\n",
       " 'syscalls': 1479878}"
      ]
     },
     "execution_count": 19,
     "metadata": {},
     "output_type": "execute_result"
    }
   ],
   "source": [
    "dict(psutil.cpu_stats()._asdict())"
   ]
  },
  {
   "cell_type": "code",
   "execution_count": 20,
   "metadata": {},
   "outputs": [
    {
     "data": {
      "text/plain": [
       "dict_keys(['disk0'])"
      ]
     },
     "execution_count": 20,
     "metadata": {},
     "output_type": "execute_result"
    }
   ],
   "source": [
    "psutil.disk_io_counters(perdisk=True).keys()"
   ]
  },
  {
   "cell_type": "code",
   "execution_count": 21,
   "metadata": {},
   "outputs": [
    {
     "data": {
      "text/plain": [
       "{'read_count': 18943340,\n",
       " 'write_count': 13483543,\n",
       " 'read_bytes': 411029061632,\n",
       " 'write_bytes': 252528156672,\n",
       " 'read_time': 11914980,\n",
       " 'write_time': 11015836}"
      ]
     },
     "execution_count": 21,
     "metadata": {},
     "output_type": "execute_result"
    }
   ],
   "source": [
    "dict(psutil.disk_io_counters(perdisk=True)['disk0']._asdict())"
   ]
  },
  {
   "cell_type": "code",
   "execution_count": 22,
   "metadata": {},
   "outputs": [
    {
     "data": {
      "text/plain": [
       "['AF_LINK',\n",
       " 'AIX',\n",
       " 'AccessDenied',\n",
       " 'BSD',\n",
       " 'CONN_CLOSE',\n",
       " 'CONN_CLOSE_WAIT',\n",
       " 'CONN_CLOSING',\n",
       " 'CONN_ESTABLISHED',\n",
       " 'CONN_FIN_WAIT1',\n",
       " 'CONN_FIN_WAIT2',\n",
       " 'CONN_LAST_ACK',\n",
       " 'CONN_LISTEN',\n",
       " 'CONN_NONE',\n",
       " 'CONN_SYN_RECV',\n",
       " 'CONN_SYN_SENT',\n",
       " 'CONN_TIME_WAIT',\n",
       " 'Error',\n",
       " 'FREEBSD',\n",
       " 'LINUX',\n",
       " 'MACOS',\n",
       " 'NETBSD',\n",
       " 'NIC_DUPLEX_FULL',\n",
       " 'NIC_DUPLEX_HALF',\n",
       " 'NIC_DUPLEX_UNKNOWN',\n",
       " 'NoSuchProcess',\n",
       " 'OPENBSD',\n",
       " 'OSX',\n",
       " 'POSIX',\n",
       " 'POWER_TIME_UNKNOWN',\n",
       " 'POWER_TIME_UNLIMITED',\n",
       " 'Popen',\n",
       " 'Process',\n",
       " 'STATUS_DEAD',\n",
       " 'STATUS_DISK_SLEEP',\n",
       " 'STATUS_IDLE',\n",
       " 'STATUS_LOCKED',\n",
       " 'STATUS_PARKED',\n",
       " 'STATUS_RUNNING',\n",
       " 'STATUS_SLEEPING',\n",
       " 'STATUS_STOPPED',\n",
       " 'STATUS_TRACING_STOP',\n",
       " 'STATUS_WAITING',\n",
       " 'STATUS_WAKING',\n",
       " 'STATUS_ZOMBIE',\n",
       " 'SUNOS',\n",
       " 'TimeoutExpired',\n",
       " 'WINDOWS',\n",
       " 'ZombieProcess',\n",
       " '_LOWEST_PID',\n",
       " '_PY3',\n",
       " '_TOTAL_PHYMEM',\n",
       " '__all__',\n",
       " '__author__',\n",
       " '__builtins__',\n",
       " '__cached__',\n",
       " '__doc__',\n",
       " '__file__',\n",
       " '__loader__',\n",
       " '__name__',\n",
       " '__package__',\n",
       " '__path__',\n",
       " '__spec__',\n",
       " '__version__',\n",
       " '_as_dict_attrnames',\n",
       " '_assert_pid_not_reused',\n",
       " '_common',\n",
       " '_compat',\n",
       " '_cpu_busy_time',\n",
       " '_cpu_times_deltas',\n",
       " '_cpu_tot_time',\n",
       " '_last_cpu_times',\n",
       " '_last_cpu_times_2',\n",
       " '_last_per_cpu_times',\n",
       " '_last_per_cpu_times_2',\n",
       " '_lock',\n",
       " '_pmap',\n",
       " '_ppid_map',\n",
       " '_pprint_secs',\n",
       " '_psosx',\n",
       " '_psplatform',\n",
       " '_psposix',\n",
       " '_psutil_osx',\n",
       " '_psutil_posix',\n",
       " '_timer',\n",
       " '_wrap_numbers',\n",
       " 'boot_time',\n",
       " 'collections',\n",
       " 'contextlib',\n",
       " 'cpu_count',\n",
       " 'cpu_freq',\n",
       " 'cpu_percent',\n",
       " 'cpu_stats',\n",
       " 'cpu_times',\n",
       " 'cpu_times_percent',\n",
       " 'datetime',\n",
       " 'disk_io_counters',\n",
       " 'disk_partitions',\n",
       " 'disk_usage',\n",
       " 'errno',\n",
       " 'functools',\n",
       " 'getloadavg',\n",
       " 'long',\n",
       " 'net_connections',\n",
       " 'net_if_addrs',\n",
       " 'net_if_stats',\n",
       " 'net_io_counters',\n",
       " 'os',\n",
       " 'pid_exists',\n",
       " 'pids',\n",
       " 'process_iter',\n",
       " 'pwd',\n",
       " 'sensors_battery',\n",
       " 'signal',\n",
       " 'subprocess',\n",
       " 'swap_memory',\n",
       " 'sys',\n",
       " 'test',\n",
       " 'threading',\n",
       " 'time',\n",
       " 'users',\n",
       " 'version_info',\n",
       " 'virtual_memory',\n",
       " 'wait_procs']"
      ]
     },
     "execution_count": 22,
     "metadata": {},
     "output_type": "execute_result"
    }
   ],
   "source": [
    "dir(psutil)"
   ]
  },
  {
   "cell_type": "code",
   "execution_count": 23,
   "metadata": {},
   "outputs": [],
   "source": [
    "# psutil.sensors_temperatures()  # linux only"
   ]
  },
  {
   "cell_type": "code",
   "execution_count": null,
   "metadata": {},
   "outputs": [],
   "source": []
  },
  {
   "cell_type": "code",
   "execution_count": 24,
   "metadata": {},
   "outputs": [
    {
     "data": {
      "text/plain": [
       "sbattery(percent=37, secsleft=8760, power_plugged=False)"
      ]
     },
     "execution_count": 24,
     "metadata": {},
     "output_type": "execute_result"
    }
   ],
   "source": [
    "psutil.sensors_battery()"
   ]
  },
  {
   "cell_type": "markdown",
   "metadata": {},
   "source": [
    "### put everything into a single row"
   ]
  },
  {
   "cell_type": "code",
   "execution_count": 25,
   "metadata": {},
   "outputs": [],
   "source": [
    "def row_for_system_performance(row):\n",
    "    if not isinstance(row,dict):\n",
    "        raise TypeError(\"ERROR: expected a dict as input, got\",type(row))\n",
    "        return None\n",
    "    cpu_pct_list = psutil.cpu_percent(percpu=True)\n",
    "    for indx in range(len(cpu_pct_list)):\n",
    "        row['CPU percent for '+str(indx)]=cpu_pct_list[indx]\n",
    "    \n",
    "    row['time in unix seconds']=time.time()\n",
    "    row['datetime']=datetime.datetime.utcfromtimestamp(row['time in unix seconds'])\n",
    "\n",
    "    indx=0\n",
    "    for reslt in psutil.cpu_times_percent(percpu=True):\n",
    "        indx+=1\n",
    "        for k,v in dict(reslt._asdict()).items():\n",
    "            row['CPU '+str(indx)+' times '+k]=v\n",
    "    for disk_label in psutil.disk_io_counters(perdisk=True).keys():\n",
    "        for k,v in dict(psutil.disk_io_counters(perdisk=True)[disk_label]._asdict()).items():\n",
    "            row['disk '+disk_label+' '+k]=v\n",
    "    for k,v in dict(psutil.cpu_stats()._asdict()).items():\n",
    "        row['CPU stats '+k]=v\n",
    "    for k,v in dict(psutil.virtual_memory()._asdict()).items():\n",
    "        row['system virtual memory '+k]=v\n",
    "    for k,v in dict(psutil.swap_memory()._asdict()).items():\n",
    "        row['system swap memory '+k]=v\n",
    "    return row"
   ]
  },
  {
   "cell_type": "markdown",
   "metadata": {},
   "source": [
    "# performance of current process"
   ]
  },
  {
   "cell_type": "code",
   "execution_count": 26,
   "metadata": {},
   "outputs": [
    {
     "data": {
      "text/plain": [
       "44893"
      ]
     },
     "execution_count": 26,
     "metadata": {},
     "output_type": "execute_result"
    }
   ],
   "source": [
    "os.getpid()"
   ]
  },
  {
   "cell_type": "code",
   "execution_count": 27,
   "metadata": {},
   "outputs": [
    {
     "data": {
      "text/plain": [
       "int"
      ]
     },
     "execution_count": 27,
     "metadata": {},
     "output_type": "execute_result"
    }
   ],
   "source": [
    "type(os.getpid())"
   ]
  },
  {
   "cell_type": "code",
   "execution_count": 28,
   "metadata": {},
   "outputs": [
    {
     "name": "stdout",
     "output_type": "stream",
     "text": [
      "psutil.Process(pid=44893, name='python3.7', started='22:20:46')\n"
     ]
    }
   ],
   "source": [
    "py = psutil.Process(os.getpid())\n",
    "print(py)"
   ]
  },
  {
   "cell_type": "code",
   "execution_count": 29,
   "metadata": {},
   "outputs": [],
   "source": [
    "# dir(py)"
   ]
  },
  {
   "cell_type": "code",
   "execution_count": 30,
   "metadata": {},
   "outputs": [
    {
     "data": {
      "text/plain": [
       "{'rss': 113725440, 'vms': 4804452352, 'pfaults': 45693, 'pageins': 280}"
      ]
     },
     "execution_count": 30,
     "metadata": {},
     "output_type": "execute_result"
    }
   ],
   "source": [
    "dict(py.memory_info()._asdict())"
   ]
  },
  {
   "cell_type": "code",
   "execution_count": 31,
   "metadata": {},
   "outputs": [
    {
     "name": "stdout",
     "output_type": "stream",
     "text": [
      "memory use: 0.10591506958007812 GB\n"
     ]
    }
   ],
   "source": [
    "memoryUse = py.memory_info()[0]/2.**30  # memory use in GB...I think\n",
    "print('memory use:', memoryUse,'GB')"
   ]
  },
  {
   "cell_type": "code",
   "execution_count": 32,
   "metadata": {},
   "outputs": [
    {
     "data": {
      "text/plain": [
       "{'rss': 113725440,\n",
       " 'vms': 4804452352,\n",
       " 'pfaults': 45694,\n",
       " 'pageins': 280,\n",
       " 'uss': 94605312}"
      ]
     },
     "execution_count": 32,
     "metadata": {},
     "output_type": "execute_result"
    }
   ],
   "source": [
    "dict(py.memory_full_info()._asdict())"
   ]
  },
  {
   "cell_type": "code",
   "execution_count": 33,
   "metadata": {},
   "outputs": [
    {
     "data": {
      "text/plain": [
       "0.0"
      ]
     },
     "execution_count": 33,
     "metadata": {},
     "output_type": "execute_result"
    }
   ],
   "source": [
    "py.cpu_percent()"
   ]
  },
  {
   "cell_type": "code",
   "execution_count": 34,
   "metadata": {},
   "outputs": [
    {
     "data": {
      "text/plain": [
       "{'user': 1.39381312,\n",
       " 'system': 0.470424896,\n",
       " 'children_user': 0.0,\n",
       " 'children_system': 0.0}"
      ]
     },
     "execution_count": 34,
     "metadata": {},
     "output_type": "execute_result"
    }
   ],
   "source": [
    "dict(py.cpu_times()._asdict())"
   ]
  },
  {
   "cell_type": "code",
   "execution_count": 35,
   "metadata": {},
   "outputs": [
    {
     "data": {
      "text/plain": [
       "['/Users/msarica/anaconda3/bin/python',\n",
       " '-m',\n",
       " 'ipykernel_launcher',\n",
       " '-f',\n",
       " '/Users/msarica/Library/Jupyter/runtime/kernel-3e559dea-d5d5-40ec-8578-c2fd17042ba0.json']"
      ]
     },
     "execution_count": 35,
     "metadata": {},
     "output_type": "execute_result"
    }
   ],
   "source": [
    "py.cmdline()"
   ]
  },
  {
   "cell_type": "code",
   "execution_count": 36,
   "metadata": {},
   "outputs": [
    {
     "data": {
      "text/plain": [
       "{'voluntary': 140728898439810, 'involuntary': 0}"
      ]
     },
     "execution_count": 36,
     "metadata": {},
     "output_type": "execute_result"
    }
   ],
   "source": [
    "dict(py.num_ctx_switches()._asdict())"
   ]
  },
  {
   "cell_type": "code",
   "execution_count": null,
   "metadata": {},
   "outputs": [],
   "source": []
  },
  {
   "cell_type": "code",
   "execution_count": 37,
   "metadata": {},
   "outputs": [],
   "source": [
    "def row_for_performance_per_pid(row,pid):\n",
    "    if not isinstance(row,dict):\n",
    "        raise TypeError(\"ERROR: expected a dict as input for row, got\",type(row))\n",
    "        return None\n",
    "    if not isinstance(pid,int):\n",
    "        raise TypeError(\"ERROR: expected a int as input for pid, got\",type(pid))\n",
    "        return None\n",
    "    \n",
    "    #if psutil.Process(pid).is_running():\n",
    "    for p in psutil.process_iter():\n",
    "        if (pid==p.pid):\n",
    "            try:\n",
    "                mem_dict=dict(psutil.Process(pid).memory_full_info()._asdict())\n",
    "            except psutil.NoSuchProcess:\n",
    "                return row\n",
    "            for k,v in mem_dict.items():\n",
    "                row['process memory: '+k]=v\n",
    "\n",
    "    try:\n",
    "        cpu_times_dict=dict(psutil.Process(pid).cpu_times()._asdict())\n",
    "    except psutil.NoSuchProcess:\n",
    "        return row\n",
    "    for k,v in cpu_times_dict.items():\n",
    "        row['process cpu times: '+k]=v\n",
    "\n",
    "    try:\n",
    "        context_switches_dict=dict(psutil.Process(pid).num_ctx_switches()._asdict())\n",
    "    except psutil.NoSuchProcess:\n",
    "        return row        \n",
    "    for k,v in context_switches_dict.items():\n",
    "        row['process number context switches: '+k]=v\n",
    "\n",
    "#     try:\n",
    "#         io_counter_dict = dict(psutil.Process(pid).io_counters()._asdict())\n",
    "#     except psutil.NoSuchProcess:\n",
    "#         return row\n",
    "#     for k,v in io_counter_dict.items():\n",
    "#         row['process io counters: '+k]=v\n",
    "    return row"
   ]
  },
  {
   "cell_type": "markdown",
   "metadata": {},
   "source": [
    "# gather data and create plots for this notebook"
   ]
  },
  {
   "cell_type": "code",
   "execution_count": null,
   "metadata": {},
   "outputs": [],
   "source": []
  },
  {
   "cell_type": "code",
   "execution_count": 61,
   "metadata": {},
   "outputs": [
    {
     "name": "stdout",
     "output_type": "stream",
     "text": [
      "elapsed time: 1.0203118324279785 seconds\n"
     ]
    }
   ],
   "source": [
    "list_of_rows=[]\n",
    "start_time = time.time()\n",
    "for indx in range(monitoring_duration_in_seconds_this_notebook):\n",
    "    row = {}\n",
    "    row = row_for_system_performance(row)\n",
    "    row = row_for_performance_per_pid(row,os.getpid())\n",
    "    list_of_rows.append(row)\n",
    "    time.sleep(polling_period_in_seconds)\n",
    "\n",
    "print('elapsed time:',time.time()-start_time,'seconds')\n",
    "\n",
    "df = pandas.DataFrame(list_of_rows)"
   ]
  },
  {
   "cell_type": "code",
   "execution_count": 66,
   "metadata": {},
   "outputs": [
    {
     "name": "stdout",
     "output_type": "stream",
     "text": [
      "(1, 117)\n"
     ]
    },
    {
     "data": {
      "text/plain": [
       "['CPU percent for 0',\n",
       " 'CPU percent for 1',\n",
       " 'CPU percent for 2',\n",
       " 'CPU percent for 3',\n",
       " 'CPU percent for 4',\n",
       " 'CPU percent for 5',\n",
       " 'CPU percent for 6',\n",
       " 'CPU percent for 7',\n",
       " 'CPU percent for 8',\n",
       " 'CPU percent for 9',\n",
       " 'CPU percent for 10',\n",
       " 'CPU percent for 11',\n",
       " 'CPU percent for 12',\n",
       " 'CPU percent for 13',\n",
       " 'CPU percent for 14',\n",
       " 'CPU percent for 15',\n",
       " 'time in unix seconds',\n",
       " 'datetime',\n",
       " 'CPU 1 times user',\n",
       " 'CPU 1 times nice',\n",
       " 'CPU 1 times system',\n",
       " 'CPU 1 times idle',\n",
       " 'CPU 2 times user',\n",
       " 'CPU 2 times nice',\n",
       " 'CPU 2 times system',\n",
       " 'CPU 2 times idle',\n",
       " 'CPU 3 times user',\n",
       " 'CPU 3 times nice',\n",
       " 'CPU 3 times system',\n",
       " 'CPU 3 times idle',\n",
       " 'CPU 4 times user',\n",
       " 'CPU 4 times nice',\n",
       " 'CPU 4 times system',\n",
       " 'CPU 4 times idle',\n",
       " 'CPU 5 times user',\n",
       " 'CPU 5 times nice',\n",
       " 'CPU 5 times system',\n",
       " 'CPU 5 times idle',\n",
       " 'CPU 6 times user',\n",
       " 'CPU 6 times nice',\n",
       " 'CPU 6 times system',\n",
       " 'CPU 6 times idle',\n",
       " 'CPU 7 times user',\n",
       " 'CPU 7 times nice',\n",
       " 'CPU 7 times system',\n",
       " 'CPU 7 times idle',\n",
       " 'CPU 8 times user',\n",
       " 'CPU 8 times nice',\n",
       " 'CPU 8 times system',\n",
       " 'CPU 8 times idle',\n",
       " 'CPU 9 times user',\n",
       " 'CPU 9 times nice',\n",
       " 'CPU 9 times system',\n",
       " 'CPU 9 times idle',\n",
       " 'CPU 10 times user',\n",
       " 'CPU 10 times nice',\n",
       " 'CPU 10 times system',\n",
       " 'CPU 10 times idle',\n",
       " 'CPU 11 times user',\n",
       " 'CPU 11 times nice',\n",
       " 'CPU 11 times system',\n",
       " 'CPU 11 times idle',\n",
       " 'CPU 12 times user',\n",
       " 'CPU 12 times nice',\n",
       " 'CPU 12 times system',\n",
       " 'CPU 12 times idle',\n",
       " 'CPU 13 times user',\n",
       " 'CPU 13 times nice',\n",
       " 'CPU 13 times system',\n",
       " 'CPU 13 times idle',\n",
       " 'CPU 14 times user',\n",
       " 'CPU 14 times nice',\n",
       " 'CPU 14 times system',\n",
       " 'CPU 14 times idle',\n",
       " 'CPU 15 times user',\n",
       " 'CPU 15 times nice',\n",
       " 'CPU 15 times system',\n",
       " 'CPU 15 times idle',\n",
       " 'CPU 16 times user',\n",
       " 'CPU 16 times nice',\n",
       " 'CPU 16 times system',\n",
       " 'CPU 16 times idle',\n",
       " 'disk disk0 read_count',\n",
       " 'disk disk0 write_count',\n",
       " 'disk disk0 read_bytes',\n",
       " 'disk disk0 write_bytes',\n",
       " 'disk disk0 read_time',\n",
       " 'disk disk0 write_time',\n",
       " 'CPU stats ctx_switches',\n",
       " 'CPU stats interrupts',\n",
       " 'CPU stats soft_interrupts',\n",
       " 'CPU stats syscalls',\n",
       " 'system virtual memory total',\n",
       " 'system virtual memory available',\n",
       " 'system virtual memory percent',\n",
       " 'system virtual memory used',\n",
       " 'system virtual memory free',\n",
       " 'system virtual memory active',\n",
       " 'system virtual memory inactive',\n",
       " 'system virtual memory wired',\n",
       " 'system swap memory total',\n",
       " 'system swap memory used',\n",
       " 'system swap memory free',\n",
       " 'system swap memory percent',\n",
       " 'system swap memory sin',\n",
       " 'system swap memory sout',\n",
       " 'process memory: rss',\n",
       " 'process memory: vms',\n",
       " 'process memory: pfaults',\n",
       " 'process memory: pageins',\n",
       " 'process memory: uss',\n",
       " 'process cpu times: user',\n",
       " 'process cpu times: system',\n",
       " 'process cpu times: children_user',\n",
       " 'process cpu times: children_system',\n",
       " 'process number context switches: voluntary',\n",
       " 'process number context switches: involuntary']"
      ]
     },
     "execution_count": 66,
     "metadata": {},
     "output_type": "execute_result"
    }
   ],
   "source": [
    "print(df.shape)\n",
    "df.head()\n",
    "\n",
    "list(df.columns)"
   ]
  },
  {
   "cell_type": "code",
   "execution_count": 40,
   "metadata": {},
   "outputs": [],
   "source": [
    "df.to_pickle(\"single_process_df_this_notebook_\"+str(time.time())+\".pkl\")\n",
    "\n",
    "#df = pandas.read_pickle(\"single_process_df_this_notebook_1552783848.2168732.pkl\")"
   ]
  },
  {
   "cell_type": "code",
   "execution_count": 41,
   "metadata": {},
   "outputs": [],
   "source": [
    "def scatter_plot_column(df,col_name):\n",
    "    if not isinstance(df,pandas.core.frame.DataFrame):\n",
    "        raise TypeError('ERROR: expected input of type dataframe, got',type(df))\n",
    "        return None\n",
    "    if not isinstance(col_name,str):\n",
    "        raise TypeError('ERROR: expected input of type str, got',type(col_name))\n",
    "        return None\n",
    "    plt.plot_date(x=df['datetime'],y=df[col_name])\n",
    "    plt.xticks(rotation=40)\n",
    "    _=plt.ylabel(col_name,fontsize=14)\n",
    "    _=plt.xlabel('time',fontsize=14)\n",
    "    plt.show()\n",
    "    return"
   ]
  },
  {
   "cell_type": "code",
   "execution_count": 42,
   "metadata": {},
   "outputs": [],
   "source": [
    "# for col_name in df.columns:\n",
    "#     if 'seconds' not in col_name:\n",
    "# #        plt.scatter(x=df['time in unix seconds'],y=df[col_name])\n",
    "#         scatter_plot_column(df,col_name)\n",
    "#     else:\n",
    "#         print(col_name)"
   ]
  },
  {
   "cell_type": "code",
   "execution_count": null,
   "metadata": {},
   "outputs": [],
   "source": []
  },
  {
   "cell_type": "markdown",
   "metadata": {},
   "source": [
    "# track other notebooks\n",
    "\n",
    "Plan: associate pid with each notebook kernel ID, then track the stats for that notebook by pid\n",
    "\n",
    "works even when the kernel of the other notebook is restarted\n",
    "\n",
    "detects when new newbook kernels being added\n",
    "\n",
    "https://github.com/iiSeymour/nbtop/blob/master/nbtop/main.py"
   ]
  },
  {
   "cell_type": "markdown",
   "metadata": {},
   "source": [
    "### get a list of all active sessions"
   ]
  },
  {
   "cell_type": "code",
   "execution_count": 43,
   "metadata": {},
   "outputs": [
    {
     "data": {
      "text/plain": [
       "200"
      ]
     },
     "execution_count": 43,
     "metadata": {},
     "output_type": "execute_result"
    }
   ],
   "source": [
    "r = requests.get('http://localhost:8888/api/sessions' + token)\n",
    "r.status_code\n",
    "# http://localhost:8888/?token=1c7736ce797a8e7f87082b97d954e2c4402d4eb8fd990902"
   ]
  },
  {
   "cell_type": "code",
   "execution_count": 44,
   "metadata": {},
   "outputs": [
    {
     "data": {
      "text/plain": [
       "{'id': '14c84438-8bf5-48ab-8f8d-970b045266d7',\n",
       " 'path': 'UMBC/DS601_Spring21/Week9/notebook/4_plotting_timeseries_data.ipynb',\n",
       " 'name': '',\n",
       " 'type': 'notebook',\n",
       " 'kernel': {'id': 'f8316b7c-7ceb-479a-a5bc-d4a53654ba41',\n",
       "  'name': 'python3',\n",
       "  'last_activity': '2021-03-24T02:20:35.329250Z',\n",
       "  'execution_state': 'idle',\n",
       "  'connections': 1},\n",
       " 'notebook': {'path': 'UMBC/DS601_Spring21/Week9/notebook/4_plotting_timeseries_data.ipynb',\n",
       "  'name': ''}}"
      ]
     },
     "execution_count": 44,
     "metadata": {},
     "output_type": "execute_result"
    }
   ],
   "source": [
    "list_of_kernel_dicts = r.json()\n",
    "list_of_kernel_dicts[0]"
   ]
  },
  {
   "cell_type": "markdown",
   "metadata": {},
   "source": [
    "### from json returned from API, we can extract the notebook kernel IDs"
   ]
  },
  {
   "cell_type": "code",
   "execution_count": 45,
   "metadata": {},
   "outputs": [
    {
     "name": "stdout",
     "output_type": "stream",
     "text": [
      "notebook kernel IDs:\n",
      "f8316b7c-7ceb-479a-a5bc-d4a53654ba41\n",
      "5af562e1-ad29-4f51-997e-4aedc17c9212\n",
      "3e559dea-d5d5-40ec-8578-c2fd17042ba0\n"
     ]
    }
   ],
   "source": [
    "print('notebook kernel IDs:')\n",
    "for notebook_indx in range(len(list_of_kernel_dicts)):\n",
    "    print(list_of_kernel_dicts[notebook_indx]['kernel']['id'])"
   ]
  },
  {
   "cell_type": "markdown",
   "metadata": {},
   "source": [
    "### get a list of all pids\n",
    " https://github.com/giampaolo/psutil/issues/132"
   ]
  },
  {
   "cell_type": "code",
   "execution_count": 46,
   "metadata": {},
   "outputs": [
    {
     "name": "stdout",
     "output_type": "stream",
     "text": [
      "all processes running:\n",
      "psutil.Process(pid=0, name='kernel_task', started='2021-03-04 02:13:09')\n",
      "psutil.Process(pid=1, name='launchd', started='2021-03-04 02:13:09')\n",
      "psutil.Process(pid=55, name='syslogd', started='2021-03-04 02:13:22')\n",
      "psutil.Process(pid=56, name='UserEventAgent', started='2021-03-04 02:13:22')\n",
      "psutil.Process(pid=59, name='uninstalld', started='2021-03-04 02:13:22')\n",
      "psutil.Process(pid=60, name='fseventsd', started='2021-03-04 02:13:22')\n",
      "psutil.Process(pid=61, name='mediaremoted', started='2021-03-04 02:13:22')\n",
      "psutil.Process(pid=64, name='systemstats', started='2021-03-04 02:13:22')\n",
      "psutil.Process(pid=66, name='configd', started='2021-03-04 02:13:22')\n",
      "psutil.Process(pid=67, name='endpointsecurityd', started='2021-03-04 02:13:22')\n",
      "psutil.Process(pid=68, name='powerd', started='2021-03-04 02:13:22')\n",
      "psutil.Process(pid=71, name='remoted', started='2021-03-04 02:13:22')\n",
      "psutil.Process(pid=73, name='logd', started='2021-03-04 02:13:22')\n",
      "psutil.Process(pid=74, name='keybagd', started='2021-03-04 02:13:22')\n",
      "psutil.Process(pid=77, name='softwareupdated', started='2021-03-04 02:13:22')\n",
      "psutil.Process(pid=79, name='watchdogd', started='2021-03-04 02:13:22')\n",
      "psutil.Process(pid=84, name='iconservicesd', started='2021-03-04 02:13:22')\n",
      "psutil.Process(pid=85, name='kernelmanagerd', started='2021-03-04 02:13:22')\n",
      "psutil.Process(pid=86, name='diskarbitrationd', started='2021-03-04 02:13:22')\n",
      "psutil.Process(pid=89, name='coreduetd', started='2021-03-04 02:13:22')\n",
      "psutil.Process(pid=92, name='thermalmonitord', started='2021-03-04 02:13:22')\n",
      "psutil.Process(pid=93, name='contextstored', started='2021-03-04 02:13:22')\n",
      "psutil.Process(pid=94, name='opendirectoryd', started='2021-03-04 02:13:22')\n",
      "psutil.Process(pid=95, name='apsd', started='2021-03-04 02:13:22')\n",
      "psutil.Process(pid=96, name='com.docker.vmnetd', started='2021-03-04 02:13:22')\n",
      "psutil.Process(pid=97, name='launchservicesd', started='2021-03-04 02:13:22')\n",
      "psutil.Process(pid=98, name='timed', started='2021-03-04 02:13:22')\n",
      "psutil.Process(pid=100, name='usbmuxd', started='2021-03-04 02:13:22')\n",
      "psutil.Process(pid=101, name='securityd', started='2021-03-04 02:13:22')\n",
      "psutil.Process(pid=102, name='auditd', started='2021-03-04 02:13:22')\n",
      "psutil.Process(pid=104, name='locationd', started='2021-03-04 02:13:22')\n",
      "psutil.Process(pid=106, name='autofsd', started='2021-03-04 02:13:22')\n",
      "psutil.Process(pid=107, name='displaypolicyd', started='2021-03-04 02:13:22')\n",
      "psutil.Process(pid=108, name='dasd', started='2021-03-04 02:13:22')\n",
      "psutil.Process(pid=111, name='distnoted', started='2021-03-04 02:13:22')\n",
      "psutil.Process(pid=112, name='AppleCredentialManagerDaemon', started='2021-03-04 02:13:22')\n",
      "psutil.Process(pid=115, name='logind', started='2021-03-04 02:13:22')\n",
      "psutil.Process(pid=116, name='revisiond', started='2021-03-04 02:13:22')\n",
      "psutil.Process(pid=117, name='KernelEventAgent', started='2021-03-04 02:13:22')\n",
      "psutil.Process(pid=119, name='bluetoothd', started='2021-03-04 02:13:22')\n",
      "psutil.Process(pid=120, name='notifyd', started='2021-03-04 02:13:22')\n",
      "psutil.Process(pid=122, name='corebrightnessd', started='2021-03-04 02:13:22')\n",
      "psutil.Process(pid=123, name='AirPlayXPCHelper', started='2021-03-04 02:13:22')\n",
      "psutil.Process(pid=124, name='amfid', started='2021-03-04 02:13:22')\n",
      "psutil.Process(pid=127, name='cfprefsd', started='2021-03-04 02:13:22')\n",
      "psutil.Process(pid=128, name='logd_helper', started='2021-03-04 02:13:22')\n",
      "psutil.Process(pid=129, name='coreservicesd', started='2021-03-04 02:13:22')\n",
      "psutil.Process(pid=132, name='analyticsd', started='2021-03-04 02:13:22')\n",
      "psutil.Process(pid=134, name='tccd', started='2021-03-04 02:13:23')\n",
      "psutil.Process(pid=137, name='aslmanager', started='2021-03-04 02:13:23')\n",
      "psutil.Process(pid=140, name='runningboardd', started='2021-03-04 02:13:23')\n",
      "psutil.Process(pid=166, name='authd', started='2021-03-04 02:13:23')\n",
      "psutil.Process(pid=168, name='distnoted', started='2021-03-04 02:13:23')\n",
      "psutil.Process(pid=169, name='trustd', started='2021-03-04 02:13:23')\n",
      "psutil.Process(pid=179, name='mobileassetd', started='2021-03-04 02:13:23')\n",
      "psutil.Process(pid=185, name='lsd', started='2021-03-04 02:13:23')\n",
      "psutil.Process(pid=194, name='searchpartyd', started='2021-03-04 02:13:23')\n",
      "psutil.Process(pid=195, name='backupd-helper', started='2021-03-04 02:13:23')\n",
      "psutil.Process(pid=196, name='PowerUIAgent', started='2021-03-04 02:13:23')\n",
      "psutil.Process(pid=197, name='multiversed', started='2021-03-04 02:13:23')\n",
      "psutil.Process(pid=198, name='com.apple.ifdreader', started='2021-03-04 02:13:23')\n",
      "psutil.Process(pid=199, name='apfsd', started='2021-03-04 02:13:23')\n",
      "psutil.Process(pid=200, name='airportd', started='2021-03-04 02:13:23')\n",
      "psutil.Process(pid=201, name='usbd', started='2021-03-04 02:13:23')\n",
      "psutil.Process(pid=204, name='nehelper', started='2021-03-04 02:13:23')\n",
      "psutil.Process(pid=206, name='VDCAssistant', started='2021-03-04 02:13:23')\n",
      "psutil.Process(pid=207, name='nsurlsessiond', started='2021-03-04 02:13:23')\n",
      "psutil.Process(pid=210, name='coreaudiod', started='2021-03-04 02:13:23')\n",
      "psutil.Process(pid=219, name='bosreporter', started='2021-03-04 02:13:23')\n",
      "psutil.Process(pid=220, name='tzd', started='2021-03-04 02:13:23')\n",
      "psutil.Process(pid=221, name='symptomsd', started='2021-03-04 02:13:23')\n",
      "psutil.Process(pid=223, name='bosUpdateProxy', started='2021-03-04 02:13:23')\n",
      "psutil.Process(pid=225, name='findmydeviced', started='2021-03-04 02:13:23')\n",
      "psutil.Process(pid=226, name='awdd', started='2021-03-04 02:13:23')\n",
      "psutil.Process(pid=227, name='backupd', started='2021-03-04 02:13:23')\n",
      "psutil.Process(pid=228, name='syspolicyd', started='2021-03-04 02:13:23')\n",
      "psutil.Process(pid=230, name='softwareupdated', started='2021-03-04 02:13:24')\n",
      "psutil.Process(pid=231, name='diskmanagementd', started='2021-03-04 02:13:24')\n",
      "psutil.Process(pid=233, name='smd', started='2021-03-04 02:13:24')\n",
      "psutil.Process(pid=235, name='mDNSResponder', started='2021-03-04 02:13:24')\n",
      "psutil.Process(pid=237, name='distnoted', started='2021-03-04 02:13:24')\n",
      "psutil.Process(pid=240, name='mDNSResponderHelper', started='2021-03-04 02:13:24')\n",
      "psutil.Process(pid=243, name='com.apple.audio.DriverHelper', started='2021-03-04 02:13:24')\n",
      "psutil.Process(pid=244, name='com.apple.geod', started='2021-03-04 02:13:24')\n",
      "psutil.Process(pid=245, name='distnoted', started='2021-03-04 02:13:24')\n",
      "psutil.Process(pid=246, name='suhelperd', started='2021-03-04 02:13:24')\n",
      "psutil.Process(pid=247, name='distnoted', started='2021-03-04 02:13:24')\n",
      "psutil.Process(pid=250, name='secinitd', started='2021-03-04 02:13:24')\n",
      "psutil.Process(pid=251, name='corekdld', started='2021-03-04 02:13:24')\n",
      "psutil.Process(pid=252, name='fontd', started='2021-03-04 02:13:24')\n",
      "psutil.Process(pid=255, name='cfprefsd', started='2021-03-04 02:13:25')\n",
      "psutil.Process(pid=256, name='SubmitDiagInfo', started='2021-03-04 02:13:25')\n",
      "psutil.Process(pid=258, name='trustd', started='2021-03-04 02:13:25')\n",
      "psutil.Process(pid=260, name='ReportCrash', started='2021-03-04 02:13:25')\n",
      "psutil.Process(pid=261, name='fontworker', started='2021-03-04 02:13:25')\n",
      "psutil.Process(pid=262, name='containermanagerd', started='2021-03-04 02:13:25')\n",
      "psutil.Process(pid=268, name='rtcreportingd', started='2021-03-04 02:13:25')\n",
      "psutil.Process(pid=269, name='writeconfig', started='2021-03-04 02:13:25')\n",
      "psutil.Process(pid=272, name='wifianalyticsd', started='2021-03-04 02:13:26')\n",
      "psutil.Process(pid=329, name='XprotectService', started='2021-03-04 02:13:30')\n",
      "psutil.Process(pid=331, name='siriinferenced', started='2021-03-04 02:13:30')\n",
      "psutil.Process(pid=332, name='cacheAssistant', started='2021-03-04 02:13:31')\n",
      "psutil.Process(pid=333, name='secinitd', started='2021-03-04 02:13:31')\n",
      "psutil.Process(pid=334, name='containermanagerd', started='2021-03-04 02:13:31')\n",
      "psutil.Process(pid=340, name='iconservicesagent', started='2021-03-04 02:13:35')\n",
      "psutil.Process(pid=347, name='com.apple.CodeSigningHelper', started='2021-03-04 02:13:36')\n",
      "psutil.Process(pid=348, name='AudioComponentRegistrar', started='2021-03-04 02:13:36')\n",
      "psutil.Process(pid=349, name='com.apple.audio.SandboxHelper', started='2021-03-04 02:13:37')\n",
      "psutil.Process(pid=351, name='com.apple.AppleUserHIDDrivers', started='2021-03-04 02:13:37')\n",
      "psutil.Process(pid=352, name='com.apple.AppleUserHIDDrivers', started='2021-03-04 02:13:37')\n",
      "psutil.Process(pid=355, name='com.apple.AppleUserHIDDrivers', started='2021-03-04 02:13:37')\n",
      "psutil.Process(pid=356, name='com.apple.AppleUserHIDDrivers', started='2021-03-04 02:13:37')\n",
      "psutil.Process(pid=359, name='com.apple.AppleUserHIDDrivers', started='2021-03-04 02:13:37')\n",
      "psutil.Process(pid=360, name='com.apple.AppleUserHIDDrivers', started='2021-03-04 02:13:37')\n",
      "psutil.Process(pid=362, name='captiveagent', started='2021-03-04 02:13:37')\n",
      "psutil.Process(pid=385, name='distnoted', started='2021-03-04 02:13:37')\n",
      "psutil.Process(pid=386, name='com.apple.MobileSoftwareUpdate.CleanupPreparePathService', started='2021-03-04 02:13:38')\n",
      "psutil.Process(pid=391, name='thermald', started='2021-03-04 02:13:40')\n",
      "psutil.Process(pid=393, name='hidd', started='2021-03-04 02:13:40')\n",
      "psutil.Process(pid=395, name='distnoted', started='2021-03-04 02:13:40')\n",
      "psutil.Process(pid=406, name='TouchBarServer', started='2021-03-04 02:13:43')\n",
      "psutil.Process(pid=409, name='colorsync.displayservices', started='2021-03-04 02:13:43')\n",
      "psutil.Process(pid=410, name='colorsyncd', started='2021-03-04 02:13:43')\n",
      "psutil.Process(pid=413, name='MTLCompilerService', started='2021-03-04 02:13:43')\n",
      "psutil.Process(pid=415, name='appleeventsd', started='2021-03-04 02:13:43')\n",
      "psutil.Process(pid=416, name='MTLCompilerService', started='2021-03-04 02:13:44')\n",
      "psutil.Process(pid=418, name='sysmond', started='2021-03-04 02:13:44')\n",
      "psutil.Process(pid=419, name='bootinstalld', started='2021-03-04 02:13:44')\n",
      "psutil.Process(pid=423, name='systemstats', started='2021-03-04 02:13:44')\n",
      "psutil.Process(pid=424, name='com.apple.cmio.registerassistantservice', started='2021-03-04 02:13:44')\n",
      "psutil.Process(pid=425, name='com.apple.AccountPolicyHelper', started='2021-03-04 02:13:44')\n",
      "psutil.Process(pid=428, name='MTLCompilerService', started='2021-03-04 02:13:45')\n",
      "psutil.Process(pid=436, name='coreauthd', started='2021-03-04 02:13:50')\n",
      "psutil.Process(pid=437, name='securityd_service', started='2021-03-04 02:13:50')\n",
      "psutil.Process(pid=438, name='distnoted', started='2021-03-04 02:13:50')\n",
      "psutil.Process(pid=439, name='coreauthd', started='2021-03-04 02:13:50')\n",
      "psutil.Process(pid=440, name='cfprefsd', started='2021-03-04 02:13:50')\n",
      "psutil.Process(pid=441, name='biometrickitd', started='2021-03-04 02:13:50')\n",
      "psutil.Process(pid=443, name='secd', started='2021-03-04 02:13:50')\n",
      "psutil.Process(pid=444, name='loginwindow', started='2021-03-04 02:13:50')\n",
      "psutil.Process(pid=451, name='biokitaggdd', started='2021-03-04 02:13:51')\n",
      "psutil.Process(pid=452, name='WindowServer', started='2021-03-04 02:13:51')\n",
      "psutil.Process(pid=457, name='mobileactivationd', started='2021-03-04 02:13:52')\n",
      "psutil.Process(pid=460, name='distnoted', started='2021-03-04 02:13:53')\n",
      "psutil.Process(pid=461, name='ctkahp', started='2021-03-04 02:13:54')\n",
      "psutil.Process(pid=463, name='MTLCompilerService', started='2021-03-04 02:13:54')\n",
      "psutil.Process(pid=464, name='MTLCompilerService', started='2021-03-04 02:13:54')\n",
      "psutil.Process(pid=466, name='MTLCompilerService', started='2021-03-04 02:13:54')\n",
      "psutil.Process(pid=468, name='MTLCompilerService', started='2021-03-04 02:13:54')\n",
      "psutil.Process(pid=469, name='systemsoundserverd', started='2021-03-04 02:13:54')\n",
      "psutil.Process(pid=470, name='ViewBridgeAuxiliary', started='2021-03-04 02:13:54')\n",
      "psutil.Process(pid=471, name='spindump', started='2021-03-04 02:13:56')\n",
      "psutil.Process(pid=472, name='com.apple.AmbientDisplayAgent', started='2021-03-04 02:14:02')\n",
      "psutil.Process(pid=483, name='appinstalld', started='2021-03-04 02:19:55')\n",
      "psutil.Process(pid=484, name='com.apple.MobileInstallationHelperService', started='2021-03-04 02:19:56')\n",
      "psutil.Process(pid=485, name='distnoted', started='2021-03-04 02:19:56')\n",
      "psutil.Process(pid=486, name='nesessionmanager', started='2021-03-04 02:19:56')\n",
      "psutil.Process(pid=488, name='sysextd', started='2021-03-04 02:19:56')\n",
      "psutil.Process(pid=491, name='distnoted', started='2021-03-04 02:19:57')\n",
      "psutil.Process(pid=492, name='ctkd', started='2021-03-04 02:19:57')\n",
      "psutil.Process(pid=503, name='trustd', started='2021-03-04 02:20:08')\n",
      "psutil.Process(pid=532, name='lsd', started='2021-03-04 02:25:13')\n",
      "psutil.Process(pid=533, name='trustd', started='2021-03-04 02:25:14')\n",
      "psutil.Process(pid=548, name='mdbulkimport', started='2021-03-04 02:31:29')\n",
      "psutil.Process(pid=549, name='mdbulkimport', started='2021-03-04 02:31:29')\n",
      "psutil.Process(pid=550, name='pkd', started='2021-03-04 02:31:29')\n",
      "psutil.Process(pid=551, name='pkd', started='2021-03-04 02:31:29')\n",
      "psutil.Process(pid=552, name='containermanagerd', started='2021-03-04 02:31:33')\n",
      "psutil.Process(pid=553, name='containermanagerd', started='2021-03-04 02:31:33')\n",
      "psutil.Process(pid=562, name='PlugInLibraryService', started='2021-03-04 02:37:13')\n",
      "psutil.Process(pid=571, name='installerdiagd', started='2021-03-04 02:43:14')\n",
      "psutil.Process(pid=572, name='distnoted', started='2021-03-04 02:43:14')\n",
      "psutil.Process(pid=580, name='CrashReporterSupportHelper', started='2021-03-04 02:48:27')\n",
      "psutil.Process(pid=631, name='filecoordinationd', started='2021-03-04 02:48:57')\n",
      "psutil.Process(pid=814, name='aned', started='2021-03-04 02:52:34')\n",
      "psutil.Process(pid=815, name='online-authd', started='2021-03-04 02:52:34')\n",
      "psutil.Process(pid=1079, name='coresymbolicationd', started='2021-03-04 02:55:24')\n",
      "psutil.Process(pid=1355, name='storagekitd', started='2021-03-04 11:14:16')\n",
      "psutil.Process(pid=1384, name='lskdd', started='2021-03-04 21:50:22')\n",
      "psutil.Process(pid=1391, name='GSSCred', started='2021-03-04 21:50:27')\n",
      "psutil.Process(pid=1395, name='UserEventAgent', started='2021-03-04 21:50:33')\n",
      "psutil.Process(pid=1398, name='com.apple.sbd', started='2021-03-04 21:50:33')\n",
      "psutil.Process(pid=1401, name='backgroundtaskmanagementagent', started='2021-03-04 21:50:33')\n",
      "psutil.Process(pid=1402, name='knowledge-agent', started='2021-03-04 21:50:33')\n",
      "psutil.Process(pid=1403, name='APFSUserAgent', started='2021-03-04 21:50:33')\n",
      "psutil.Process(pid=1404, name='networkserviceproxy', started='2021-03-04 21:50:33')\n",
      "psutil.Process(pid=1405, name='nsurlsessiond', started='2021-03-04 21:50:33')\n",
      "psutil.Process(pid=1406, name='CalendarAgent', started='2021-03-04 21:50:33')\n",
      "psutil.Process(pid=1407, name='ControlStrip', started='2021-03-04 21:50:33')\n",
      "psutil.Process(pid=1408, name='rapportd', started='2021-03-04 21:50:33')\n",
      "psutil.Process(pid=1409, name='usernoted', started='2021-03-04 21:50:33')\n",
      "psutil.Process(pid=1410, name='routined', started='2021-03-04 21:50:33')\n",
      "psutil.Process(pid=1411, name='CommCenter', started='2021-03-04 21:50:33')\n",
      "psutil.Process(pid=1412, name='secinitd', started='2021-03-04 21:50:33')\n",
      "psutil.Process(pid=1413, name='identityservicesd', started='2021-03-04 21:50:33')\n",
      "psutil.Process(pid=1414, name='searchpartyuseragent', started='2021-03-04 21:50:33')\n",
      "psutil.Process(pid=1415, name='avatarsd', started='2021-03-04 21:50:33')\n",
      "psutil.Process(pid=1417, name='devicecheckd', started='2021-03-04 21:50:33')\n",
      "psutil.Process(pid=1419, name='assistantd', started='2021-03-04 21:50:33')\n",
      "psutil.Process(pid=1420, name='diagnosticextensionsd', started='2021-03-04 21:50:33')\n",
      "psutil.Process(pid=1421, name='amsengagementd', started='2021-03-04 21:50:33')\n",
      "psutil.Process(pid=1423, name='dmd', started='2021-03-04 21:50:33')\n",
      "psutil.Process(pid=1426, name='pboard', started='2021-03-04 21:50:33')\n",
      "psutil.Process(pid=1427, name='bird', started='2021-03-04 21:50:33')\n",
      "psutil.Process(pid=1428, name='swcd', started='2021-03-04 21:50:33')\n",
      "psutil.Process(pid=1429, name='itunescloudd', started='2021-03-04 21:50:33')\n",
      "psutil.Process(pid=1430, name='com.apple.hiservices-xpcservice', started='2021-03-04 21:50:33')\n",
      "psutil.Process(pid=1431, name='NotificationCenter', started='2021-03-04 21:50:33')\n",
      "psutil.Process(pid=1432, name='tccd', started='2021-03-04 21:50:33')\n",
      "psutil.Process(pid=1434, name='fontd', started='2021-03-04 21:50:34')\n",
      "psutil.Process(pid=1435, name='fmfd', started='2021-03-04 21:50:34')\n",
      "psutil.Process(pid=1436, name='accountsd', started='2021-03-04 21:50:34')\n",
      "psutil.Process(pid=1437, name='photolibraryd', started='2021-03-04 21:50:34')\n",
      "psutil.Process(pid=1438, name='ContactsAccountsService', started='2021-03-04 21:50:34')\n",
      "psutil.Process(pid=1439, name='ctkd', started='2021-03-04 21:50:34')\n",
      "psutil.Process(pid=1440, name='fontworker', started='2021-03-04 21:50:34')\n",
      "psutil.Process(pid=1441, name='com.apple.siri.embeddedspeech', started='2021-03-04 21:50:34')\n",
      "psutil.Process(pid=1442, name='WirelessRadioManagerd', started='2021-03-04 21:50:34')\n",
      "psutil.Process(pid=1443, name='callservicesd', started='2021-03-04 21:50:34')\n",
      "psutil.Process(pid=1445, name='WiFiAgent', started='2021-03-04 21:50:34')\n",
      "psutil.Process(pid=1448, name='homed', started='2021-03-04 21:50:34')\n",
      "psutil.Process(pid=1451, name='talagent', started='2021-03-04 21:50:34')\n",
      "psutil.Process(pid=1453, name='AppSSOAgent', started='2021-03-04 21:50:34')\n",
      "psutil.Process(pid=1454, name='imagent', started='2021-03-04 21:50:34')\n",
      "psutil.Process(pid=1455, name='corespotlightd', started='2021-03-04 21:50:34')\n",
      "psutil.Process(pid=1456, name='CalNCService', started='2021-03-04 21:50:34')\n",
      "psutil.Process(pid=1457, name='IMDPersistenceAgent', started='2021-03-04 21:50:34')\n",
      "psutil.Process(pid=1458, name='ViewBridgeAuxiliary', started='2021-03-04 21:50:34')\n",
      "psutil.Process(pid=1459, name='suggestd', started='2021-03-04 21:50:34')\n",
      "psutil.Process(pid=1460, name='cloudd', started='2021-03-04 21:50:34')\n",
      "psutil.Process(pid=1461, name='familycircled', started='2021-03-04 21:50:34')\n",
      "psutil.Process(pid=1464, name='akd', started='2021-03-04 21:50:34')\n",
      "psutil.Process(pid=1465, name='adid', started='2021-03-04 21:50:34')\n",
      "psutil.Process(pid=1466, name='Keychain Circle Notification', started='2021-03-04 21:50:34')\n",
      "psutil.Process(pid=1467, name='ProtectedCloudKeySyncing', started='2021-03-04 21:50:34')\n",
      "psutil.Process(pid=1468, name='cdpd', started='2021-03-04 21:50:34')\n",
      "psutil.Process(pid=1470, name='CloudKeychainProxy', started='2021-03-04 21:50:34')\n",
      "psutil.Process(pid=1471, name='com.apple.geod', started='2021-03-04 21:50:34')\n",
      "psutil.Process(pid=1473, name='AMPLibraryAgent', started='2021-03-04 21:50:34')\n",
      "psutil.Process(pid=1476, name='sharedfilelistd', started='2021-03-04 21:50:35')\n",
      "psutil.Process(pid=1477, name='ctkbind', started='2021-03-04 21:50:35')\n",
      "psutil.Process(pid=1479, name='com.apple.DictionaryServiceHelper', started='2021-03-04 21:50:35')\n",
      "psutil.Process(pid=1480, name='keyboardservicesd', started='2021-03-04 21:50:35')\n",
      "psutil.Process(pid=1482, name='neagent', started='2021-03-04 21:50:35')\n",
      "psutil.Process(pid=1484, name='WiFiVelocityAgent', started='2021-03-04 21:50:35')\n",
      "psutil.Process(pid=1485, name='iconservicesagent', started='2021-03-04 21:50:35')\n",
      "psutil.Process(pid=1486, name='wifivelocityd', started='2021-03-04 21:50:35')\n",
      "psutil.Process(pid=1487, name='IMRemoteURLConnectionAgent', started='2021-03-04 21:50:35')\n",
      "psutil.Process(pid=1488, name='useractivityd', started='2021-03-04 21:50:35')\n",
      "psutil.Process(pid=1489, name='mediaremoteagent', started='2021-03-04 21:50:35')\n",
      "psutil.Process(pid=1490, name='IMRemoteURLConnectionAgent', started='2021-03-04 21:50:35')\n",
      "psutil.Process(pid=1492, name='IMRemoteURLConnectionAgent', started='2021-03-04 21:50:35')\n",
      "psutil.Process(pid=1493, name='ScreenTimeAgent', started='2021-03-04 21:50:35')\n",
      "psutil.Process(pid=1494, name='MTLCompilerService', started='2021-03-04 21:50:35')\n",
      "psutil.Process(pid=1495, name='MTLCompilerService', started='2021-03-04 21:50:35')\n",
      "psutil.Process(pid=1496, name='RemindersWidgetExtension', started='2021-03-04 21:50:35')\n",
      "psutil.Process(pid=1498, name='com.apple.Notes.WidgetExtension', started='2021-03-04 21:50:35')\n",
      "psutil.Process(pid=1500, name='PhotosReliveWidget', started='2021-03-04 21:50:35')\n",
      "psutil.Process(pid=1502, name='com.apple.siri.ClientFlow.ClientScripter', started='2021-03-04 21:50:36')\n",
      "psutil.Process(pid=1503, name='MTLCompilerService', started='2021-03-04 21:50:36')\n",
      "psutil.Process(pid=1504, name='MTLCompilerService', started='2021-03-04 21:50:36')\n",
      "psutil.Process(pid=1506, name='StocksWidget', started='2021-03-04 21:50:36')\n",
      "psutil.Process(pid=1507, name='WeatherWidget', started='2021-03-04 21:50:36')\n",
      "psutil.Process(pid=1508, name='ScreenTimeWidgetExtension', started='2021-03-04 21:50:36')\n",
      "psutil.Process(pid=1509, name='MTLCompilerService', started='2021-03-04 21:50:36')\n",
      "psutil.Process(pid=1510, name='MTLCompilerService', started='2021-03-04 21:50:36')\n",
      "psutil.Process(pid=1511, name='ScopedBookmarkAgent', started='2021-03-04 21:50:36')\n",
      "psutil.Process(pid=1512, name='IMRemoteURLConnectionAgent', started='2021-03-04 21:50:36')\n",
      "psutil.Process(pid=1513, name='followupd', started='2021-03-04 21:50:36')\n",
      "psutil.Process(pid=1515, name='morphunassetsupdaterd', started='2021-03-04 21:50:36')\n",
      "psutil.Process(pid=1516, name='AudioComponentRegistrar', started='2021-03-04 21:50:36')\n",
      "psutil.Process(pid=1518, name='CarbonComponentScannerXPC', started='2021-03-04 21:50:36')\n",
      "psutil.Process(pid=1519, name='UIKitSystem', started='2021-03-04 21:50:36')\n",
      "psutil.Process(pid=1520, name='fairplayd', started='2021-03-04 21:50:36')\n",
      "psutil.Process(pid=1521, name='com.apple.audio.SandboxHelper', started='2021-03-04 21:50:36')\n",
      "psutil.Process(pid=1524, name='assistant_service', started='2021-03-04 21:50:37')\n",
      "psutil.Process(pid=1530, name='storeaccountd', started='2021-03-04 21:50:38')\n",
      "psutil.Process(pid=1533, name='commerce', started='2021-03-04 21:50:38')\n",
      "psutil.Process(pid=1534, name='IMRemoteURLConnectionAgent', started='2021-03-04 21:50:38')\n",
      "psutil.Process(pid=1535, name='imklaunchagent', started='2021-03-04 21:50:39')\n",
      "psutil.Process(pid=1536, name='PAH_Extension', started='2021-03-04 21:50:39')\n",
      "psutil.Process(pid=1537, name='EmojiFunctionRowIM_Extension', started='2021-03-04 21:50:39')\n",
      "psutil.Process(pid=1538, name='com.apple.CharacterPicker.FileService', started='2021-03-04 21:50:39')\n",
      "psutil.Process(pid=1540, name='distnoted', started='2021-03-04 21:50:39')\n",
      "psutil.Process(pid=1541, name='ContextService', started='2021-03-04 21:50:40')\n",
      "psutil.Process(pid=1542, name='adprivacyd', started='2021-03-04 21:50:41')\n",
      "psutil.Process(pid=1548, name='Terminal', started='2021-03-04 21:50:42')\n",
      "psutil.Process(pid=1550, name='Dock', started='2021-03-04 21:50:42')\n",
      "psutil.Process(pid=1551, name='ControlCenter', started='2021-03-04 21:50:42')\n",
      "psutil.Process(pid=1552, name='SystemUIServer', started='2021-03-04 21:50:42')\n",
      "psutil.Process(pid=1553, name='Finder', started='2021-03-04 21:50:42')\n",
      "psutil.Process(pid=1556, name='Spotlight', started='2021-03-04 21:50:42')\n",
      "psutil.Process(pid=1557, name='parsecd', started='2021-03-04 21:50:42')\n",
      "psutil.Process(pid=1558, name='QuickLookUIService', started='2021-03-04 21:50:42')\n",
      "psutil.Process(pid=1559, name='VTDecoderXPCService', started='2021-03-04 21:50:42')\n",
      "psutil.Process(pid=1561, name='triald', started='2021-03-04 21:50:42')\n",
      "psutil.Process(pid=1563, name='AMPDeviceDiscoveryAgent', started='2021-03-04 21:50:42')\n",
      "psutil.Process(pid=1565, name='fileproviderd', started='2021-03-04 21:50:42')\n",
      "psutil.Process(pid=1566, name='MTLCompilerService', started='2021-03-04 21:50:42')\n",
      "psutil.Process(pid=1568, name='MTLCompilerService', started='2021-03-04 21:50:42')\n",
      "psutil.Process(pid=1569, name='DataDetectorsSourceAccess', started='2021-03-04 21:50:42')\n",
      "psutil.Process(pid=1570, name='pbs', started='2021-03-04 21:50:42')\n",
      "psutil.Process(pid=1571, name='FinderSyncAPIExtension', started='2021-03-04 21:50:42')\n",
      "psutil.Process(pid=1574, name='MTLCompilerService', started='2021-03-04 21:50:43')\n",
      "psutil.Process(pid=1575, name='MTLCompilerService', started='2021-03-04 21:50:43')\n",
      "psutil.Process(pid=1576, name='MTLCompilerService', started='2021-03-04 21:50:43')\n",
      "psutil.Process(pid=1577, name='MTLCompilerService', started='2021-03-04 21:50:43')\n",
      "psutil.Process(pid=1578, name='MTLCompilerService', started='2021-03-04 21:50:43')\n",
      "psutil.Process(pid=1579, name='MTLCompilerService', started='2021-03-04 21:50:43')\n",
      "psutil.Process(pid=1580, name='com.apple.quicklook.ThumbnailsAgent', started='2021-03-04 21:50:43')\n",
      "psutil.Process(pid=1581, name='QuickLookSatellite', started='2021-03-04 21:50:43')\n",
      "psutil.Process(pid=1582, name='SafeEjectGPUAgent', started='2021-03-04 21:50:44')\n",
      "psutil.Process(pid=1583, name='SafeEjectGPUService', started='2021-03-04 21:50:44')\n",
      "psutil.Process(pid=1584, name='EscrowSecurityAlert', started='2021-03-04 21:50:44')\n",
      "psutil.Process(pid=1588, name='SafariBookmarksSyncAgent', started='2021-03-04 21:50:44')\n",
      "psutil.Process(pid=1592, name='misagent', started='2021-03-04 21:50:45')\n",
      "psutil.Process(pid=1596, name='com.apple.dock.extra', started='2021-03-04 21:50:45')\n",
      "psutil.Process(pid=1604, name='CallHistoryPluginHelper', started='2021-03-04 21:50:45')\n",
      "psutil.Process(pid=1605, name='sharingd', started='2021-03-04 21:50:45')\n",
      "psutil.Process(pid=1607, name='CVMServer', started='2021-03-04 21:50:45')\n",
      "psutil.Process(pid=1609, name='MTLCompilerService', started='2021-03-04 21:50:45')\n",
      "psutil.Process(pid=1610, name='MTLCompilerService', started='2021-03-04 21:50:45')\n",
      "psutil.Process(pid=1612, name='MTLCompilerService', started='2021-03-04 21:50:45')\n",
      "psutil.Process(pid=1614, name='MTLCompilerService', started='2021-03-04 21:50:46')\n",
      "psutil.Process(pid=1615, name='CoreLocationAgent', started='2021-03-04 21:50:46')\n",
      "psutil.Process(pid=1618, name='siriknowledged', started='2021-03-04 21:50:46')\n",
      "psutil.Process(pid=1619, name='gamecontrollerd', started='2021-03-04 21:50:47')\n",
      "psutil.Process(pid=1659, name='corespeechd', started='2021-03-04 21:50:52')\n",
      "psutil.Process(pid=1661, name='ContextStoreAgent', started='2021-03-04 21:50:52')\n",
      "psutil.Process(pid=1664, name='HP Product Research', started='2021-03-04 21:50:52')\n",
      "psutil.Process(pid=1666, name='Siri', started='2021-03-04 21:50:52')\n",
      "psutil.Process(pid=1667, name='bash', started='2021-03-04 21:50:52')\n",
      "psutil.Process(pid=1668, name='icdd', started='2021-03-04 21:50:52')\n",
      "psutil.Process(pid=1672, name='askpermissiond', started='2021-03-04 21:50:52')\n",
      "psutil.Process(pid=1675, name='AirPlayUIAgent', started='2021-03-04 21:50:52')\n",
      "psutil.Process(pid=1676, name='cloudpaird', started='2021-03-04 21:50:52')\n",
      "psutil.Process(pid=1678, name='diagnostics_agent', started='2021-03-04 21:50:52')\n",
      "psutil.Process(pid=1679, name='TextInputMenuAgent', started='2021-03-04 21:50:52')\n",
      "psutil.Process(pid=1680, name='amsaccountsd', started='2021-03-04 21:50:52')\n",
      "psutil.Process(pid=1682, name='ctkahp', started='2021-03-04 21:50:52')\n",
      "psutil.Process(pid=1683, name='Parallels Toolbox', started='2021-03-04 21:50:52')\n",
      "psutil.Process(pid=1686, name='Backup and Sync', started='2021-03-04 21:50:52')\n",
      "psutil.Process(pid=1687, name='TextInputSwitcher', started='2021-03-04 21:50:52')\n",
      "psutil.Process(pid=1709, name='colorsync.useragent', started='2021-03-04 21:50:52')\n",
      "psutil.Process(pid=1737, name='PlugInLibraryService', started='2021-03-04 21:50:53')\n",
      "psutil.Process(pid=1741, name='loginitemregisterd', started='2021-03-04 21:50:53')\n",
      "psutil.Process(pid=1752, name='mdwrite', started='2021-03-04 21:50:54')\n",
      "psutil.Process(pid=1755, name='com.parallels.toolbox.EnergySaverHelper', started='2021-03-04 21:50:54')\n",
      "psutil.Process(pid=1840, name='ReportCrash', started='2021-03-04 21:51:00')\n",
      "psutil.Process(pid=1869, name='SoftwareUpdateNotificationManager', started='2021-03-04 21:51:02')\n",
      "psutil.Process(pid=1894, name='CAReportingService', started='2021-03-04 21:51:03')\n",
      "psutil.Process(pid=1900, name='ssh-agent', started='2021-03-04 21:51:04')\n",
      "psutil.Process(pid=1920, name='AppleSpell', started='2021-03-04 21:51:06')\n",
      "psutil.Process(pid=1935, name='FMIPClientXPCService', started='2021-03-04 21:51:08')\n",
      "psutil.Process(pid=1938, name='system_installd', started='2021-03-04 21:51:09')\n",
      "psutil.Process(pid=1949, name='AssetCacheLocatorService', started='2021-03-04 21:51:09')\n",
      "psutil.Process(pid=1955, name='AssetCache', started='2021-03-04 21:51:09')\n",
      "psutil.Process(pid=1956, name='distnoted', started='2021-03-04 21:51:09')\n",
      "psutil.Process(pid=1975, name='AssetCacheTetheratorService', started='2021-03-04 21:51:10')\n",
      "psutil.Process(pid=1980, name='FinderSyncAPIExtension', started='2021-03-04 21:51:11')\n",
      "psutil.Process(pid=1983, name='DockHelper', started='2021-03-04 21:51:14')\n",
      "psutil.Process(pid=2007, name='appstoreagent', started='2021-03-04 21:51:18')\n",
      "psutil.Process(pid=2008, name='installcoordinationd', started='2021-03-04 21:51:18')\n",
      "psutil.Process(pid=2009, name='com.apple.AppStoreDaemon.StorePrivilegedTaskService', started='2021-03-04 21:51:18')\n",
      "psutil.Process(pid=2010, name='printtool', started='2021-03-04 21:51:19')\n",
      "psutil.Process(pid=2078, name='PlugInLibraryService', started='2021-03-04 21:51:40')\n",
      "psutil.Process(pid=2087, name='deleted', started='2021-03-04 21:51:43')\n",
      "psutil.Process(pid=2105, name='DiskUnmountWatcher', started='2021-03-04 21:51:51')\n",
      "psutil.Process(pid=2106, name='deleted_helper', started='2021-03-04 21:51:51')\n",
      "psutil.Process(pid=2107, name='replayd', started='2021-03-04 21:51:51')\n",
      "psutil.Process(pid=2109, name='symptomsd-diag', started='2021-03-04 21:51:51')\n",
      "psutil.Process(pid=2110, name='installd', started='2021-03-04 21:51:51')\n",
      "psutil.Process(pid=2111, name='storedownloadd', started='2021-03-04 21:51:51')\n",
      "psutil.Process(pid=2112, name='MusicCacheExtension', started='2021-03-04 21:51:51')\n",
      "psutil.Process(pid=2113, name='CacheDeleteExtension', started='2021-03-04 21:51:51')\n",
      "psutil.Process(pid=2114, name='IDECacheDeleteAppExtension', started='2021-03-04 21:51:52')\n",
      "psutil.Process(pid=2115, name='TVCacheExtension', started='2021-03-04 21:51:52')\n",
      "psutil.Process(pid=2116, name='AMPArtworkAgent', started='2021-03-04 21:51:52')\n",
      "psutil.Process(pid=2117, name='SiriNCService', started='2021-03-04 21:51:52')\n",
      "psutil.Process(pid=2129, name='CoreSpotlightService', started='2021-03-04 21:52:20')\n",
      "psutil.Process(pid=2186, name='com.apple.audio.SandboxHelper', started='2021-03-04 21:55:58')\n",
      "psutil.Process(pid=2194, name='taskgated', started='2021-03-04 21:55:58')\n",
      "psutil.Process(pid=2195, name='MTLCompilerService', started='2021-03-04 21:55:58')\n",
      "psutil.Process(pid=2196, name='MTLCompilerService', started='2021-03-04 21:55:58')\n",
      "psutil.Process(pid=2434, name='transparencyd', started='2021-03-04 21:56:50')\n",
      "psutil.Process(pid=2452, name='Electron', started='2021-03-04 21:57:31')\n",
      "psutil.Process(pid=2454, name='chrome_crashpad_handler', started='2021-03-04 21:57:31')\n",
      "psutil.Process(pid=2455, name='Code Helper (GPU)', started='2021-03-04 21:57:31')\n",
      "psutil.Process(pid=2456, name='VTDecoderXPCService', started='2021-03-04 21:57:31')\n",
      "psutil.Process(pid=2457, name='Code Helper', started='2021-03-04 21:57:31')\n",
      "psutil.Process(pid=2466, name='MTLCompilerService', started='2021-03-04 21:57:33')\n",
      "psutil.Process(pid=2467, name='MTLCompilerService', started='2021-03-04 21:57:33')\n",
      "psutil.Process(pid=2474, name='Code Helper (Renderer)', started='2021-03-04 21:57:35')\n",
      "psutil.Process(pid=2782, name='ShipIt', started='2021-03-04 21:58:18')\n",
      "psutil.Process(pid=2818, name='MTLCompilerService', started='2021-03-04 22:00:31')\n",
      "psutil.Process(pid=2867, name='CalendarWidgetExtension', started='2021-03-04 22:07:55')\n",
      "psutil.Process(pid=2868, name='WorldClockWidget', started='2021-03-04 22:07:55')\n",
      "psutil.Process(pid=2869, name='progressd', started='2021-03-04 22:07:55')\n",
      "psutil.Process(pid=2911, name='OSDUIHelper', started='2021-03-04 22:12:57')\n",
      "psutil.Process(pid=3382, name='MTLCompilerService', started='2021-03-04 23:33:11')\n",
      "psutil.Process(pid=3383, name='MTLCompilerService', started='2021-03-04 23:33:11')\n",
      "psutil.Process(pid=3384, name='coreautha', started='2021-03-04 23:33:11')\n",
      "psutil.Process(pid=3389, name='USBAgent', started='2021-03-05 00:42:51')\n",
      "psutil.Process(pid=3504, name='MTLCompilerService', started='2021-03-05 20:09:35')\n",
      "psutil.Process(pid=3505, name='MTLCompilerService', started='2021-03-05 20:09:35')\n",
      "psutil.Process(pid=3638, name='com.apple.speech.speechsynthesisd', started='2021-03-06 00:15:51')\n",
      "psutil.Process(pid=3682, name='MTLCompilerService', started='2021-03-06 00:21:36')\n",
      "psutil.Process(pid=3683, name='MTLCompilerService', started='2021-03-06 00:21:36')\n",
      "psutil.Process(pid=3692, name='MTLCompilerService', started='2021-03-06 00:22:23')\n",
      "psutil.Process(pid=3693, name='MTLCompilerService', started='2021-03-06 00:22:23')\n",
      "psutil.Process(pid=5947, name='aslmanager', started='2021-03-06 07:00:06')\n",
      "psutil.Process(pid=6666, name='Authy Desktop', started='2021-03-08 10:08:35')\n",
      "psutil.Process(pid=6669, name='Authy Desktop Helper (GPU)', started='2021-03-08 10:08:37')\n",
      "psutil.Process(pid=6671, name='Authy Desktop Helper', started='2021-03-08 10:08:37')\n",
      "psutil.Process(pid=6673, name='VTDecoderXPCService', started='2021-03-08 10:08:37')\n",
      "psutil.Process(pid=6857, name='PowerChime', started='2021-03-08 17:23:24')\n",
      "psutil.Process(pid=6868, name='mapspushd', started='2021-03-08 17:23:28')\n",
      "psutil.Process(pid=6872, name='dprivacyd', started='2021-03-08 17:23:28')\n",
      "psutil.Process(pid=7048, name='com.apple.StreamingUnzipService', started='2021-03-08 17:24:51')\n",
      "psutil.Process(pid=7056, name='periodic-wrapper', started='2021-03-08 17:25:38')\n",
      "psutil.Process(pid=7120, name='localizationswitcherd', started='2021-03-08 17:25:53')\n",
      "psutil.Process(pid=7121, name='microstackshot', started='2021-03-08 17:25:53')\n",
      "psutil.Process(pid=7122, name='nbagent', started='2021-03-08 17:25:53')\n",
      "psutil.Process(pid=7124, name='AssetCacheLocatorService', started='2021-03-08 17:25:53')\n",
      "psutil.Process(pid=7128, name='UsageTrackingAgent', started='2021-03-08 17:26:23')\n",
      "psutil.Process(pid=7130, name='sysdiagnose', started='2021-03-08 17:26:23')\n",
      "psutil.Process(pid=7132, name='cloudd', started='2021-03-08 17:26:23')\n",
      "psutil.Process(pid=7134, name='MailCacheDelete', started='2021-03-08 17:26:23')\n",
      "psutil.Process(pid=7135, name='media-indexer', started='2021-03-08 17:26:28')\n",
      "psutil.Process(pid=7136, name='PodcastContentService', started='2021-03-08 17:26:28')\n",
      "psutil.Process(pid=7137, name='com.apple.BKAgentService', started='2021-03-08 17:26:28')\n",
      "psutil.Process(pid=7138, name='com.apple.audio.SandboxHelper', started='2021-03-08 17:26:28')\n",
      "psutil.Process(pid=13865, name='com.apple.CloudDocs.MobileDocumentsFileProvider', started='2021-03-08 18:02:40')\n",
      "psutil.Process(pid=13888, name='com.apple.SafariServices', started='2021-03-08 18:02:46')\n",
      "psutil.Process(pid=14663, name='periodic-wrapper', started='2021-03-08 18:23:01')\n",
      "psutil.Process(pid=15199, name='iCloudNotificationAgent', started='2021-03-08 18:23:49')\n",
      "psutil.Process(pid=18962, name='IMAutomaticHistoryDeletionAgent', started='2021-03-08 18:35:40')\n",
      "psutil.Process(pid=19365, name='cloudphotod', started='2021-03-08 18:37:25')\n",
      "psutil.Process(pid=19401, name='DPSubmissionService', started='2021-03-08 18:37:33')\n",
      "psutil.Process(pid=33891, name='mds_stores', started='2021-03-08 19:35:06')\n",
      "psutil.Process(pid=33892, name='mds', started='2021-03-08 19:35:06')\n",
      "psutil.Process(pid=33893, name='PlugInLibraryService', started='2021-03-08 19:35:06')\n",
      "psutil.Process(pid=37165, name='mdworker', started='2021-03-08 19:48:31')\n",
      "psutil.Process(pid=37205, name='com.apple.siri.ClientFlow.ClientScripter', started='2021-03-20 02:21:05')\n",
      "psutil.Process(pid=38059, name='PlugInLibraryService', started='2021-03-20 19:25:57')\n",
      "psutil.Process(pid=38585, name='Google Chrome Helper (Renderer)', started='2021-03-21 20:29:41')\n",
      "psutil.Process(pid=38586, name='Google Chrome Helper (Renderer)', started='2021-03-21 20:29:41')\n",
      "psutil.Process(pid=38587, name='Google Chrome Helper (Renderer)', started='2021-03-21 20:29:41')\n",
      "psutil.Process(pid=38610, name='Google Chrome Helper (Renderer)', started='2021-03-21 20:29:43')\n",
      "psutil.Process(pid=38864, name='UserNotificationCenter', started='2021-03-21 23:34:46')\n",
      "psutil.Process(pid=38865, name='MTLCompilerService', started='2021-03-21 23:34:47')\n",
      "psutil.Process(pid=38866, name='MTLCompilerService', started='2021-03-21 23:34:47')\n",
      "psutil.Process(pid=38867, name='MTLCompilerService', started='2021-03-21 23:34:47')\n",
      "psutil.Process(pid=39019, name='PerfPowerServices', started='2021-03-21 23:43:48')\n",
      "psutil.Process(pid=40236, name='Google Chrome Helper', started='2021-03-22 17:45:50')\n",
      "psutil.Process(pid=40788, name='MTLCompilerService', started='2021-03-22 18:37:06')\n",
      "psutil.Process(pid=40789, name='MTLCompilerService', started='2021-03-22 18:37:06')\n",
      "psutil.Process(pid=40811, name='authtrampoline', started='2021-03-22 18:38:27')\n",
      "psutil.Process(pid=40862, name='mysqld', started='2021-03-22 18:39:30')\n",
      "psutil.Process(pid=40924, name='PlugInLibraryService', started='2021-03-22 18:41:40')\n",
      "psutil.Process(pid=40955, name='PlugInLibraryService', started='2021-03-22 18:42:59')\n",
      "psutil.Process(pid=41742, name='Signal', started='2021-03-22 20:55:04')\n",
      "psutil.Process(pid=41743, name='Signal Helper (GPU)', started='2021-03-22 20:55:07')\n",
      "psutil.Process(pid=41744, name='Signal Helper', started='2021-03-22 20:55:07')\n",
      "psutil.Process(pid=41745, name='VTDecoderXPCService', started='2021-03-22 20:55:07')\n",
      "psutil.Process(pid=41747, name='Signal Helper (Renderer)', started='2021-03-22 20:55:07')\n",
      "psutil.Process(pid=41748, name='Signal Helper', started='2021-03-22 20:55:13')\n",
      "psutil.Process(pid=41749, name='com.apple.audio.SandboxHelper', started='2021-03-22 20:55:13')\n",
      "psutil.Process(pid=41782, name='MTLCompilerService', started='2021-03-22 20:58:07')\n",
      "psutil.Process(pid=42196, name='Authy Desktop Helper (Renderer)', started='2021-03-22 22:20:19')\n",
      "psutil.Process(pid=42353, name='Google Chrome Helper (Renderer)', started='22:35:13')\n",
      "psutil.Process(pid=42691, name='Energy Saver', started='00:35:18')\n",
      "psutil.Process(pid=42847, name='sandboxd', started='17:33:18')\n",
      "psutil.Process(pid=42850, name='NowPlayingTouchUI', started='17:33:21')\n",
      "psutil.Process(pid=42876, name='Google Chrome Helper (Renderer)', started='17:34:50')\n",
      "psutil.Process(pid=42887, name='Google Chrome Helper (Renderer)', started='17:34:57')\n",
      "psutil.Process(pid=42924, name='login', started='17:40:06')\n",
      "psutil.Process(pid=42925, name='zsh', started='17:40:07')\n",
      "psutil.Process(pid=42948, name='login', started='17:40:43')\n",
      "psutil.Process(pid=42949, name='zsh', started='17:40:43')\n",
      "psutil.Process(pid=42978, name='Code Helper (Renderer)', started='17:40:54')\n",
      "psutil.Process(pid=42979, name='zsh', started='17:40:55')\n",
      "psutil.Process(pid=42985, name='Code Helper (Renderer)', started='17:40:55')\n",
      "psutil.Process(pid=42989, name='Code Helper (Renderer)', started='17:40:55')\n",
      "psutil.Process(pid=42996, name='Code Helper (Renderer)', started='17:40:58')\n",
      "psutil.Process(pid=43000, name='Code Helper (Renderer)', started='17:40:59')\n",
      "psutil.Process(pid=43013, name='Code Helper (Renderer)', started='17:41:00')\n",
      "psutil.Process(pid=43024, name='Code Helper (Renderer)', started='17:41:00')\n",
      "psutil.Process(pid=43042, name='Microsoft PowerPoint', started='17:41:45')\n",
      "psutil.Process(pid=43058, name='com.apple.appkit.xpc.openAndSavePanelService', started='17:41:58')\n",
      "psutil.Process(pid=43059, name='QuickLookUIService', started='17:41:58')\n",
      "psutil.Process(pid=43368, name='com.apple.AppleUserHIDDrivers', started='20:03:49')\n",
      "psutil.Process(pid=43369, name='com.apple.AppleUserHIDDrivers', started='20:03:49')\n",
      "psutil.Process(pid=43370, name='com.apple.AppleUserHIDDrivers', started='20:03:49')\n",
      "psutil.Process(pid=43371, name='com.apple.AppleUserHIDDrivers', started='20:03:49')\n",
      "psutil.Process(pid=43372, name='com.apple.AppleUserHIDDrivers', started='20:03:49')\n",
      "psutil.Process(pid=43373, name='com.apple.AppleUserHIDDrivers', started='20:03:49')\n",
      "psutil.Process(pid=43390, name='netbiosd', started='20:03:55')\n",
      "psutil.Process(pid=43401, name='remindd', started='20:04:01')\n",
      "psutil.Process(pid=43434, name='Google Chrome Helper (Renderer)', started='20:06:17')\n",
      "psutil.Process(pid=43469, name='CoreServicesUIAgent', started='20:08:35')\n",
      "psutil.Process(pid=43581, name='Google Chrome Helper (Renderer)', started='20:22:05')\n",
      "psutil.Process(pid=43615, name='Cisco WebEx Start', started='20:24:21')\n",
      "psutil.Process(pid=43866, name='Google Chrome Helper (Renderer)', started='20:41:12')\n",
      "psutil.Process(pid=44126, name='Google Chrome Helper (Renderer)', started='20:59:40')\n",
      "psutil.Process(pid=44133, name='XprotectService', started='20:59:59')\n",
      "psutil.Process(pid=44377, name='Google Chrome Helper (Renderer)', started='21:24:14')\n",
      "psutil.Process(pid=44387, name='Google Chrome Helper (Renderer)', started='21:26:46')\n",
      "psutil.Process(pid=44388, name='Google Chrome Helper (Renderer)', started='21:26:47')\n",
      "psutil.Process(pid=44389, name='Google Chrome Helper (Renderer)', started='21:26:47')\n",
      "psutil.Process(pid=44415, name='Google Chrome Helper (Renderer)', started='21:28:53')\n",
      "psutil.Process(pid=44506, name='Google Chrome Helper (Renderer)', started='21:31:57')\n",
      "psutil.Process(pid=44662, name='Google Chrome Helper (Renderer)', started='21:55:55')\n",
      "psutil.Process(pid=44705, name='Google Chrome Helper (Renderer)', started='22:00:30')\n",
      "psutil.Process(pid=44767, name='Google Chrome Helper (Renderer)', started='22:07:57')\n",
      "psutil.Process(pid=44795, name='Google Chrome Helper (Renderer)', started='22:10:29')\n",
      "psutil.Process(pid=44826, name='mdworker_shared', started='22:15:55')\n",
      "psutil.Process(pid=44845, name='sudo', started='22:20:25')\n",
      "psutil.Process(pid=44846, name='python3.7', started='22:20:25')\n",
      "psutil.Process(pid=44851, name='Safari', started='22:20:26')\n",
      "psutil.Process(pid=44853, name='com.apple.Safari.History', started='22:20:27')\n",
      "psutil.Process(pid=44854, name='com.apple.WebKit.WebContent', started='22:20:27')\n",
      "psutil.Process(pid=44855, name='com.apple.WebKit.Networking', started='22:20:27')\n",
      "psutil.Process(pid=44856, name='MTLCompilerService', started='22:20:27')\n",
      "psutil.Process(pid=44857, name='MTLCompilerService', started='22:20:27')\n",
      "psutil.Process(pid=44858, name='Google Chrome Helper (Renderer)', started='22:20:28')\n",
      "psutil.Process(pid=44859, name='syncdefaultsd', started='22:20:28')\n",
      "psutil.Process(pid=44860, name='translationd', started='22:20:28')\n",
      "psutil.Process(pid=44861, name='com.apple.Safari.SandboxBroker', started='22:20:28')\n",
      "psutil.Process(pid=44862, name='com.apple.Safari.BrowserDataImportingService', started='22:20:28')\n",
      "psutil.Process(pid=44863, name='SafariLaunchAgent', started='22:20:28')\n",
      "psutil.Process(pid=44864, name='ocspd', started='22:20:28')\n",
      "psutil.Process(pid=44865, name='com.apple.WebKit.WebContent', started='22:20:28')\n",
      "psutil.Process(pid=44866, name='com.apple.WebKit.WebContent', started='22:20:29')\n",
      "psutil.Process(pid=44867, name='Google Chrome Helper (Renderer)', started='22:20:29')\n",
      "psutil.Process(pid=44868, name='com.apple.WebKit.WebContent', started='22:20:30')\n",
      "psutil.Process(pid=44869, name='com.apple.WebKit.WebContent', started='22:20:30')\n",
      "psutil.Process(pid=44870, name='ImageIOXPCService', started='22:20:30')\n",
      "psutil.Process(pid=44871, name='com.apple.appkit.xpc.openAndSavePanelService', started='22:20:30')\n",
      "psutil.Process(pid=44872, name='MTLCompilerService', started='22:20:30')\n",
      "psutil.Process(pid=44873, name='QuickLookUIService', started='22:20:30')\n",
      "psutil.Process(pid=44874, name='MTLCompilerService', started='22:20:30')\n",
      "psutil.Process(pid=44875, name='MTLCompilerService', started='22:20:30')\n",
      "psutil.Process(pid=44876, name='FinderSyncAPIExtension', started='22:20:31')\n",
      "psutil.Process(pid=44877, name='ReportMemoryException', started='22:20:33')\n",
      "psutil.Process(pid=44880, name='python3.7', started='22:20:34')\n",
      "psutil.Process(pid=44885, name='python3.7', started='22:20:37')\n",
      "psutil.Process(pid=44890, name='mdworker_shared', started='22:20:39')\n",
      "psutil.Process(pid=44893, name='python3.7', started='22:20:46')\n",
      "psutil.Process(pid=44898, name='mdworker_shared', started='22:20:57')\n",
      "psutil.Process(pid=44914, name='mdworker_shared', started='22:21:15')\n",
      "psutil.Process(pid=44915, name='Google Chrome Helper (Renderer)', started='22:21:18')\n",
      "psutil.Process(pid=44916, name='Google Chrome Helper (Renderer)', started='22:21:18')\n",
      "psutil.Process(pid=44917, name='mdworker_shared', started='22:21:19')\n",
      "psutil.Process(pid=44918, name='mdworker_shared', started='22:21:19')\n",
      "psutil.Process(pid=44919, name='mdworker_shared', started='22:21:19')\n",
      "psutil.Process(pid=44920, name='mdworker_shared', started='22:21:19')\n",
      "psutil.Process(pid=52549, name='MTLCompilerService', started='2021-03-08 21:17:44')\n",
      "psutil.Process(pid=52550, name='MTLCompilerService', started='2021-03-08 21:17:45')\n",
      "psutil.Process(pid=56019, name='com.apple.audio.SandboxHelper', started='2021-03-08 21:32:48')\n",
      "psutil.Process(pid=61954, name='nbstated', started='2021-03-09 17:48:29')\n",
      "psutil.Process(pid=64863, name='mdworker', started='2021-03-09 19:43:25')\n",
      "psutil.Process(pid=65484, name='com.apple.DFRSystemExtra.Siri', started='2021-03-10 00:04:20')\n",
      "psutil.Process(pid=65485, name='MTLCompilerService', started='2021-03-10 00:04:20')\n",
      "psutil.Process(pid=65486, name='MTLCompilerService', started='2021-03-10 00:04:20')\n",
      "psutil.Process(pid=65487, name='MTLCompilerService', started='2021-03-10 00:04:20')\n",
      "psutil.Process(pid=65488, name='MTLCompilerService', started='2021-03-10 00:04:20')\n",
      "psutil.Process(pid=65489, name='com.apple.audio.SandboxHelper', started='2021-03-10 00:04:20')\n",
      "psutil.Process(pid=65490, name='LocationMenu', started='2021-03-10 00:04:21')\n",
      "psutil.Process(pid=68307, name='installerauthagent', started='2021-03-10 18:55:22')\n",
      "psutil.Process(pid=68359, name='studentd', started='2021-03-10 18:56:18')\n",
      "psutil.Process(pid=68361, name='passd', started='2021-03-10 18:56:18')\n",
      "psutil.Process(pid=68362, name='nfcd', started='2021-03-10 18:56:18')\n",
      "psutil.Process(pid=68368, name='seld', started='2021-03-10 18:56:19')\n",
      "psutil.Process(pid=68369, name='distnoted', started='2021-03-10 18:56:20')\n",
      "psutil.Process(pid=68636, name='universalAccessAuthWarn', started='2021-03-10 19:10:03')\n",
      "psutil.Process(pid=69378, name='MTLCompilerService', started='2021-03-10 21:34:41')\n",
      "psutil.Process(pid=69753, name='storeuid', started='2021-03-10 22:02:31')\n",
      "psutil.Process(pid=69756, name='com.apple.CommerceKit.TransactionService', started='2021-03-10 22:02:32')\n",
      "psutil.Process(pid=70822, name='periodic-wrapper', started='2021-03-12 16:01:12')\n",
      "psutil.Process(pid=72427, name='FinderSyncAPIExtension', started='2021-03-13 02:30:41')\n",
      "psutil.Process(pid=72766, name='com.apple.Safari.SafeBrowsing.Service', started='2021-03-13 14:27:25')\n",
      "psutil.Process(pid=72967, name='SafariQuickLookPreview', started='2021-03-13 21:01:58')\n",
      "psutil.Process(pid=76137, name='MTLCompilerService', started='2021-03-14 23:50:51')\n",
      "psutil.Process(pid=76138, name='MTLCompilerService', started='2021-03-14 23:50:51')\n",
      "psutil.Process(pid=76139, name='ExternalQuickLookSatellite-x86_64', started='2021-03-14 23:51:00')\n",
      "psutil.Process(pid=79936, name='com.apple.MobileSoftwareUpdate.UpdateBrainService', started='2021-03-17 19:00:17')\n",
      "psutil.Process(pid=79937, name='xpcroleaccountd', started='2021-03-17 19:00:17')\n",
      "psutil.Process(pid=90519, name='StandaloneUpdaterDaemon', started='2021-03-19 18:50:44')\n",
      "psutil.Process(pid=90867, name='Google Chrome', started='2021-03-19 23:18:46')\n",
      "psutil.Process(pid=90871, name='chrome_crashpad_handler', started='2021-03-19 23:18:49')\n",
      "psutil.Process(pid=90881, name='Google Chrome Helper (GPU)', started='2021-03-19 23:18:49')\n",
      "psutil.Process(pid=90882, name='Google Chrome Helper', started='2021-03-19 23:18:49')\n",
      "psutil.Process(pid=90884, name='Google Chrome Helper', started='2021-03-19 23:18:49')\n",
      "psutil.Process(pid=90885, name='AlertNotificationService', started='2021-03-19 23:18:49')\n",
      "psutil.Process(pid=90886, name='VTDecoderXPCService', started='2021-03-19 23:18:50')\n",
      "psutil.Process(pid=90888, name='Google Chrome Helper (Renderer)', started='2021-03-19 23:18:50')\n",
      "psutil.Process(pid=90890, name='VTEncoderXPCService', started='2021-03-19 23:18:50')\n",
      "psutil.Process(pid=90892, name='Google Chrome Helper (Renderer)', started='2021-03-19 23:18:51')\n",
      "psutil.Process(pid=90894, name='Google Chrome Helper (Renderer)', started='2021-03-19 23:18:51')\n",
      "psutil.Process(pid=90895, name='Google Chrome Helper (Renderer)', started='2021-03-19 23:18:51')\n",
      "psutil.Process(pid=90905, name='Google Chrome Helper (Renderer)', started='2021-03-19 23:18:53')\n",
      "psutil.Process(pid=90911, name='Google Chrome Helper', started='2021-03-19 23:18:55')\n",
      "psutil.Process(pid=90913, name='com.apple.audio.SandboxHelper', started='2021-03-19 23:18:56')\n",
      "psutil.Process(pid=90920, name='Google Chrome Helper', started='2021-03-19 23:19:20')\n",
      "psutil.Process(pid=90954, name='MTLCompilerService', started='2021-03-19 23:21:50')\n",
      "psutil.Process(pid=91240, name='package_script_service', started='2021-03-20 00:51:17')\n",
      "psutil.Process(pid=91337, name='sharedfilelistd', started='2021-03-20 00:51:25')\n"
     ]
    }
   ],
   "source": [
    "print('all processes running:')\n",
    "for p in psutil.process_iter():\n",
    "    try:\n",
    "        print(p)\n",
    "    except psutil.NoSuchProcess:\n",
    "        pass"
   ]
  },
  {
   "cell_type": "markdown",
   "metadata": {},
   "source": [
    "### get pid for each notebook"
   ]
  },
  {
   "cell_type": "code",
   "execution_count": 47,
   "metadata": {},
   "outputs": [
    {
     "data": {
      "text/plain": [
       "{44880: '/Users/msarica/Library/Jupyter/runtime/kernel-f8316b7c-7ceb-479a-a5bc-d4a53654ba41.json',\n",
       " 44885: '/Users/msarica/Library/Jupyter/runtime/kernel-5af562e1-ad29-4f51-997e-4aedc17c9212.json',\n",
       " 44893: '/Users/msarica/Library/Jupyter/runtime/kernel-3e559dea-d5d5-40ec-8578-c2fd17042ba0.json'}"
      ]
     },
     "execution_count": 47,
     "metadata": {},
     "output_type": "execute_result"
    }
   ],
   "source": [
    "def get_all_kernel_pids():\n",
    "    dict_of_jupyter_kernel_pids = {}\n",
    "    for p in psutil.process_iter():\n",
    "        try:\n",
    "            list_of_commands_per_process = psutil.Process(p.pid).cmdline()\n",
    "    #        print(list_of_commands_per_process)\n",
    "            if ('ipykernel_launcher' in list_of_commands_per_process):\n",
    "                dict_of_jupyter_kernel_pids[p.pid] = list_of_commands_per_process[len(list_of_commands_per_process)-1]\n",
    "        except:\n",
    "            pass\n",
    "    return dict_of_jupyter_kernel_pids\n",
    "\n",
    "get_all_kernel_pids()"
   ]
  },
  {
   "cell_type": "code",
   "execution_count": 48,
   "metadata": {},
   "outputs": [
    {
     "data": {
      "text/plain": [
       "{44880: '/Users/msarica/Library/Jupyter/runtime/kernel-f8316b7c-7ceb-479a-a5bc-d4a53654ba41.json',\n",
       " 44885: '/Users/msarica/Library/Jupyter/runtime/kernel-5af562e1-ad29-4f51-997e-4aedc17c9212.json',\n",
       " 44893: '/Users/msarica/Library/Jupyter/runtime/kernel-3e559dea-d5d5-40ec-8578-c2fd17042ba0.json'}"
      ]
     },
     "execution_count": 48,
     "metadata": {},
     "output_type": "execute_result"
    }
   ],
   "source": [
    "dict_of_jupyter_kernel_pids = get_all_kernel_pids()\n",
    "dict_of_jupyter_kernel_pids"
   ]
  },
  {
   "cell_type": "markdown",
   "metadata": {},
   "source": [
    "### (alternative method) use `ps -ax` to get the relevant pid for notebooks\n",
    "\n",
    "not in use"
   ]
  },
  {
   "cell_type": "raw",
   "metadata": {},
   "source": [
    "dict_of_jupyter_kernel_pids = {}\n",
    "for this_line in subprocess.Popen(['ps', 'ax'], stdout=subprocess.PIPE).communicate()[0].decode().split('\\n'):\n",
    "#    print(this_line.strip())\n",
    "    if (this_line.strip().endswith('.json') and ('ipykernel_launcher' in this_line)):\n",
    "        dict_of_jupyter_kernel_pids[this_line.strip().split(' ')[0]] = this_line\n",
    "        \n",
    "dict_of_jupyter_kernel_pids"
   ]
  },
  {
   "cell_type": "markdown",
   "metadata": {},
   "source": [
    "### add pid to dict containing kernel information"
   ]
  },
  {
   "cell_type": "code",
   "execution_count": 49,
   "metadata": {},
   "outputs": [],
   "source": [
    "def add_pid_to_kernel_dict(dict_of_jupyter_kernel_pids,list_of_kernel_dicts):\n",
    "    if not isinstance(dict_of_jupyter_kernel_pids,dict):\n",
    "        raise TypeError(\"ERROR: expected a dict as input for dict_of_jupyter_kernel_pids, got\",type(dict_of_jupyter_kernel_pids))\n",
    "        return None\n",
    "    if not isinstance(list_of_kernel_dicts,list):\n",
    "        raise TypeError(\"ERROR: expected a list as input for list_of_kernel_dicts, got\",type(list_of_kernel_dicts))\n",
    "        return None\n",
    "    for pid,kernel_path in dict_of_jupyter_kernel_pids.items():\n",
    "        for notebook_indx in range(len(list_of_kernel_dicts)):\n",
    "            if (list_of_kernel_dicts[notebook_indx]['kernel']['id'] in kernel_path):\n",
    "#                print(pid,'is',list_of_kernel_dicts[notebook_indx],'\\n')\n",
    "                list_of_kernel_dicts[notebook_indx]['pid']=pid\n",
    "    for kernel_dict in list_of_kernel_dicts:\n",
    "        if 'pid' not in kernel_dict.keys():\n",
    "            print('this kernel_dict is missing a pid:')\n",
    "            print(kernel_dict)\n",
    "            print('and the list of PIDs is')\n",
    "            print(dict_of_jupyter_kernel_pids)\n",
    "    return list_of_kernel_dicts"
   ]
  },
  {
   "cell_type": "code",
   "execution_count": 50,
   "metadata": {},
   "outputs": [],
   "source": [
    "list_of_kernel_dicts= add_pid_to_kernel_dict(dict_of_jupyter_kernel_pids,list_of_kernel_dicts)"
   ]
  },
  {
   "cell_type": "code",
   "execution_count": 51,
   "metadata": {},
   "outputs": [
    {
     "data": {
      "text/plain": [
       "[{'id': '14c84438-8bf5-48ab-8f8d-970b045266d7',\n",
       "  'path': 'UMBC/DS601_Spring21/Week9/notebook/4_plotting_timeseries_data.ipynb',\n",
       "  'name': '',\n",
       "  'type': 'notebook',\n",
       "  'kernel': {'id': 'f8316b7c-7ceb-479a-a5bc-d4a53654ba41',\n",
       "   'name': 'python3',\n",
       "   'last_activity': '2021-03-24T02:20:35.329250Z',\n",
       "   'execution_state': 'idle',\n",
       "   'connections': 1},\n",
       "  'notebook': {'path': 'UMBC/DS601_Spring21/Week9/notebook/4_plotting_timeseries_data.ipynb',\n",
       "   'name': ''},\n",
       "  'pid': 44880},\n",
       " {'id': '5a8b616f-6514-4957-9416-8e22f4da9ea2',\n",
       "  'path': 'UMBC/DS601_Spring21/Week9/notebook/host_streaming_stats/analysis_of_static_timeseries.ipynb',\n",
       "  'name': '',\n",
       "  'type': 'notebook',\n",
       "  'kernel': {'id': '5af562e1-ad29-4f51-997e-4aedc17c9212',\n",
       "   'name': 'python3',\n",
       "   'last_activity': '2021-03-24T02:20:39.192852Z',\n",
       "   'execution_state': 'idle',\n",
       "   'connections': 1},\n",
       "  'notebook': {'path': 'UMBC/DS601_Spring21/Week9/notebook/host_streaming_stats/analysis_of_static_timeseries.ipynb',\n",
       "   'name': ''},\n",
       "  'pid': 44885},\n",
       " {'id': 'b927fd54-6122-419f-bdb5-3803c168d6a2',\n",
       "  'path': 'UMBC/DS601_Spring21/Week9/notebook/host_streaming_stats/host_cpu_and_memory.ipynb',\n",
       "  'name': '',\n",
       "  'type': 'notebook',\n",
       "  'kernel': {'id': '3e559dea-d5d5-40ec-8578-c2fd17042ba0',\n",
       "   'name': 'python3',\n",
       "   'last_activity': '2021-03-24T02:21:23.375648Z',\n",
       "   'execution_state': 'busy',\n",
       "   'connections': 1},\n",
       "  'notebook': {'path': 'UMBC/DS601_Spring21/Week9/notebook/host_streaming_stats/host_cpu_and_memory.ipynb',\n",
       "   'name': ''},\n",
       "  'pid': 44893}]"
      ]
     },
     "execution_count": 51,
     "metadata": {},
     "output_type": "execute_result"
    }
   ],
   "source": [
    "list_of_kernel_dicts"
   ]
  },
  {
   "cell_type": "markdown",
   "metadata": {},
   "source": [
    "### which kernels are not this notebook?"
   ]
  },
  {
   "cell_type": "code",
   "execution_count": 52,
   "metadata": {},
   "outputs": [],
   "source": [
    "def kernel_dicts_other_notebooks(list_of_kernel_dicts):\n",
    "    if not isinstance(list_of_kernel_dicts,list):\n",
    "        raise TypeError(\"ERROR: expected a list as input for list_of_kernel_dicts, got\",type(list_of_kernel_dicts))\n",
    "        return None\n",
    "    list_of_kernel_dicts_for_other_notebooks=[]\n",
    "    for kernel_dict in list_of_kernel_dicts:\n",
    "        if 'pid' in kernel_dict.keys():\n",
    "            if (str(os.getpid())!=str(kernel_dict['pid'])):\n",
    "                list_of_kernel_dicts_for_other_notebooks.append(kernel_dict)\n",
    "        else:\n",
    "            print('pid not found in key for kernel_dicts')\n",
    "            print(list_of_kernel_dicts)\n",
    "    return list_of_kernel_dicts_for_other_notebooks"
   ]
  },
  {
   "cell_type": "code",
   "execution_count": 53,
   "metadata": {},
   "outputs": [
    {
     "data": {
      "text/plain": [
       "[{'id': '14c84438-8bf5-48ab-8f8d-970b045266d7',\n",
       "  'path': 'UMBC/DS601_Spring21/Week9/notebook/4_plotting_timeseries_data.ipynb',\n",
       "  'name': '',\n",
       "  'type': 'notebook',\n",
       "  'kernel': {'id': 'f8316b7c-7ceb-479a-a5bc-d4a53654ba41',\n",
       "   'name': 'python3',\n",
       "   'last_activity': '2021-03-24T02:20:35.329250Z',\n",
       "   'execution_state': 'idle',\n",
       "   'connections': 1},\n",
       "  'notebook': {'path': 'UMBC/DS601_Spring21/Week9/notebook/4_plotting_timeseries_data.ipynb',\n",
       "   'name': ''},\n",
       "  'pid': 44880},\n",
       " {'id': '5a8b616f-6514-4957-9416-8e22f4da9ea2',\n",
       "  'path': 'UMBC/DS601_Spring21/Week9/notebook/host_streaming_stats/analysis_of_static_timeseries.ipynb',\n",
       "  'name': '',\n",
       "  'type': 'notebook',\n",
       "  'kernel': {'id': '5af562e1-ad29-4f51-997e-4aedc17c9212',\n",
       "   'name': 'python3',\n",
       "   'last_activity': '2021-03-24T02:20:39.192852Z',\n",
       "   'execution_state': 'idle',\n",
       "   'connections': 1},\n",
       "  'notebook': {'path': 'UMBC/DS601_Spring21/Week9/notebook/host_streaming_stats/analysis_of_static_timeseries.ipynb',\n",
       "   'name': ''},\n",
       "  'pid': 44885}]"
      ]
     },
     "execution_count": 53,
     "metadata": {},
     "output_type": "execute_result"
    }
   ],
   "source": [
    "list_of_kernel_dicts_for_other_notebooks = kernel_dicts_other_notebooks(list_of_kernel_dicts)\n",
    "list_of_kernel_dicts_for_other_notebooks"
   ]
  },
  {
   "cell_type": "code",
   "execution_count": 54,
   "metadata": {},
   "outputs": [],
   "source": [
    "def get_other_kernel_pids(list_of_kernel_dicts_for_other_notebooks,\n",
    "                          url_for_api_sessions='http://localhost:8888/api/sessions' + token):\n",
    "    if not isinstance(list_of_kernel_dicts_for_other_notebooks,list):\n",
    "        raise TypeError(\"ERROR: expected a list as input for list_of_kernel_dicts_for_other_notebooks, got\",type(list_of_kernel_dicts_for_other_notebooks))\n",
    "        return None\n",
    "\n",
    "    list_of_kernel_dicts = requests.get(url_for_api_sessions).json()\n",
    "    dict_of_jupyter_kernel_pids = get_all_kernel_pids()\n",
    "    list_of_kernel_dicts= add_pid_to_kernel_dict(dict_of_jupyter_kernel_pids,list_of_kernel_dicts)\n",
    "    current_list_of_kernel_dicts_for_other_notebooks = kernel_dicts_other_notebooks(list_of_kernel_dicts)\n",
    "\n",
    "    list_of_pids_in_previous=[]\n",
    "    for old_dict in list_of_kernel_dicts_for_other_notebooks:\n",
    "        list_of_pids_in_previous.append(old_dict['pid'])\n",
    "    for curr_dict in current_list_of_kernel_dicts_for_other_notebooks:\n",
    "        if (curr_dict['pid'] not in list_of_pids_in_previous):\n",
    "            list_of_kernel_dicts_for_other_notebooks.append(curr_dict)\n",
    "    return list_of_kernel_dicts_for_other_notebooks"
   ]
  },
  {
   "cell_type": "markdown",
   "metadata": {},
   "source": [
    "# collect data for other notebook and create plots"
   ]
  },
  {
   "cell_type": "code",
   "execution_count": 55,
   "metadata": {},
   "outputs": [],
   "source": [
    "#monitoring_duration_in_seconds_other_notebooks=60 # 60 queries takes 63 seconds"
   ]
  },
  {
   "cell_type": "code",
   "execution_count": 57,
   "metadata": {},
   "outputs": [
    {
     "name": "stdout",
     "output_type": "stream",
     "text": [
      "there are 3 other kernels\n",
      "elapsed time: 650.2085609436035 seconds\n"
     ]
    }
   ],
   "source": [
    "nb_dict={}\n",
    "list_of_kernel_dicts_for_other_notebooks = get_other_kernel_pids([])\n",
    "print('there are',len(list_of_kernel_dicts_for_other_notebooks),'other kernels')\n",
    "prev_kernel_count = len(list_of_kernel_dicts_for_other_notebooks)\n",
    "\n",
    "start_time = time.time()\n",
    "for indx in range(monitoring_duration_in_seconds_other_notebooks):\n",
    "    row = {}\n",
    "    system_row = row_for_system_performance(row)\n",
    "    # detect new notebook kernels\n",
    "    list_of_kernel_dicts_for_other_notebooks = get_other_kernel_pids(list_of_kernel_dicts_for_other_notebooks)\n",
    "    if len(list_of_kernel_dicts_for_other_notebooks)!=prev_kernel_count:\n",
    "        print('\\nkernel count changed from',prev_kernel_count)\n",
    "        prev_kernel_count=len(list_of_kernel_dicts_for_other_notebooks)\n",
    "        print('to',prev_kernel_count)\n",
    "        print('elapsed time:',time.time()-start_time,'seconds')\n",
    "        print(list_of_kernel_dicts_for_other_notebooks)\n",
    "    \n",
    "    for other_nb in list_of_kernel_dicts_for_other_notebooks:\n",
    "        row = row_for_performance_per_pid(system_row,int(other_nb['pid']))\n",
    "        try:\n",
    "            nb_dict[other_nb['pid']].append(row)\n",
    "        except KeyError: # new pid for new kernel\n",
    "            nb_dict[other_nb['pid']] = []\n",
    "            nb_dict[other_nb['pid']].append(row)\n",
    "    time.sleep(polling_period_in_seconds)\n",
    "\n",
    "    #print('elapsed time:',time.time()-start_time,'seconds')\n",
    "print('elapsed time:',time.time()-start_time,'seconds')\n",
    "\n",
    "nb_df = {}\n",
    "for other_nb in list_of_kernel_dicts_for_other_notebooks:\n",
    "    nb_df[other_nb['pid']] = pandas.DataFrame(nb_dict[other_nb['pid']])"
   ]
  },
  {
   "cell_type": "code",
   "execution_count": 58,
   "metadata": {},
   "outputs": [
    {
     "data": {
      "text/plain": [
       "dict_keys([44880, 44885, 44923])"
      ]
     },
     "execution_count": 58,
     "metadata": {},
     "output_type": "execute_result"
    }
   ],
   "source": [
    "nb_df.keys()"
   ]
  },
  {
   "cell_type": "code",
   "execution_count": 59,
   "metadata": {},
   "outputs": [],
   "source": [
    "for indx in range(len(list_of_kernel_dicts_for_other_notebooks)):\n",
    "    nb_pid = list_of_kernel_dicts_for_other_notebooks[indx]['pid']\n",
    "    list_of_kernel_dicts_for_other_notebooks[indx]['df']=nb_df[nb_pid]"
   ]
  },
  {
   "cell_type": "code",
   "execution_count": 60,
   "metadata": {},
   "outputs": [],
   "source": [
    "with open(\"list_of_df_other_notebooks_\"+str(time.time())+\".pkl\", 'wb') as handle:\n",
    "    pickle.dump(list_of_kernel_dicts_for_other_notebooks, handle, protocol=pickle.HIGHEST_PROTOCOL)\n",
    "\n",
    "#with open('filename.pickle', 'rb') as handle:\n",
    "#   list_of_kernel_dicts_for_other_notebooks = pickle.load(handle)"
   ]
  },
  {
   "cell_type": "code",
   "execution_count": null,
   "metadata": {},
   "outputs": [],
   "source": []
  },
  {
   "cell_type": "code",
   "execution_count": null,
   "metadata": {},
   "outputs": [],
   "source": []
  }
 ],
 "metadata": {
  "kernelspec": {
   "display_name": "Python 3",
   "language": "python",
   "name": "python3"
  },
  "language_info": {
   "codemirror_mode": {
    "name": "ipython",
    "version": 3
   },
   "file_extension": ".py",
   "mimetype": "text/x-python",
   "name": "python",
   "nbconvert_exporter": "python",
   "pygments_lexer": "ipython3",
   "version": "3.7.4"
  },
  "varInspector": {
   "cols": {
    "lenName": 16,
    "lenType": 16,
    "lenVar": 40
   },
   "kernels_config": {
    "python": {
     "delete_cmd_postfix": "",
     "delete_cmd_prefix": "del ",
     "library": "var_list.py",
     "varRefreshCmd": "print(var_dic_list())"
    },
    "r": {
     "delete_cmd_postfix": ") ",
     "delete_cmd_prefix": "rm(",
     "library": "var_list.r",
     "varRefreshCmd": "cat(var_dic_list()) "
    }
   },
   "types_to_exclude": [
    "module",
    "function",
    "builtin_function_or_method",
    "instance",
    "_Feature"
   ],
   "window_display": false
  }
 },
 "nbformat": 4,
 "nbformat_minor": 2
}

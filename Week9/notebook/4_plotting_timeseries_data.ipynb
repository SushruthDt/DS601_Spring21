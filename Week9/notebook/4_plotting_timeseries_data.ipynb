{
 "cells": [
  {
   "cell_type": "code",
   "execution_count": 3,
   "metadata": {},
   "outputs": [],
   "source": [
    "import pandas\n",
    "import pickle\n",
    "import pytz\n",
    "import matplotlib.pyplot as plt\n",
    "import time\n",
    "import datetime"
   ]
  },
  {
   "cell_type": "code",
   "execution_count": 4,
   "metadata": {},
   "outputs": [],
   "source": [
    "with open(\"host_streaming_stats/list_of_df_other_notebooks_1616553245.325566.pkl\",'rb') as handl:\n",
    "    lst_of_df = pickle.load(handl)"
   ]
  },
  {
   "cell_type": "code",
   "execution_count": 5,
   "metadata": {},
   "outputs": [
    {
     "data": {
      "text/plain": [
       "3"
      ]
     },
     "execution_count": 5,
     "metadata": {},
     "output_type": "execute_result"
    }
   ],
   "source": [
    "len(lst_of_df)"
   ]
  },
  {
   "cell_type": "code",
   "execution_count": 6,
   "metadata": {},
   "outputs": [
    {
     "data": {
      "text/plain": [
       "dict_keys(['id', 'path', 'name', 'type', 'kernel', 'notebook', 'pid', 'df'])"
      ]
     },
     "execution_count": 6,
     "metadata": {},
     "output_type": "execute_result"
    }
   ],
   "source": [
    "lst_of_df[0].keys()"
   ]
  },
  {
   "cell_type": "code",
   "execution_count": 7,
   "metadata": {},
   "outputs": [],
   "source": [
    "df = lst_of_df[0]['df']"
   ]
  },
  {
   "cell_type": "code",
   "execution_count": 8,
   "metadata": {},
   "outputs": [
    {
     "data": {
      "text/plain": [
       "(600, 117)"
      ]
     },
     "execution_count": 8,
     "metadata": {},
     "output_type": "execute_result"
    }
   ],
   "source": [
    "df.shape"
   ]
  },
  {
   "cell_type": "code",
   "execution_count": 9,
   "metadata": {},
   "outputs": [
    {
     "data": {
      "text/html": [
       "<div>\n",
       "<style scoped>\n",
       "    .dataframe tbody tr th:only-of-type {\n",
       "        vertical-align: middle;\n",
       "    }\n",
       "\n",
       "    .dataframe tbody tr th {\n",
       "        vertical-align: top;\n",
       "    }\n",
       "\n",
       "    .dataframe thead th {\n",
       "        text-align: right;\n",
       "    }\n",
       "</style>\n",
       "<table border=\"1\" class=\"dataframe\">\n",
       "  <thead>\n",
       "    <tr style=\"text-align: right;\">\n",
       "      <th></th>\n",
       "      <th>CPU percent for 0</th>\n",
       "      <th>CPU percent for 1</th>\n",
       "      <th>CPU percent for 2</th>\n",
       "      <th>CPU percent for 3</th>\n",
       "      <th>CPU percent for 4</th>\n",
       "      <th>CPU percent for 5</th>\n",
       "      <th>CPU percent for 6</th>\n",
       "      <th>CPU percent for 7</th>\n",
       "      <th>CPU percent for 8</th>\n",
       "      <th>CPU percent for 9</th>\n",
       "      <th>...</th>\n",
       "      <th>process memory: vms</th>\n",
       "      <th>process memory: pfaults</th>\n",
       "      <th>process memory: pageins</th>\n",
       "      <th>process memory: uss</th>\n",
       "      <th>process cpu times: user</th>\n",
       "      <th>process cpu times: system</th>\n",
       "      <th>process cpu times: children_user</th>\n",
       "      <th>process cpu times: children_system</th>\n",
       "      <th>process number context switches: voluntary</th>\n",
       "      <th>process number context switches: involuntary</th>\n",
       "    </tr>\n",
       "  </thead>\n",
       "  <tbody>\n",
       "    <tr>\n",
       "      <td>0</td>\n",
       "      <td>25.3</td>\n",
       "      <td>0.2</td>\n",
       "      <td>19.3</td>\n",
       "      <td>0.2</td>\n",
       "      <td>14.4</td>\n",
       "      <td>0.1</td>\n",
       "      <td>12.1</td>\n",
       "      <td>0.1</td>\n",
       "      <td>9.1</td>\n",
       "      <td>0.1</td>\n",
       "      <td>...</td>\n",
       "      <td>4724727808</td>\n",
       "      <td>23531</td>\n",
       "      <td>823</td>\n",
       "      <td>49836032</td>\n",
       "      <td>0.489987</td>\n",
       "      <td>0.146503</td>\n",
       "      <td>0.0</td>\n",
       "      <td>0.0</td>\n",
       "      <td>140728898422242</td>\n",
       "      <td>0</td>\n",
       "    </tr>\n",
       "    <tr>\n",
       "      <td>1</td>\n",
       "      <td>19.4</td>\n",
       "      <td>0.0</td>\n",
       "      <td>16.7</td>\n",
       "      <td>0.0</td>\n",
       "      <td>8.4</td>\n",
       "      <td>0.0</td>\n",
       "      <td>9.3</td>\n",
       "      <td>0.0</td>\n",
       "      <td>4.7</td>\n",
       "      <td>0.9</td>\n",
       "      <td>...</td>\n",
       "      <td>4724727808</td>\n",
       "      <td>23531</td>\n",
       "      <td>823</td>\n",
       "      <td>49836032</td>\n",
       "      <td>0.490010</td>\n",
       "      <td>0.146514</td>\n",
       "      <td>0.0</td>\n",
       "      <td>0.0</td>\n",
       "      <td>140728898422243</td>\n",
       "      <td>0</td>\n",
       "    </tr>\n",
       "    <tr>\n",
       "      <td>2</td>\n",
       "      <td>22.0</td>\n",
       "      <td>0.0</td>\n",
       "      <td>20.0</td>\n",
       "      <td>0.0</td>\n",
       "      <td>12.6</td>\n",
       "      <td>0.0</td>\n",
       "      <td>12.6</td>\n",
       "      <td>0.0</td>\n",
       "      <td>10.8</td>\n",
       "      <td>0.0</td>\n",
       "      <td>...</td>\n",
       "      <td>4724727808</td>\n",
       "      <td>23531</td>\n",
       "      <td>823</td>\n",
       "      <td>49836032</td>\n",
       "      <td>0.490036</td>\n",
       "      <td>0.146529</td>\n",
       "      <td>0.0</td>\n",
       "      <td>0.0</td>\n",
       "      <td>140728898422244</td>\n",
       "      <td>0</td>\n",
       "    </tr>\n",
       "    <tr>\n",
       "      <td>3</td>\n",
       "      <td>20.0</td>\n",
       "      <td>0.0</td>\n",
       "      <td>17.6</td>\n",
       "      <td>0.0</td>\n",
       "      <td>10.2</td>\n",
       "      <td>0.0</td>\n",
       "      <td>9.3</td>\n",
       "      <td>0.9</td>\n",
       "      <td>7.4</td>\n",
       "      <td>0.0</td>\n",
       "      <td>...</td>\n",
       "      <td>4724727808</td>\n",
       "      <td>23531</td>\n",
       "      <td>823</td>\n",
       "      <td>49836032</td>\n",
       "      <td>0.490061</td>\n",
       "      <td>0.146544</td>\n",
       "      <td>0.0</td>\n",
       "      <td>0.0</td>\n",
       "      <td>140728898422245</td>\n",
       "      <td>0</td>\n",
       "    </tr>\n",
       "    <tr>\n",
       "      <td>4</td>\n",
       "      <td>12.1</td>\n",
       "      <td>0.9</td>\n",
       "      <td>15.7</td>\n",
       "      <td>0.0</td>\n",
       "      <td>8.4</td>\n",
       "      <td>0.0</td>\n",
       "      <td>2.8</td>\n",
       "      <td>0.0</td>\n",
       "      <td>3.7</td>\n",
       "      <td>0.0</td>\n",
       "      <td>...</td>\n",
       "      <td>4724727808</td>\n",
       "      <td>23531</td>\n",
       "      <td>823</td>\n",
       "      <td>49836032</td>\n",
       "      <td>0.490086</td>\n",
       "      <td>0.146565</td>\n",
       "      <td>0.0</td>\n",
       "      <td>0.0</td>\n",
       "      <td>140728898422246</td>\n",
       "      <td>0</td>\n",
       "    </tr>\n",
       "  </tbody>\n",
       "</table>\n",
       "<p>5 rows × 117 columns</p>\n",
       "</div>"
      ],
      "text/plain": [
       "   CPU percent for 0  CPU percent for 1  CPU percent for 2  CPU percent for 3  \\\n",
       "0               25.3                0.2               19.3                0.2   \n",
       "1               19.4                0.0               16.7                0.0   \n",
       "2               22.0                0.0               20.0                0.0   \n",
       "3               20.0                0.0               17.6                0.0   \n",
       "4               12.1                0.9               15.7                0.0   \n",
       "\n",
       "   CPU percent for 4  CPU percent for 5  CPU percent for 6  CPU percent for 7  \\\n",
       "0               14.4                0.1               12.1                0.1   \n",
       "1                8.4                0.0                9.3                0.0   \n",
       "2               12.6                0.0               12.6                0.0   \n",
       "3               10.2                0.0                9.3                0.9   \n",
       "4                8.4                0.0                2.8                0.0   \n",
       "\n",
       "   CPU percent for 8  CPU percent for 9  ...  process memory: vms  \\\n",
       "0                9.1                0.1  ...           4724727808   \n",
       "1                4.7                0.9  ...           4724727808   \n",
       "2               10.8                0.0  ...           4724727808   \n",
       "3                7.4                0.0  ...           4724727808   \n",
       "4                3.7                0.0  ...           4724727808   \n",
       "\n",
       "   process memory: pfaults  process memory: pageins  process memory: uss  \\\n",
       "0                    23531                      823             49836032   \n",
       "1                    23531                      823             49836032   \n",
       "2                    23531                      823             49836032   \n",
       "3                    23531                      823             49836032   \n",
       "4                    23531                      823             49836032   \n",
       "\n",
       "   process cpu times: user  process cpu times: system  \\\n",
       "0                 0.489987                   0.146503   \n",
       "1                 0.490010                   0.146514   \n",
       "2                 0.490036                   0.146529   \n",
       "3                 0.490061                   0.146544   \n",
       "4                 0.490086                   0.146565   \n",
       "\n",
       "   process cpu times: children_user process cpu times: children_system  \\\n",
       "0                               0.0                                0.0   \n",
       "1                               0.0                                0.0   \n",
       "2                               0.0                                0.0   \n",
       "3                               0.0                                0.0   \n",
       "4                               0.0                                0.0   \n",
       "\n",
       "   process number context switches: voluntary  \\\n",
       "0                             140728898422242   \n",
       "1                             140728898422243   \n",
       "2                             140728898422244   \n",
       "3                             140728898422245   \n",
       "4                             140728898422246   \n",
       "\n",
       "   process number context switches: involuntary  \n",
       "0                                             0  \n",
       "1                                             0  \n",
       "2                                             0  \n",
       "3                                             0  \n",
       "4                                             0  \n",
       "\n",
       "[5 rows x 117 columns]"
      ]
     },
     "execution_count": 9,
     "metadata": {},
     "output_type": "execute_result"
    }
   ],
   "source": [
    "df.head()"
   ]
  },
  {
   "cell_type": "markdown",
   "metadata": {},
   "source": [
    "plot a single column"
   ]
  },
  {
   "cell_type": "code",
   "execution_count": 10,
   "metadata": {},
   "outputs": [
    {
     "data": {
      "image/png": "[encoded data removed]",
      "text/plain": [
       "<Figure size 432x288 with 1 Axes>"
      ]
     },
     "metadata": {
      "needs_background": "light"
     },
     "output_type": "display_data"
    }
   ],
   "source": [
    "plt.plot(df['CPU 1 times user']);"
   ]
  },
  {
   "cell_type": "markdown",
   "metadata": {},
   "source": [
    "plot a single column as a scatter plot\n",
    "\n",
    "unlike a line plot, scatter requires two inputs. Here we'll use the index of the series as the x axis"
   ]
  },
  {
   "cell_type": "code",
   "execution_count": 11,
   "metadata": {},
   "outputs": [
    {
     "data": {
      "text/plain": [
       "0    15.6\n",
       "1    12.0\n",
       "2    13.8\n",
       "3    13.6\n",
       "4     7.5\n",
       "Name: CPU 1 times user, dtype: float64"
      ]
     },
     "execution_count": 11,
     "metadata": {},
     "output_type": "execute_result"
    }
   ],
   "source": [
    "df['CPU 1 times user'].head()"
   ]
  },
  {
   "cell_type": "code",
   "execution_count": 12,
   "metadata": {},
   "outputs": [
    {
     "data": {
      "image/png": "[encoded data removed]",
      "text/plain": [
       "<Figure size 432x288 with 1 Axes>"
      ]
     },
     "metadata": {
      "needs_background": "light"
     },
     "output_type": "display_data"
    }
   ],
   "source": [
    "plt.scatter(x=df['CPU 1 times user'].index,y=df['CPU 1 times user'].values);"
   ]
  },
  {
   "cell_type": "markdown",
   "metadata": {},
   "source": [
    "do any of the columns have the word \"seconds\" present?"
   ]
  },
  {
   "cell_type": "code",
   "execution_count": 13,
   "metadata": {},
   "outputs": [
    {
     "name": "stdout",
     "output_type": "stream",
     "text": [
      "time in unix seconds\n"
     ]
    }
   ],
   "source": [
    "for this_col in list(df.columns):\n",
    "    if ('seconds') in this_col:\n",
    "        print(this_col)"
   ]
  },
  {
   "cell_type": "code",
   "execution_count": 14,
   "metadata": {},
   "outputs": [
    {
     "data": {
      "text/plain": [
       "0    1.616553e+09\n",
       "1    1.616553e+09\n",
       "2    1.616553e+09\n",
       "3    1.616553e+09\n",
       "4    1.616553e+09\n",
       "Name: time in unix seconds, dtype: float64"
      ]
     },
     "execution_count": 14,
     "metadata": {},
     "output_type": "execute_result"
    }
   ],
   "source": [
    "df['time in unix seconds'].head()"
   ]
  },
  {
   "cell_type": "markdown",
   "metadata": {},
   "source": [
    "That's number of seconds since Unix Epoch - https://en.wikipedia.org/wiki/Unix_time\n",
    "\n",
    "We can get the current number of seconds using time:"
   ]
  },
  {
   "cell_type": "code",
   "execution_count": 15,
   "metadata": {},
   "outputs": [
    {
     "data": {
      "text/plain": [
       "1616553829.599954"
      ]
     },
     "execution_count": 15,
     "metadata": {},
     "output_type": "execute_result"
    }
   ],
   "source": [
    "time.time()"
   ]
  },
  {
   "cell_type": "markdown",
   "metadata": {},
   "source": [
    "Rather than use the index as the x-axis label, let's try the unix time stamp"
   ]
  },
  {
   "cell_type": "code",
   "execution_count": 16,
   "metadata": {},
   "outputs": [
    {
     "data": {
      "image/png": "[encoded data removed]",
      "text/plain": [
       "<Figure size 432x288 with 1 Axes>"
      ]
     },
     "metadata": {
      "needs_background": "light"
     },
     "output_type": "display_data"
    }
   ],
   "source": [
    "plt.plot(df['time in unix seconds'],df['CPU 1 times user']);"
   ]
  },
  {
   "cell_type": "markdown",
   "metadata": {},
   "source": [
    "The timestamp is not much more helpful than the integer index, and perhaps more confusing. \n",
    "\n",
    "We can convert the float to a datetime object:<BR>\n",
    "https://stackoverflow.com/questions/3682748/converting-unix-timestamp-string-to-readable-date"
   ]
  },
  {
   "cell_type": "code",
   "execution_count": 17,
   "metadata": {},
   "outputs": [
    {
     "data": {
      "text/plain": [
       "datetime.datetime(2021, 3, 24, 2, 23, 14, 328610)"
      ]
     },
     "execution_count": 17,
     "metadata": {},
     "output_type": "execute_result"
    }
   ],
   "source": [
    "datetime.datetime.utcfromtimestamp(df['time in unix seconds'][0])"
   ]
  },
  {
   "cell_type": "markdown",
   "metadata": {},
   "source": [
    "Apply that same transformation to each element in the column using an unnamed function (hence the lambda keyword)"
   ]
  },
  {
   "cell_type": "code",
   "execution_count": 18,
   "metadata": {},
   "outputs": [
    {
     "data": {
      "text/plain": [
       "0   2021-03-24 02:23:14.328610\n",
       "1   2021-03-24 02:23:15.404009\n",
       "2   2021-03-24 02:23:16.503925\n",
       "3   2021-03-24 02:23:17.590095\n",
       "4   2021-03-24 02:23:18.667900\n",
       "Name: datetime, dtype: datetime64[ns]"
      ]
     },
     "execution_count": 18,
     "metadata": {},
     "output_type": "execute_result"
    }
   ],
   "source": [
    "df['datetime'] = df['time in unix seconds'].apply(lambda x: datetime.datetime.utcfromtimestamp(x))\n",
    "df['datetime'].head()"
   ]
  },
  {
   "cell_type": "markdown",
   "metadata": {},
   "source": [
    "<BR>\n",
    "Now the dataframe has two equivalent columns with different types - a float and a datetime"
   ]
  },
  {
   "cell_type": "code",
   "execution_count": 19,
   "metadata": {},
   "outputs": [
    {
     "name": "stdout",
     "output_type": "stream",
     "text": [
      "time in unix seconds\n",
      "datetime\n"
     ]
    }
   ],
   "source": [
    "for this_col in list(df.columns):\n",
    "    if ('date' in this_col) or ('second' in this_col):\n",
    "        print(this_col)"
   ]
  },
  {
   "cell_type": "markdown",
   "metadata": {},
   "source": [
    "<BR>\n",
    "Let's view these two columns side-by-side"
   ]
  },
  {
   "cell_type": "code",
   "execution_count": 20,
   "metadata": {},
   "outputs": [
    {
     "data": {
      "text/html": [
       "<div>\n",
       "<style scoped>\n",
       "    .dataframe tbody tr th:only-of-type {\n",
       "        vertical-align: middle;\n",
       "    }\n",
       "\n",
       "    .dataframe tbody tr th {\n",
       "        vertical-align: top;\n",
       "    }\n",
       "\n",
       "    .dataframe thead th {\n",
       "        text-align: right;\n",
       "    }\n",
       "</style>\n",
       "<table border=\"1\" class=\"dataframe\">\n",
       "  <thead>\n",
       "    <tr style=\"text-align: right;\">\n",
       "      <th></th>\n",
       "      <th>datetime</th>\n",
       "      <th>time in unix seconds</th>\n",
       "    </tr>\n",
       "  </thead>\n",
       "  <tbody>\n",
       "    <tr>\n",
       "      <td>0</td>\n",
       "      <td>2021-03-24 02:23:14.328610</td>\n",
       "      <td>1.616553e+09</td>\n",
       "    </tr>\n",
       "    <tr>\n",
       "      <td>1</td>\n",
       "      <td>2021-03-24 02:23:15.404009</td>\n",
       "      <td>1.616553e+09</td>\n",
       "    </tr>\n",
       "    <tr>\n",
       "      <td>2</td>\n",
       "      <td>2021-03-24 02:23:16.503925</td>\n",
       "      <td>1.616553e+09</td>\n",
       "    </tr>\n",
       "    <tr>\n",
       "      <td>3</td>\n",
       "      <td>2021-03-24 02:23:17.590095</td>\n",
       "      <td>1.616553e+09</td>\n",
       "    </tr>\n",
       "    <tr>\n",
       "      <td>4</td>\n",
       "      <td>2021-03-24 02:23:18.667900</td>\n",
       "      <td>1.616553e+09</td>\n",
       "    </tr>\n",
       "  </tbody>\n",
       "</table>\n",
       "</div>"
      ],
      "text/plain": [
       "                    datetime  time in unix seconds\n",
       "0 2021-03-24 02:23:14.328610          1.616553e+09\n",
       "1 2021-03-24 02:23:15.404009          1.616553e+09\n",
       "2 2021-03-24 02:23:16.503925          1.616553e+09\n",
       "3 2021-03-24 02:23:17.590095          1.616553e+09\n",
       "4 2021-03-24 02:23:18.667900          1.616553e+09"
      ]
     },
     "execution_count": 20,
     "metadata": {},
     "output_type": "execute_result"
    }
   ],
   "source": [
    "df[['datetime','time in unix seconds']].head()"
   ]
  },
  {
   "cell_type": "markdown",
   "metadata": {},
   "source": [
    "Revisit our previous visualization, but using the datetime object for the x-axis"
   ]
  },
  {
   "cell_type": "code",
   "execution_count": 24,
   "metadata": {},
   "outputs": [
    {
     "data": {
      "image/png": "[encoded data removed]",
      "text/plain": [
       "<Figure size 432x288 with 1 Axes>"
      ]
     },
     "metadata": {
      "needs_background": "light"
     },
     "output_type": "display_data"
    }
   ],
   "source": [
    "plt.plot(df['datetime'],df['CPU 1 times user']);"
   ]
  },
  {
   "cell_type": "markdown",
   "metadata": {},
   "source": [
    "Matlab does some cleanup of the x-axis labels, but the labels overlap. \n",
    "\n",
    "One approach to address this is rotating the labels"
   ]
  },
  {
   "cell_type": "code",
   "execution_count": 25,
   "metadata": {},
   "outputs": [
    {
     "data": {
      "image/png": "[encoded data removed]",
      "text/plain": [
       "<Figure size 432x288 with 1 Axes>"
      ]
     },
     "metadata": {
      "needs_background": "light"
     },
     "output_type": "display_data"
    }
   ],
   "source": [
    "plt.plot(df['datetime'],df['CPU 1 times user']);\n",
    "plt.xticks(rotation=45); # in degrees"
   ]
  },
  {
   "cell_type": "markdown",
   "metadata": {},
   "source": [
    "That's more readable"
   ]
  },
  {
   "cell_type": "markdown",
   "metadata": {},
   "source": [
    "Since we'll need to refer to the datetime for every column, converting the dataframe index from integers to datetime objects is useful\n",
    "\n",
    "By default, the index is a range of integers"
   ]
  },
  {
   "cell_type": "code",
   "execution_count": 26,
   "metadata": {},
   "outputs": [
    {
     "data": {
      "text/plain": [
       "RangeIndex(start=0, stop=600, step=1)"
      ]
     },
     "execution_count": 26,
     "metadata": {},
     "output_type": "execute_result"
    }
   ],
   "source": [
    "df.index"
   ]
  },
  {
   "cell_type": "markdown",
   "metadata": {},
   "source": [
    "To see the values of the dataframe index, convert the .index to a list"
   ]
  },
  {
   "cell_type": "code",
   "execution_count": 28,
   "metadata": {},
   "outputs": [
    {
     "data": {
      "text/plain": [
       "[0, 1, 2, 3, 4, 5, 6, 7, 8, 9]"
      ]
     },
     "execution_count": 28,
     "metadata": {},
     "output_type": "execute_result"
    }
   ],
   "source": [
    "list(df.index)[0:10]"
   ]
  },
  {
   "cell_type": "markdown",
   "metadata": {},
   "source": [
    "we can set the index to be the values in the 'datetime' column<BR>\n",
    "https://stackoverflow.com/questions/42941310/creating-pandas-dataframe-with-datetime-index-and-random-values-in-column"
   ]
  },
  {
   "cell_type": "code",
   "execution_count": 29,
   "metadata": {},
   "outputs": [],
   "source": [
    "df = df.set_index('datetime')"
   ]
  },
  {
   "cell_type": "code",
   "execution_count": 30,
   "metadata": {},
   "outputs": [
    {
     "data": {
      "text/html": [
       "<div>\n",
       "<style scoped>\n",
       "    .dataframe tbody tr th:only-of-type {\n",
       "        vertical-align: middle;\n",
       "    }\n",
       "\n",
       "    .dataframe tbody tr th {\n",
       "        vertical-align: top;\n",
       "    }\n",
       "\n",
       "    .dataframe thead th {\n",
       "        text-align: right;\n",
       "    }\n",
       "</style>\n",
       "<table border=\"1\" class=\"dataframe\">\n",
       "  <thead>\n",
       "    <tr style=\"text-align: right;\">\n",
       "      <th></th>\n",
       "      <th>CPU percent for 0</th>\n",
       "      <th>CPU percent for 1</th>\n",
       "      <th>CPU percent for 2</th>\n",
       "      <th>CPU percent for 3</th>\n",
       "      <th>CPU percent for 4</th>\n",
       "      <th>CPU percent for 5</th>\n",
       "      <th>CPU percent for 6</th>\n",
       "      <th>CPU percent for 7</th>\n",
       "      <th>CPU percent for 8</th>\n",
       "      <th>CPU percent for 9</th>\n",
       "      <th>...</th>\n",
       "      <th>process memory: vms</th>\n",
       "      <th>process memory: pfaults</th>\n",
       "      <th>process memory: pageins</th>\n",
       "      <th>process memory: uss</th>\n",
       "      <th>process cpu times: user</th>\n",
       "      <th>process cpu times: system</th>\n",
       "      <th>process cpu times: children_user</th>\n",
       "      <th>process cpu times: children_system</th>\n",
       "      <th>process number context switches: voluntary</th>\n",
       "      <th>process number context switches: involuntary</th>\n",
       "    </tr>\n",
       "    <tr>\n",
       "      <th>datetime</th>\n",
       "      <th></th>\n",
       "      <th></th>\n",
       "      <th></th>\n",
       "      <th></th>\n",
       "      <th></th>\n",
       "      <th></th>\n",
       "      <th></th>\n",
       "      <th></th>\n",
       "      <th></th>\n",
       "      <th></th>\n",
       "      <th></th>\n",
       "      <th></th>\n",
       "      <th></th>\n",
       "      <th></th>\n",
       "      <th></th>\n",
       "      <th></th>\n",
       "      <th></th>\n",
       "      <th></th>\n",
       "      <th></th>\n",
       "      <th></th>\n",
       "      <th></th>\n",
       "    </tr>\n",
       "  </thead>\n",
       "  <tbody>\n",
       "    <tr>\n",
       "      <td>2021-03-24 02:23:14.328610</td>\n",
       "      <td>25.3</td>\n",
       "      <td>0.2</td>\n",
       "      <td>19.3</td>\n",
       "      <td>0.2</td>\n",
       "      <td>14.4</td>\n",
       "      <td>0.1</td>\n",
       "      <td>12.1</td>\n",
       "      <td>0.1</td>\n",
       "      <td>9.1</td>\n",
       "      <td>0.1</td>\n",
       "      <td>...</td>\n",
       "      <td>4724727808</td>\n",
       "      <td>23531</td>\n",
       "      <td>823</td>\n",
       "      <td>49836032</td>\n",
       "      <td>0.489987</td>\n",
       "      <td>0.146503</td>\n",
       "      <td>0.0</td>\n",
       "      <td>0.0</td>\n",
       "      <td>140728898422242</td>\n",
       "      <td>0</td>\n",
       "    </tr>\n",
       "    <tr>\n",
       "      <td>2021-03-24 02:23:15.404009</td>\n",
       "      <td>19.4</td>\n",
       "      <td>0.0</td>\n",
       "      <td>16.7</td>\n",
       "      <td>0.0</td>\n",
       "      <td>8.4</td>\n",
       "      <td>0.0</td>\n",
       "      <td>9.3</td>\n",
       "      <td>0.0</td>\n",
       "      <td>4.7</td>\n",
       "      <td>0.9</td>\n",
       "      <td>...</td>\n",
       "      <td>4724727808</td>\n",
       "      <td>23531</td>\n",
       "      <td>823</td>\n",
       "      <td>49836032</td>\n",
       "      <td>0.490010</td>\n",
       "      <td>0.146514</td>\n",
       "      <td>0.0</td>\n",
       "      <td>0.0</td>\n",
       "      <td>140728898422243</td>\n",
       "      <td>0</td>\n",
       "    </tr>\n",
       "    <tr>\n",
       "      <td>2021-03-24 02:23:16.503925</td>\n",
       "      <td>22.0</td>\n",
       "      <td>0.0</td>\n",
       "      <td>20.0</td>\n",
       "      <td>0.0</td>\n",
       "      <td>12.6</td>\n",
       "      <td>0.0</td>\n",
       "      <td>12.6</td>\n",
       "      <td>0.0</td>\n",
       "      <td>10.8</td>\n",
       "      <td>0.0</td>\n",
       "      <td>...</td>\n",
       "      <td>4724727808</td>\n",
       "      <td>23531</td>\n",
       "      <td>823</td>\n",
       "      <td>49836032</td>\n",
       "      <td>0.490036</td>\n",
       "      <td>0.146529</td>\n",
       "      <td>0.0</td>\n",
       "      <td>0.0</td>\n",
       "      <td>140728898422244</td>\n",
       "      <td>0</td>\n",
       "    </tr>\n",
       "    <tr>\n",
       "      <td>2021-03-24 02:23:17.590095</td>\n",
       "      <td>20.0</td>\n",
       "      <td>0.0</td>\n",
       "      <td>17.6</td>\n",
       "      <td>0.0</td>\n",
       "      <td>10.2</td>\n",
       "      <td>0.0</td>\n",
       "      <td>9.3</td>\n",
       "      <td>0.9</td>\n",
       "      <td>7.4</td>\n",
       "      <td>0.0</td>\n",
       "      <td>...</td>\n",
       "      <td>4724727808</td>\n",
       "      <td>23531</td>\n",
       "      <td>823</td>\n",
       "      <td>49836032</td>\n",
       "      <td>0.490061</td>\n",
       "      <td>0.146544</td>\n",
       "      <td>0.0</td>\n",
       "      <td>0.0</td>\n",
       "      <td>140728898422245</td>\n",
       "      <td>0</td>\n",
       "    </tr>\n",
       "    <tr>\n",
       "      <td>2021-03-24 02:23:18.667900</td>\n",
       "      <td>12.1</td>\n",
       "      <td>0.9</td>\n",
       "      <td>15.7</td>\n",
       "      <td>0.0</td>\n",
       "      <td>8.4</td>\n",
       "      <td>0.0</td>\n",
       "      <td>2.8</td>\n",
       "      <td>0.0</td>\n",
       "      <td>3.7</td>\n",
       "      <td>0.0</td>\n",
       "      <td>...</td>\n",
       "      <td>4724727808</td>\n",
       "      <td>23531</td>\n",
       "      <td>823</td>\n",
       "      <td>49836032</td>\n",
       "      <td>0.490086</td>\n",
       "      <td>0.146565</td>\n",
       "      <td>0.0</td>\n",
       "      <td>0.0</td>\n",
       "      <td>140728898422246</td>\n",
       "      <td>0</td>\n",
       "    </tr>\n",
       "  </tbody>\n",
       "</table>\n",
       "<p>5 rows × 116 columns</p>\n",
       "</div>"
      ],
      "text/plain": [
       "                            CPU percent for 0  CPU percent for 1  \\\n",
       "datetime                                                           \n",
       "2021-03-24 02:23:14.328610               25.3                0.2   \n",
       "2021-03-24 02:23:15.404009               19.4                0.0   \n",
       "2021-03-24 02:23:16.503925               22.0                0.0   \n",
       "2021-03-24 02:23:17.590095               20.0                0.0   \n",
       "2021-03-24 02:23:18.667900               12.1                0.9   \n",
       "\n",
       "                            CPU percent for 2  CPU percent for 3  \\\n",
       "datetime                                                           \n",
       "2021-03-24 02:23:14.328610               19.3                0.2   \n",
       "2021-03-24 02:23:15.404009               16.7                0.0   \n",
       "2021-03-24 02:23:16.503925               20.0                0.0   \n",
       "2021-03-24 02:23:17.590095               17.6                0.0   \n",
       "2021-03-24 02:23:18.667900               15.7                0.0   \n",
       "\n",
       "                            CPU percent for 4  CPU percent for 5  \\\n",
       "datetime                                                           \n",
       "2021-03-24 02:23:14.328610               14.4                0.1   \n",
       "2021-03-24 02:23:15.404009                8.4                0.0   \n",
       "2021-03-24 02:23:16.503925               12.6                0.0   \n",
       "2021-03-24 02:23:17.590095               10.2                0.0   \n",
       "2021-03-24 02:23:18.667900                8.4                0.0   \n",
       "\n",
       "                            CPU percent for 6  CPU percent for 7  \\\n",
       "datetime                                                           \n",
       "2021-03-24 02:23:14.328610               12.1                0.1   \n",
       "2021-03-24 02:23:15.404009                9.3                0.0   \n",
       "2021-03-24 02:23:16.503925               12.6                0.0   \n",
       "2021-03-24 02:23:17.590095                9.3                0.9   \n",
       "2021-03-24 02:23:18.667900                2.8                0.0   \n",
       "\n",
       "                            CPU percent for 8  CPU percent for 9  ...  \\\n",
       "datetime                                                          ...   \n",
       "2021-03-24 02:23:14.328610                9.1                0.1  ...   \n",
       "2021-03-24 02:23:15.404009                4.7                0.9  ...   \n",
       "2021-03-24 02:23:16.503925               10.8                0.0  ...   \n",
       "2021-03-24 02:23:17.590095                7.4                0.0  ...   \n",
       "2021-03-24 02:23:18.667900                3.7                0.0  ...   \n",
       "\n",
       "                            process memory: vms  process memory: pfaults  \\\n",
       "datetime                                                                   \n",
       "2021-03-24 02:23:14.328610           4724727808                    23531   \n",
       "2021-03-24 02:23:15.404009           4724727808                    23531   \n",
       "2021-03-24 02:23:16.503925           4724727808                    23531   \n",
       "2021-03-24 02:23:17.590095           4724727808                    23531   \n",
       "2021-03-24 02:23:18.667900           4724727808                    23531   \n",
       "\n",
       "                            process memory: pageins  process memory: uss  \\\n",
       "datetime                                                                   \n",
       "2021-03-24 02:23:14.328610                      823             49836032   \n",
       "2021-03-24 02:23:15.404009                      823             49836032   \n",
       "2021-03-24 02:23:16.503925                      823             49836032   \n",
       "2021-03-24 02:23:17.590095                      823             49836032   \n",
       "2021-03-24 02:23:18.667900                      823             49836032   \n",
       "\n",
       "                            process cpu times: user  \\\n",
       "datetime                                              \n",
       "2021-03-24 02:23:14.328610                 0.489987   \n",
       "2021-03-24 02:23:15.404009                 0.490010   \n",
       "2021-03-24 02:23:16.503925                 0.490036   \n",
       "2021-03-24 02:23:17.590095                 0.490061   \n",
       "2021-03-24 02:23:18.667900                 0.490086   \n",
       "\n",
       "                            process cpu times: system  \\\n",
       "datetime                                                \n",
       "2021-03-24 02:23:14.328610                   0.146503   \n",
       "2021-03-24 02:23:15.404009                   0.146514   \n",
       "2021-03-24 02:23:16.503925                   0.146529   \n",
       "2021-03-24 02:23:17.590095                   0.146544   \n",
       "2021-03-24 02:23:18.667900                   0.146565   \n",
       "\n",
       "                            process cpu times: children_user  \\\n",
       "datetime                                                       \n",
       "2021-03-24 02:23:14.328610                               0.0   \n",
       "2021-03-24 02:23:15.404009                               0.0   \n",
       "2021-03-24 02:23:16.503925                               0.0   \n",
       "2021-03-24 02:23:17.590095                               0.0   \n",
       "2021-03-24 02:23:18.667900                               0.0   \n",
       "\n",
       "                            process cpu times: children_system  \\\n",
       "datetime                                                         \n",
       "2021-03-24 02:23:14.328610                                 0.0   \n",
       "2021-03-24 02:23:15.404009                                 0.0   \n",
       "2021-03-24 02:23:16.503925                                 0.0   \n",
       "2021-03-24 02:23:17.590095                                 0.0   \n",
       "2021-03-24 02:23:18.667900                                 0.0   \n",
       "\n",
       "                            process number context switches: voluntary  \\\n",
       "datetime                                                                 \n",
       "2021-03-24 02:23:14.328610                             140728898422242   \n",
       "2021-03-24 02:23:15.404009                             140728898422243   \n",
       "2021-03-24 02:23:16.503925                             140728898422244   \n",
       "2021-03-24 02:23:17.590095                             140728898422245   \n",
       "2021-03-24 02:23:18.667900                             140728898422246   \n",
       "\n",
       "                            process number context switches: involuntary  \n",
       "datetime                                                                  \n",
       "2021-03-24 02:23:14.328610                                             0  \n",
       "2021-03-24 02:23:15.404009                                             0  \n",
       "2021-03-24 02:23:16.503925                                             0  \n",
       "2021-03-24 02:23:17.590095                                             0  \n",
       "2021-03-24 02:23:18.667900                                             0  \n",
       "\n",
       "[5 rows x 116 columns]"
      ]
     },
     "execution_count": 30,
     "metadata": {},
     "output_type": "execute_result"
    }
   ],
   "source": [
    "df.head()"
   ]
  },
  {
   "cell_type": "code",
   "execution_count": 36,
   "metadata": {},
   "outputs": [
    {
     "data": {
      "image/png": "[encoded data removed]",
      "text/plain": [
       "<Figure size 432x288 with 1 Axes>"
      ]
     },
     "metadata": {
      "needs_background": "light"
     },
     "output_type": "display_data"
    }
   ],
   "source": [
    "plt.plot(df['CPU 1 times user']);\n",
    "plt.plot(df['CPU percent for 0']);\n",
    "plt.plot(df['CPU percent for 9']);\n"
   ]
  },
  {
   "cell_type": "code",
   "execution_count": null,
   "metadata": {},
   "outputs": [],
   "source": []
  }
 ],
 "metadata": {
  "kernelspec": {
   "display_name": "Python 3",
   "language": "python",
   "name": "python3"
  },
  "language_info": {
   "codemirror_mode": {
    "name": "ipython",
    "version": 3
   },
   "file_extension": ".py",
   "mimetype": "text/x-python",
   "name": "python",
   "nbconvert_exporter": "python",
   "pygments_lexer": "ipython3",
   "version": "3.7.4"
  },
  "varInspector": {
   "cols": {
    "lenName": 16,
    "lenType": 16,
    "lenVar": 40
   },
   "kernels_config": {
    "python": {
     "delete_cmd_postfix": "",
     "delete_cmd_prefix": "del ",
     "library": "var_list.py",
     "varRefreshCmd": "print(var_dic_list())"
    },
    "r": {
     "delete_cmd_postfix": ") ",
     "delete_cmd_prefix": "rm(",
     "library": "var_list.r",
     "varRefreshCmd": "cat(var_dic_list()) "
    }
   },
   "types_to_exclude": [
    "module",
    "function",
    "builtin_function_or_method",
    "instance",
    "_Feature"
   ],
   "window_display": false
  }
 },
 "nbformat": 4,
 "nbformat_minor": 2
}

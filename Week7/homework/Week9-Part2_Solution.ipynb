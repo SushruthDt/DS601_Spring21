{
 "cells": [
  {
   "cell_type": "markdown",
   "metadata": {},
   "source": [
    "Assignment 2: Simulate a fair die and a biased 6-sided die. \n",
    "\n",
    "The biased die has probabilities {0.15, 0.15, 0.15, 0.15, 0.15, 0.25}. \n",
    "\n",
    "Create a visualization that compares outcomes of multiple rolls of a fair die and this biased die. \n",
    "\n",
    "You can use a single visualization or multiple visualizations to demonstrate the difference in outcomes for the dice. \n",
    "\n",
    "The user of your notebook should be able to alter the number of simulations as an argument to a function.\n"
   ]
  },
  {
   "cell_type": "code",
   "execution_count": 1,
   "metadata": {},
   "outputs": [],
   "source": [
    "import random\n",
    "import matplotlib.pyplot as plt"
   ]
  },
  {
   "cell_type": "code",
   "execution_count": 2,
   "metadata": {},
   "outputs": [],
   "source": [
    "def fair_die_simuations(count =500, color='red', alpha=1):\n",
    "    options = [1,2,3,4,5,6]\n",
    "    simulations = [random.choice(options) for _ in range(count)]\n",
    "    counts = {}\n",
    "    \n",
    "    for i in options:\n",
    "        counts[i] = simulations.count(i)\n",
    "        \n",
    "    print('fair', counts)\n",
    "    \n",
    "    plt.bar(counts.keys(), counts.values(), color=color, alpha=alpha)"
   ]
  },
  {
   "cell_type": "code",
   "execution_count": 3,
   "metadata": {},
   "outputs": [],
   "source": [
    "# fair_die_simuations(10000)"
   ]
  },
  {
   "cell_type": "code",
   "execution_count": 4,
   "metadata": {},
   "outputs": [],
   "source": [
    "def biased_die_simuations(count =500, color='blue', alpha=1):\n",
    "    options = [1,2,3,4,5,6]\n",
    "    simulations = random.choices(options,weights=[0.15, 0.15, 0.15, 0.15, 0.15, 0.25], k=count)\n",
    "    counts = {}\n",
    "    \n",
    "    for i in options:\n",
    "        counts[i] = simulations.count(i)\n",
    "        \n",
    "    print('biased', counts)\n",
    "    \n",
    "    plt.bar(counts.keys(), counts.values(), color=color, alpha=alpha)"
   ]
  },
  {
   "cell_type": "code",
   "execution_count": 5,
   "metadata": {},
   "outputs": [],
   "source": [
    "# biased_die_simuations()"
   ]
  },
  {
   "cell_type": "code",
   "execution_count": 6,
   "metadata": {},
   "outputs": [],
   "source": [
    "def biased_vs_unbiased(count=1000):\n",
    "    fair_die_simuations(count, 'red',alpha=0.5);\n",
    "    biased_die_simuations(count, 'blue', alpha=0.5)"
   ]
  },
  {
   "cell_type": "code",
   "execution_count": 7,
   "metadata": {},
   "outputs": [
    {
     "name": "stdout",
     "output_type": "stream",
     "text": [
      "fair {1: 183, 2: 164, 3: 166, 4: 160, 5: 168, 6: 159}\n",
      "biased {1: 164, 2: 141, 3: 138, 4: 135, 5: 168, 6: 254}\n"
     ]
    },
    {
     "data": {
      "image/png": "[encoded data removed]",
      "text/plain": [
       "<Figure size 432x288 with 1 Axes>"
      ]
     },
     "metadata": {
      "needs_background": "light"
     },
     "output_type": "display_data"
    }
   ],
   "source": [
    "biased_vs_unbiased()"
   ]
  },
  {
   "cell_type": "code",
   "execution_count": null,
   "metadata": {},
   "outputs": [],
   "source": []
  }
 ],
 "metadata": {
  "kernelspec": {
   "display_name": "Python 3",
   "language": "python",
   "name": "python3"
  },
  "language_info": {
   "codemirror_mode": {
    "name": "ipython",
    "version": 3
   },
   "file_extension": ".py",
   "mimetype": "text/x-python",
   "name": "python",
   "nbconvert_exporter": "python",
   "pygments_lexer": "ipython3",
   "version": "3.7.4"
  },
  "varInspector": {
   "cols": {
    "lenName": 16,
    "lenType": 16,
    "lenVar": 40
   },
   "kernels_config": {
    "python": {
     "delete_cmd_postfix": "",
     "delete_cmd_prefix": "del ",
     "library": "var_list.py",
     "varRefreshCmd": "print(var_dic_list())"
    },
    "r": {
     "delete_cmd_postfix": ") ",
     "delete_cmd_prefix": "rm(",
     "library": "var_list.r",
     "varRefreshCmd": "cat(var_dic_list()) "
    }
   },
   "types_to_exclude": [
    "module",
    "function",
    "builtin_function_or_method",
    "instance",
    "_Feature"
   ],
   "window_display": false
  }
 },
 "nbformat": 4,
 "nbformat_minor": 2
}

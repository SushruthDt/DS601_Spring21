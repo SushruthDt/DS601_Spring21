{
 "cells": [
  {
   "cell_type": "code",
   "execution_count": 1,
   "metadata": {},
   "outputs": [],
   "source": [
    "import random\n",
    "import timeit\n",
    "import time"
   ]
  },
  {
   "cell_type": "code",
   "execution_count": 2,
   "metadata": {},
   "outputs": [],
   "source": [
    "def create_sequence_of_interest(length_of_seq):\n",
    "    \"\"\"\n",
    "    create a sequence of given length containing integer values, either 0 or 1\n",
    "\n",
    "    this is intended to represent the outcome of a sequence of coin flips\n",
    "    \"\"\"\n",
    "    list_of_flips=[]\n",
    "    for this_flip in range(length_of_seq):\n",
    "        list_of_flips.append(random.randint(0, 1))\n",
    "    return list_of_flips\n",
    "\n"
   ]
  },
  {
   "cell_type": "code",
   "execution_count": 3,
   "metadata": {},
   "outputs": [],
   "source": [
    "# create_sequence_of_interest(10)"
   ]
  },
  {
   "cell_type": "code",
   "execution_count": 4,
   "metadata": {},
   "outputs": [],
   "source": [
    "def find_match(sequence_of_interest):\n",
    "    \"\"\"\n",
    "    given a sequence of integers (either 1 or 2), flip a coin until that sequence is found\n",
    "    \"\"\"\n",
    "    interested_seq = list(sequence_of_interest)\n",
    "    seq = []\n",
    "    while True:\n",
    "        if len(interested_seq) == 0:\n",
    "            # print(seq)\n",
    "            break\n",
    "\n",
    "        flip_result = random.choice([0,1])\n",
    "        seq.append(flip_result)\n",
    "\n",
    "        if interested_seq[0] == flip_result:\n",
    "            interested_seq.pop(0)\n",
    "        else:\n",
    "            interested_seq = list(sequence_of_interest)\n",
    "\n",
    "    #print(\"number of coin flips:\",number_of_coin_flips)\n",
    "#     elapsed = timeit.default_timer() - start_time\n",
    "    #print(str(elapsed) + \" seconds\")\n",
    "#     return elapsed, number_of_coin_flips\n",
    "\n",
    "    return seq\n",
    "    "
   ]
  },
  {
   "cell_type": "code",
   "execution_count": 5,
   "metadata": {},
   "outputs": [],
   "source": [
    "number_of_tries_per_loop=1000\n",
    "start_length=3\n",
    "end_length=10"
   ]
  },
  {
   "cell_type": "code",
   "execution_count": 6,
   "metadata": {},
   "outputs": [
    {
     "name": "stdout",
     "output_type": "stream",
     "text": [
      "elapsed: 1615420678.5602636 seconds\n"
     ]
    }
   ],
   "source": [
    "list_of_result_dicts=[] \n",
    "\n",
    "main_start_time = timeit.default_timer()\n",
    "for length_of_seq in range(3,10):\n",
    "    for this_try in range(number_of_tries_per_loop):\n",
    "        start_time = timeit.default_timer()\n",
    "        \n",
    "        sequence_of_interest = create_sequence_of_interest(length_of_seq)\n",
    "        # print(sequence_of_interest)\n",
    "        \n",
    "        seq = find_match(sequence_of_interest)\n",
    "        \n",
    "        elapsed = timeit.default_timer() - start_time\n",
    "        \n",
    "        number_of_coin_flips = len(seq)\n",
    "        # print(elapsed,\"seconds\")\n",
    "        # print(number_of_coin_flips)\n",
    "        this_result={}\n",
    "        this_result['elapsed time in seconds'] = elapsed\n",
    "        this_result['number of flips'] = number_of_coin_flips\n",
    "        this_result['sequence length'] = length_of_seq\n",
    "        list_of_result_dicts.append(this_result)\n",
    "        \n",
    "print('elapsed:',time.time()-main_start_time,'seconds')"
   ]
  },
  {
   "cell_type": "code",
   "execution_count": 7,
   "metadata": {},
   "outputs": [
    {
     "data": {
      "text/plain": [
       "'0.25.1'"
      ]
     },
     "execution_count": 7,
     "metadata": {},
     "output_type": "execute_result"
    }
   ],
   "source": [
    "import pandas\n",
    "pandas.__version__"
   ]
  },
  {
   "cell_type": "code",
   "execution_count": 8,
   "metadata": {},
   "outputs": [
    {
     "data": {
      "text/html": [
       "<div>\n",
       "<style scoped>\n",
       "    .dataframe tbody tr th:only-of-type {\n",
       "        vertical-align: middle;\n",
       "    }\n",
       "\n",
       "    .dataframe tbody tr th {\n",
       "        vertical-align: top;\n",
       "    }\n",
       "\n",
       "    .dataframe thead th {\n",
       "        text-align: right;\n",
       "    }\n",
       "</style>\n",
       "<table border=\"1\" class=\"dataframe\">\n",
       "  <thead>\n",
       "    <tr style=\"text-align: right;\">\n",
       "      <th></th>\n",
       "      <th>elapsed time in seconds</th>\n",
       "      <th>number of flips</th>\n",
       "      <th>sequence length</th>\n",
       "    </tr>\n",
       "  </thead>\n",
       "  <tbody>\n",
       "    <tr>\n",
       "      <td>0</td>\n",
       "      <td>0.000040</td>\n",
       "      <td>7</td>\n",
       "      <td>3</td>\n",
       "    </tr>\n",
       "    <tr>\n",
       "      <td>1</td>\n",
       "      <td>0.000014</td>\n",
       "      <td>6</td>\n",
       "      <td>3</td>\n",
       "    </tr>\n",
       "    <tr>\n",
       "      <td>2</td>\n",
       "      <td>0.000013</td>\n",
       "      <td>5</td>\n",
       "      <td>3</td>\n",
       "    </tr>\n",
       "    <tr>\n",
       "      <td>3</td>\n",
       "      <td>0.000008</td>\n",
       "      <td>3</td>\n",
       "      <td>3</td>\n",
       "    </tr>\n",
       "    <tr>\n",
       "      <td>4</td>\n",
       "      <td>0.000036</td>\n",
       "      <td>24</td>\n",
       "      <td>3</td>\n",
       "    </tr>\n",
       "    <tr>\n",
       "      <td>5</td>\n",
       "      <td>0.000071</td>\n",
       "      <td>29</td>\n",
       "      <td>3</td>\n",
       "    </tr>\n",
       "    <tr>\n",
       "      <td>6</td>\n",
       "      <td>0.000026</td>\n",
       "      <td>13</td>\n",
       "      <td>3</td>\n",
       "    </tr>\n",
       "    <tr>\n",
       "      <td>7</td>\n",
       "      <td>0.000023</td>\n",
       "      <td>12</td>\n",
       "      <td>3</td>\n",
       "    </tr>\n",
       "    <tr>\n",
       "      <td>8</td>\n",
       "      <td>0.000024</td>\n",
       "      <td>15</td>\n",
       "      <td>3</td>\n",
       "    </tr>\n",
       "    <tr>\n",
       "      <td>9</td>\n",
       "      <td>0.000021</td>\n",
       "      <td>13</td>\n",
       "      <td>3</td>\n",
       "    </tr>\n",
       "  </tbody>\n",
       "</table>\n",
       "</div>"
      ],
      "text/plain": [
       "   elapsed time in seconds  number of flips  sequence length\n",
       "0                 0.000040                7                3\n",
       "1                 0.000014                6                3\n",
       "2                 0.000013                5                3\n",
       "3                 0.000008                3                3\n",
       "4                 0.000036               24                3\n",
       "5                 0.000071               29                3\n",
       "6                 0.000026               13                3\n",
       "7                 0.000023               12                3\n",
       "8                 0.000024               15                3\n",
       "9                 0.000021               13                3"
      ]
     },
     "execution_count": 8,
     "metadata": {},
     "output_type": "execute_result"
    }
   ],
   "source": [
    "results_df = pandas.DataFrame(list_of_result_dicts)\n",
    "results_df.head(10)"
   ]
  },
  {
   "cell_type": "code",
   "execution_count": 9,
   "metadata": {},
   "outputs": [
    {
     "data": {
      "text/plain": [
       "'3.1.1'"
      ]
     },
     "execution_count": 9,
     "metadata": {},
     "output_type": "execute_result"
    }
   ],
   "source": [
    "import matplotlib\n",
    "import matplotlib.pyplot as plt\n",
    "matplotlib.__version__"
   ]
  },
  {
   "cell_type": "code",
   "execution_count": 10,
   "metadata": {},
   "outputs": [
    {
     "data": {
      "image/png": "[encoded data removed]",
      "text/plain": [
       "<Figure size 432x288 with 1 Axes>"
      ]
     },
     "metadata": {
      "needs_background": "light"
     },
     "output_type": "display_data"
    }
   ],
   "source": [
    "results_df.plot.scatter(x='sequence length',y='elapsed time in seconds')\n",
    "plt.show()"
   ]
  },
  {
   "cell_type": "code",
   "execution_count": 11,
   "metadata": {},
   "outputs": [
    {
     "data": {
      "image/png": "[encoded data removed]",
      "text/plain": [
       "<Figure size 432x288 with 1 Axes>"
      ]
     },
     "metadata": {
      "needs_background": "light"
     },
     "output_type": "display_data"
    }
   ],
   "source": [
    "results_df.plot.scatter(x='sequence length',y='number of flips')\n",
    "plt.show()"
   ]
  },
  {
   "cell_type": "code",
   "execution_count": 12,
   "metadata": {},
   "outputs": [
    {
     "data": {
      "text/html": [
       "<div>\n",
       "<style scoped>\n",
       "    .dataframe tbody tr th:only-of-type {\n",
       "        vertical-align: middle;\n",
       "    }\n",
       "\n",
       "    .dataframe tbody tr th {\n",
       "        vertical-align: top;\n",
       "    }\n",
       "\n",
       "    .dataframe thead tr th {\n",
       "        text-align: left;\n",
       "    }\n",
       "\n",
       "    .dataframe thead tr:last-of-type th {\n",
       "        text-align: right;\n",
       "    }\n",
       "</style>\n",
       "<table border=\"1\" class=\"dataframe\">\n",
       "  <thead>\n",
       "    <tr>\n",
       "      <th></th>\n",
       "      <th colspan=\"8\" halign=\"left\">elapsed time in seconds</th>\n",
       "      <th colspan=\"8\" halign=\"left\">number of flips</th>\n",
       "    </tr>\n",
       "    <tr>\n",
       "      <th></th>\n",
       "      <th>count</th>\n",
       "      <th>mean</th>\n",
       "      <th>std</th>\n",
       "      <th>min</th>\n",
       "      <th>25%</th>\n",
       "      <th>50%</th>\n",
       "      <th>75%</th>\n",
       "      <th>max</th>\n",
       "      <th>count</th>\n",
       "      <th>mean</th>\n",
       "      <th>std</th>\n",
       "      <th>min</th>\n",
       "      <th>25%</th>\n",
       "      <th>50%</th>\n",
       "      <th>75%</th>\n",
       "      <th>max</th>\n",
       "    </tr>\n",
       "    <tr>\n",
       "      <th>sequence length</th>\n",
       "      <th></th>\n",
       "      <th></th>\n",
       "      <th></th>\n",
       "      <th></th>\n",
       "      <th></th>\n",
       "      <th></th>\n",
       "      <th></th>\n",
       "      <th></th>\n",
       "      <th></th>\n",
       "      <th></th>\n",
       "      <th></th>\n",
       "      <th></th>\n",
       "      <th></th>\n",
       "      <th></th>\n",
       "      <th></th>\n",
       "      <th></th>\n",
       "    </tr>\n",
       "  </thead>\n",
       "  <tbody>\n",
       "    <tr>\n",
       "      <td>3</td>\n",
       "      <td>1000.0</td>\n",
       "      <td>0.000023</td>\n",
       "      <td>0.000021</td>\n",
       "      <td>0.000007</td>\n",
       "      <td>0.000011</td>\n",
       "      <td>0.000017</td>\n",
       "      <td>0.000028</td>\n",
       "      <td>0.000341</td>\n",
       "      <td>1000.0</td>\n",
       "      <td>13.987</td>\n",
       "      <td>12.847486</td>\n",
       "      <td>3.0</td>\n",
       "      <td>5.00</td>\n",
       "      <td>10.0</td>\n",
       "      <td>18.00</td>\n",
       "      <td>105.0</td>\n",
       "    </tr>\n",
       "    <tr>\n",
       "      <td>4</td>\n",
       "      <td>1000.0</td>\n",
       "      <td>0.000038</td>\n",
       "      <td>0.000031</td>\n",
       "      <td>0.000008</td>\n",
       "      <td>0.000017</td>\n",
       "      <td>0.000028</td>\n",
       "      <td>0.000048</td>\n",
       "      <td>0.000206</td>\n",
       "      <td>1000.0</td>\n",
       "      <td>30.696</td>\n",
       "      <td>28.383926</td>\n",
       "      <td>4.0</td>\n",
       "      <td>10.75</td>\n",
       "      <td>21.0</td>\n",
       "      <td>42.00</td>\n",
       "      <td>208.0</td>\n",
       "    </tr>\n",
       "    <tr>\n",
       "      <td>5</td>\n",
       "      <td>1000.0</td>\n",
       "      <td>0.000067</td>\n",
       "      <td>0.000062</td>\n",
       "      <td>0.000010</td>\n",
       "      <td>0.000024</td>\n",
       "      <td>0.000048</td>\n",
       "      <td>0.000085</td>\n",
       "      <td>0.000402</td>\n",
       "      <td>1000.0</td>\n",
       "      <td>60.719</td>\n",
       "      <td>60.418328</td>\n",
       "      <td>5.0</td>\n",
       "      <td>20.00</td>\n",
       "      <td>43.0</td>\n",
       "      <td>79.00</td>\n",
       "      <td>444.0</td>\n",
       "    </tr>\n",
       "    <tr>\n",
       "      <td>6</td>\n",
       "      <td>1000.0</td>\n",
       "      <td>0.000126</td>\n",
       "      <td>0.000115</td>\n",
       "      <td>0.000012</td>\n",
       "      <td>0.000046</td>\n",
       "      <td>0.000088</td>\n",
       "      <td>0.000166</td>\n",
       "      <td>0.000868</td>\n",
       "      <td>1000.0</td>\n",
       "      <td>126.356</td>\n",
       "      <td>118.081143</td>\n",
       "      <td>6.0</td>\n",
       "      <td>43.00</td>\n",
       "      <td>88.0</td>\n",
       "      <td>170.25</td>\n",
       "      <td>919.0</td>\n",
       "    </tr>\n",
       "    <tr>\n",
       "      <td>7</td>\n",
       "      <td>1000.0</td>\n",
       "      <td>0.000235</td>\n",
       "      <td>0.000220</td>\n",
       "      <td>0.000014</td>\n",
       "      <td>0.000080</td>\n",
       "      <td>0.000164</td>\n",
       "      <td>0.000316</td>\n",
       "      <td>0.001831</td>\n",
       "      <td>1000.0</td>\n",
       "      <td>244.496</td>\n",
       "      <td>225.653193</td>\n",
       "      <td>7.0</td>\n",
       "      <td>78.00</td>\n",
       "      <td>175.5</td>\n",
       "      <td>340.00</td>\n",
       "      <td>1827.0</td>\n",
       "    </tr>\n",
       "    <tr>\n",
       "      <td>8</td>\n",
       "      <td>1000.0</td>\n",
       "      <td>0.000505</td>\n",
       "      <td>0.000497</td>\n",
       "      <td>0.000017</td>\n",
       "      <td>0.000165</td>\n",
       "      <td>0.000354</td>\n",
       "      <td>0.000675</td>\n",
       "      <td>0.003593</td>\n",
       "      <td>1000.0</td>\n",
       "      <td>511.511</td>\n",
       "      <td>490.751827</td>\n",
       "      <td>8.0</td>\n",
       "      <td>166.75</td>\n",
       "      <td>363.5</td>\n",
       "      <td>686.75</td>\n",
       "      <td>2863.0</td>\n",
       "    </tr>\n",
       "    <tr>\n",
       "      <td>9</td>\n",
       "      <td>1000.0</td>\n",
       "      <td>0.000996</td>\n",
       "      <td>0.001025</td>\n",
       "      <td>0.000018</td>\n",
       "      <td>0.000299</td>\n",
       "      <td>0.000669</td>\n",
       "      <td>0.001374</td>\n",
       "      <td>0.009600</td>\n",
       "      <td>1000.0</td>\n",
       "      <td>1044.140</td>\n",
       "      <td>1064.065994</td>\n",
       "      <td>9.0</td>\n",
       "      <td>306.75</td>\n",
       "      <td>719.0</td>\n",
       "      <td>1442.25</td>\n",
       "      <td>10642.0</td>\n",
       "    </tr>\n",
       "  </tbody>\n",
       "</table>\n",
       "</div>"
      ],
      "text/plain": [
       "                elapsed time in seconds                                \\\n",
       "                                  count      mean       std       min   \n",
       "sequence length                                                         \n",
       "3                                1000.0  0.000023  0.000021  0.000007   \n",
       "4                                1000.0  0.000038  0.000031  0.000008   \n",
       "5                                1000.0  0.000067  0.000062  0.000010   \n",
       "6                                1000.0  0.000126  0.000115  0.000012   \n",
       "7                                1000.0  0.000235  0.000220  0.000014   \n",
       "8                                1000.0  0.000505  0.000497  0.000017   \n",
       "9                                1000.0  0.000996  0.001025  0.000018   \n",
       "\n",
       "                                                        number of flips  \\\n",
       "                      25%       50%       75%       max           count   \n",
       "sequence length                                                           \n",
       "3                0.000011  0.000017  0.000028  0.000341          1000.0   \n",
       "4                0.000017  0.000028  0.000048  0.000206          1000.0   \n",
       "5                0.000024  0.000048  0.000085  0.000402          1000.0   \n",
       "6                0.000046  0.000088  0.000166  0.000868          1000.0   \n",
       "7                0.000080  0.000164  0.000316  0.001831          1000.0   \n",
       "8                0.000165  0.000354  0.000675  0.003593          1000.0   \n",
       "9                0.000299  0.000669  0.001374  0.009600          1000.0   \n",
       "\n",
       "                                                                              \n",
       "                     mean          std  min     25%    50%      75%      max  \n",
       "sequence length                                                               \n",
       "3                  13.987    12.847486  3.0    5.00   10.0    18.00    105.0  \n",
       "4                  30.696    28.383926  4.0   10.75   21.0    42.00    208.0  \n",
       "5                  60.719    60.418328  5.0   20.00   43.0    79.00    444.0  \n",
       "6                 126.356   118.081143  6.0   43.00   88.0   170.25    919.0  \n",
       "7                 244.496   225.653193  7.0   78.00  175.5   340.00   1827.0  \n",
       "8                 511.511   490.751827  8.0  166.75  363.5   686.75   2863.0  \n",
       "9                1044.140  1064.065994  9.0  306.75  719.0  1442.25  10642.0  "
      ]
     },
     "execution_count": 12,
     "metadata": {},
     "output_type": "execute_result"
    }
   ],
   "source": [
    "results_df.groupby('sequence length').describe()"
   ]
  },
  {
   "cell_type": "markdown",
   "metadata": {},
   "source": [
    "We can add error bars to the plot for each sequence length\n",
    "\n",
    "https://matplotlib.org/api/_as_gen/matplotlib.pyplot.errorbar.html\n",
    "\n",
    "https://matplotlib.org/1.2.1/examples/pylab_examples/errorbar_demo.html\n",
    "\n",
    "https://matplotlib.org/gallery/statistics/errorbar_features.html\n",
    "\n",
    "or use a violin plot"
   ]
  },
  {
   "cell_type": "code",
   "execution_count": 13,
   "metadata": {},
   "outputs": [
    {
     "data": {
      "text/plain": [
       "'0.9.0'"
      ]
     },
     "execution_count": 13,
     "metadata": {},
     "output_type": "execute_result"
    }
   ],
   "source": [
    "import seaborn\n",
    "seaborn.__version__"
   ]
  },
  {
   "cell_type": "code",
   "execution_count": 14,
   "metadata": {},
   "outputs": [
    {
     "data": {
      "image/png": "[encoded data removed]",
      "text/plain": [
       "<Figure size 432x288 with 1 Axes>"
      ]
     },
     "metadata": {
      "needs_background": "light"
     },
     "output_type": "display_data"
    }
   ],
   "source": [
    "ax = seaborn.violinplot(x=\"sequence length\", \n",
    "                        y=\"number of flips\", \n",
    "                        data=results_df,\n",
    "                        showmeans=True,\n",
    "                        showextrema=True,\n",
    "                        showmedians=True)"
   ]
  },
  {
   "cell_type": "code",
   "execution_count": null,
   "metadata": {},
   "outputs": [],
   "source": []
  }
 ],
 "metadata": {
  "kernelspec": {
   "display_name": "Python 3",
   "language": "python",
   "name": "python3"
  },
  "language_info": {
   "codemirror_mode": {
    "name": "ipython",
    "version": 3
   },
   "file_extension": ".py",
   "mimetype": "text/x-python",
   "name": "python",
   "nbconvert_exporter": "python",
   "pygments_lexer": "ipython3",
   "version": "3.7.4"
  },
  "varInspector": {
   "cols": {
    "lenName": 16,
    "lenType": 16,
    "lenVar": 40
   },
   "kernels_config": {
    "python": {
     "delete_cmd_postfix": "",
     "delete_cmd_prefix": "del ",
     "library": "var_list.py",
     "varRefreshCmd": "print(var_dic_list())"
    },
    "r": {
     "delete_cmd_postfix": ") ",
     "delete_cmd_prefix": "rm(",
     "library": "var_list.r",
     "varRefreshCmd": "cat(var_dic_list()) "
    }
   },
   "types_to_exclude": [
    "module",
    "function",
    "builtin_function_or_method",
    "instance",
    "_Feature"
   ],
   "window_display": false
  }
 },
 "nbformat": 4,
 "nbformat_minor": 2
}

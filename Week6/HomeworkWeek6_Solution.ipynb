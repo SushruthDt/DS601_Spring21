{
 "cells": [
  {
   "cell_type": "markdown",
   "metadata": {},
   "source": [
    "## Homework Week6"
   ]
  },
  {
   "cell_type": "markdown",
   "metadata": {},
   "source": [
    "(One of the solutions)\n",
    "\n",
    "1. There is a bug in this program. Find, explain & fix.\n",
    "1. Fill the docstrings (python documentation) \n",
    "    * What the function does\n",
    "    * what it expects\n",
    "    * what it returns\n",
    "\n",
    "1. Add a new method to `clear` the ShoppingList class"
   ]
  },
  {
   "cell_type": "markdown",
   "metadata": {},
   "source": [
    "<b><u>The bug</u></b>: The bug comes from the fact that the class is not fully encapsulated. It uses the global variable `items` (defined outside the class) within the methods of the class. This means that when methods are called for the two objects of the ShoppingList class (husband and wife), they act on the <i>same</i> list of items. Each object should have their own list and calling a method for one should not impact the other.\n",
    "\n",
    "<b><u>The fix</u></b>: To fix this bug, I encapsulated the `items` within the class and initialized it in the constructor. Since the constructor is executed for each object separately, each object will have its own list."
   ]
  },
  {
   "cell_type": "code",
   "execution_count": 1,
   "metadata": {},
   "outputs": [],
   "source": [
    "#items = []\n",
    "\n",
    "class ShoppingList:\n",
    "    \n",
    "    def __init__(self):\n",
    "        \"\"\"\n",
    "        Initialize the state of the class for each object that is created\n",
    "        Creates an empty shopping list for the object if no existing shopping list is passed in\n",
    "        \n",
    "        Parameters:\n",
    "        –––––––––––\n",
    "        self: object passed into class\n",
    "        items: list \n",
    "            optional\n",
    "        \n",
    "        Returns:\n",
    "        ––––––––\n",
    "        None\n",
    "        \"\"\"\n",
    "  \n",
    "        self.items = []\n",
    "        \n",
    "    def add_item(self, item):\n",
    "        \"\"\"\n",
    "        Adds an item to the shopping list\n",
    "        \n",
    "        Parameters:\n",
    "        –––––––––––\n",
    "        item: str\n",
    "        \n",
    "        Returns:\n",
    "        ––––––––\n",
    "        length of the list: int \n",
    "        \"\"\"\n",
    "        \n",
    "        self.items.append(item)\n",
    "        \n",
    "        return len(self.items)\n",
    "\n",
    "    def remove_item(self, item):\n",
    "        \"\"\"\n",
    "        Removes one item from the shopping list\n",
    "        \n",
    "        Parameters:\n",
    "        –––––––––––\n",
    "        item: str\n",
    "        \n",
    "        Returns:\n",
    "        ––––––––\n",
    "        length of the list: int \n",
    "        \"\"\"\n",
    "        \n",
    "        self.items.remove(item)\n",
    "        \n",
    "        return len(self.items)\n",
    "    \n",
    "    def get_items(self):\n",
    "        \"\"\"\n",
    "        Shows the complete list of items on the shopping list\n",
    "        \n",
    "        Parameters:\n",
    "        –––––––––––\n",
    "        None\n",
    "        \n",
    "        Returns:\n",
    "        ––––––––\n",
    "        shopping list: list\n",
    "        \"\"\"\n",
    "        \n",
    "        return self.items\n",
    "    \n",
    "    def clear(self):\n",
    "        \"\"\"\n",
    "        Clears the shopping list of all items\n",
    "        \n",
    "        Parameters:\n",
    "        –––––––––––\n",
    "        None\n",
    "        \n",
    "        Returns:\n",
    "        ––––––––\n",
    "        None\n",
    "        \"\"\"\n",
    "        \n",
    "        self.items.clear()\n",
    "        \n",
    "        return 0 # for consistency"
   ]
  },
  {
   "cell_type": "code",
   "execution_count": 2,
   "metadata": {},
   "outputs": [],
   "source": [
    "husband = ShoppingList()\n",
    "wife = ShoppingList()"
   ]
  },
  {
   "cell_type": "code",
   "execution_count": 3,
   "metadata": {},
   "outputs": [
    {
     "data": {
      "text/plain": [
       "1"
      ]
     },
     "execution_count": 3,
     "metadata": {},
     "output_type": "execute_result"
    }
   ],
   "source": [
    "husband.add_item('ps5')\n",
    "wife.add_item('dress')"
   ]
  },
  {
   "cell_type": "code",
   "execution_count": 4,
   "metadata": {},
   "outputs": [
    {
     "data": {
      "text/plain": [
       "['ps5']"
      ]
     },
     "execution_count": 4,
     "metadata": {},
     "output_type": "execute_result"
    }
   ],
   "source": [
    "husband.get_items()"
   ]
  },
  {
   "cell_type": "code",
   "execution_count": 5,
   "metadata": {},
   "outputs": [
    {
     "data": {
      "text/plain": [
       "['dress']"
      ]
     },
     "execution_count": 5,
     "metadata": {},
     "output_type": "execute_result"
    }
   ],
   "source": [
    "wife.get_items()"
   ]
  },
  {
   "cell_type": "code",
   "execution_count": 6,
   "metadata": {},
   "outputs": [
    {
     "data": {
      "text/plain": [
       "0"
      ]
     },
     "execution_count": 6,
     "metadata": {},
     "output_type": "execute_result"
    }
   ],
   "source": [
    "husband.clear()"
   ]
  },
  {
   "cell_type": "code",
   "execution_count": 7,
   "metadata": {},
   "outputs": [
    {
     "data": {
      "text/plain": [
       "[]"
      ]
     },
     "execution_count": 7,
     "metadata": {},
     "output_type": "execute_result"
    }
   ],
   "source": [
    "husband.get_items()"
   ]
  },
  {
   "cell_type": "code",
   "execution_count": 8,
   "metadata": {},
   "outputs": [
    {
     "data": {
      "text/plain": [
       "['dress']"
      ]
     },
     "execution_count": 8,
     "metadata": {},
     "output_type": "execute_result"
    }
   ],
   "source": [
    "wife.get_items()"
   ]
  },
  {
   "cell_type": "code",
   "execution_count": null,
   "metadata": {},
   "outputs": [],
   "source": []
  }
 ],
 "metadata": {
  "kernelspec": {
   "display_name": "Python 3",
   "language": "python",
   "name": "python3"
  },
  "language_info": {
   "codemirror_mode": {
    "name": "ipython",
    "version": 3
   },
   "file_extension": ".py",
   "mimetype": "text/x-python",
   "name": "python",
   "nbconvert_exporter": "python",
   "pygments_lexer": "ipython3",
   "version": "3.7.4"
  },
  "varInspector": {
   "cols": {
    "lenName": 16,
    "lenType": 16,
    "lenVar": 40
   },
   "kernels_config": {
    "python": {
     "delete_cmd_postfix": "",
     "delete_cmd_prefix": "del ",
     "library": "var_list.py",
     "varRefreshCmd": "print(var_dic_list())"
    },
    "r": {
     "delete_cmd_postfix": ") ",
     "delete_cmd_prefix": "rm(",
     "library": "var_list.r",
     "varRefreshCmd": "cat(var_dic_list()) "
    }
   },
   "types_to_exclude": [
    "module",
    "function",
    "builtin_function_or_method",
    "instance",
    "_Feature"
   ],
   "window_display": false
  }
 },
 "nbformat": 4,
 "nbformat_minor": 2
}
